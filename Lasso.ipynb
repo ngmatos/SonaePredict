{
 "cells": [
  {
   "cell_type": "code",
   "execution_count": 2,
   "metadata": {
    "collapsed": false
   },
   "outputs": [
    {
     "name": "stdout",
     "output_type": "stream",
     "text": [
      "Reading chunks from ColumnedDatasetNonNegativeWithDateImputerBinary.h5\nReading at chunk 1\nReading at chunk 2\nReading at chunk 3\nReading at chunk 4\nReading at chunk 5\n"
     ]
    },
    {
     "name": "stdout",
     "output_type": "stream",
     "text": [
      "Reading at chunk 6\nReading at chunk 7\nReading at chunk 8\nReading at chunk 9\nReading at chunk 10\nReading at chunk 11\nReading at chunk 12\nReading at chunk 13\nReading at chunk 14\nReading at chunk 15\nReading at chunk 16\nReading at chunk 17\nReading at chunk 18\nReading at chunk 19\nReading at chunk 20\nReading at chunk 21\n"
     ]
    },
    {
     "name": "stdout",
     "output_type": "stream",
     "text": [
      "Reading at chunk 22\nReading at chunk 23\nReading at chunk 24\nReading at chunk 25\nReading at chunk 26\nReading at chunk 27\nReading at chunk 28\nReading at chunk 29\nReading at chunk 30\nReading at chunk 31\nReading at chunk 32\nReading at chunk 33\nReading at chunk 34\nReading at chunk 35\nReading at chunk 36\n"
     ]
    },
    {
     "name": "stdout",
     "output_type": "stream",
     "text": [
      "Reading at chunk 37\nReading at chunk 38\nReading at chunk 39\nReading at chunk 40\nReading at chunk 41\nReading at chunk 42\nReading at chunk 43\nReading at chunk 44\nReading at chunk 45\nReading at chunk 46\nReading at chunk 47\nReading at chunk 48\nReading at chunk 49\nReading at chunk 50\nReading at chunk 51\n"
     ]
    },
    {
     "name": "stdout",
     "output_type": "stream",
     "text": [
      "Reading at chunk 52\nReading at chunk 53\nReading at chunk 54\nReading at chunk 55\nReading at chunk 56\nReading at chunk 57\nReading at chunk 58\nReading at chunk 59\nReading at chunk 60\nReading at chunk 61\nReading at chunk 62\nReading at chunk 63\nReading at chunk 64\nReading at chunk 65\nReading at chunk 66\nReading at chunk 67\n"
     ]
    },
    {
     "name": "stdout",
     "output_type": "stream",
     "text": [
      "Reading at chunk 68\nReading at chunk 69\nReading at chunk 70\nReading at chunk 71\nReading at chunk 72\nReading at chunk 73\nReading at chunk 74\nReading at chunk 75\nReading at chunk 76\nReading at chunk 77\nReading at chunk 78\nReading at chunk 79\nReading at chunk 80\nReading at chunk 81\nReading at chunk 82\nReading at chunk 83\nReading at chunk 84\nReading at chunk 85\n"
     ]
    },
    {
     "name": "stdout",
     "output_type": "stream",
     "text": [
      "Reading at chunk 86\nReading at chunk 87\nReading at chunk 88\nReading at chunk 89\nReading at chunk 90\nReading at chunk 91\nReading at chunk 92\nReading at chunk 93\nReading at chunk 94\nReading at chunk 95\nReading at chunk 96\nReading at chunk 97\nReading at chunk 98\nReading at chunk 99\nReading at chunk 100\nReading at chunk 101\nReading at chunk 102\nReading at chunk 103\n"
     ]
    },
    {
     "name": "stdout",
     "output_type": "stream",
     "text": [
      "Reading at chunk 104\nReading at chunk 105\nReading at chunk 106\nReading at chunk 107\nReading at chunk 108\nReading at chunk 109\nReading at chunk 110\nReading at chunk 111\nReading at chunk 112\nReading at chunk 113\nReading at chunk 114\nReading at chunk 115\nReading at chunk 116\nReading at chunk 117\nReading at chunk 118\nReading at chunk 119\nReading at chunk 120\n"
     ]
    },
    {
     "name": "stdout",
     "output_type": "stream",
     "text": [
      "Reading at chunk 121\nReading at chunk 122\nReading at chunk 123\nReading at chunk 124\nReading at chunk 125\nReading at chunk 126\nReading at chunk 127\nReading at chunk 128\nReading at chunk 129\nReading at chunk 130\nReading at chunk 131\nReading at chunk 132\nReading at chunk 133\nReading at chunk 134\nReading at chunk 135\nReading at chunk 136\nReading at chunk 137\nReading at chunk"
     ]
    },
    {
     "name": "stdout",
     "output_type": "stream",
     "text": [
      " 138\nReading at chunk 139\n"
     ]
    },
    {
     "name": "stdout",
     "output_type": "stream",
     "text": [
      "Reading at chunk 140\nReading at chunk 141\nReading at chunk 142\nReading at chunk 143\nReading at chunk 144\nReading at chunk 145\nReading at chunk 146\nReading at chunk 147\nReading at chunk 148\nReading at chunk 149\nReading at chunk 150\nReading at chunk 151\nReading at chunk 152\nReading at chunk 153\nReading at chunk 154\nReading at chunk 155\nReading at chunk 156\n"
     ]
    },
    {
     "name": "stdout",
     "output_type": "stream",
     "text": [
      "Reading at chunk 157\nReading at chunk 158\nReading at chunk 159\nReading at chunk 160\nReading at chunk 161\nReading at chunk 162\nReading at chunk 163\nReading at chunk 164\nReading at chunk 165\nReading at chunk 166\nReading at chunk 167\nReading at chunk 168\nReading at chunk 169\nReading at chunk 170\nReading at chunk 171\nReading at chunk 172\nReading at chunk 173\n"
     ]
    },
    {
     "name": "stdout",
     "output_type": "stream",
     "text": [
      "Reading at chunk 174\nReading at chunk 175\nReading at chunk 176\nReading at chunk 177\nReading at chunk 178\nReading at chunk 179\nReading at chunk 180\nReading at chunk 181\nReading at chunk 182\nReading at chunk 183\nReading at chunk 184\nReading at chunk 185\nReading at chunk 186\nReading at chunk 187\nReading at chunk 188\nReading at chunk 189\n"
     ]
    },
    {
     "name": "stdout",
     "output_type": "stream",
     "text": [
      "Reading at chunk 190\nReading at chunk 191\nReading at chunk 192\nReading at chunk 193\nReading at chunk 194\nReading at chunk 195\nReading at chunk 196\nReading at chunk 197\nReading at chunk 198\nReading at chunk 199\nReading at chunk 200\nReading at chunk 201\nReading at chunk 202\nReading at chunk 203\nReading at chunk 204\nReading at chunk 205\nReading at chunk"
     ]
    },
    {
     "name": "stdout",
     "output_type": "stream",
     "text": [
      " 206\nReading at chunk 207\nReading at chunk 208\nReading at chunk 209\nReading at chunk 210\nReading at chunk 211\nReading at chunk 212\nReading at chunk 213\nReading at chunk 214\nReading at chunk 215\nReading at chunk 216\nReading at chunk 217\nReading at chunk 218\nReading at chunk 219\nReading at chunk 220\nReading at chunk 221\nReading at chunk 222\nReading at chunk 223\n"
     ]
    },
    {
     "name": "stdout",
     "output_type": "stream",
     "text": [
      "Reading at chunk 224\nReading at chunk 225\nReading at chunk 226\nReading at chunk 227\nReading at chunk 228\nReading at chunk 229\nReading at chunk 230\nReading at chunk 231\nReading at chunk 232\n"
     ]
    },
    {
     "name": "stdout",
     "output_type": "stream",
     "text": [
      "Reading at chunk 233\nReading at chunk 234\nReading at chunk 235\nReading at chunk 236\nReading at chunk 237\nReading at chunk 238\nReading at chunk 239\nReading at chunk 240\nReading at chunk 241\nReading at chunk 242\n"
     ]
    },
    {
     "name": "stdout",
     "output_type": "stream",
     "text": [
      "Reading at chunk 243\nReading at chunk 244\nReading at chunk 245\nReading at chunk 246\nReading at chunk 247\nReading at chunk 248\nReading at chunk 249\nReading at chunk 250\nReading at chunk 251\nReading at chunk 252\nReading at chunk 253\nReading at chunk 254\nReading at chunk 255\nReading at chunk 256\nReading at chunk 257\n"
     ]
    },
    {
     "name": "stdout",
     "output_type": "stream",
     "text": [
      "Reading at chunk 258\nReading at chunk 259\nReading at chunk 260\nReading at chunk 261\nReading at chunk 262\nReading at chunk 263\nReading at chunk 264\nReading at chunk 265\nReading at chunk 266\nReading at chunk 267\nReading at chunk 268\nReading at chunk 269\nReading at chunk 270\nReading at chunk 271\nReading at chunk 272\nReading at chunk 273\n"
     ]
    },
    {
     "name": "stdout",
     "output_type": "stream",
     "text": [
      "Reading at chunk 274\nReading at chunk 275\nReading at chunk 276\nReading at chunk 277\nReading at chunk 278\nReading at chunk 279\nReading at chunk 280\nReading at chunk 281\nReading at chunk 282\nReading at chunk 283\nReading at chunk 284\nReading at chunk 285\nReading at chunk 286\nReading at chunk 287\nReading at chunk 288\nReading at chunk 289\nReading at chunk 290\n"
     ]
    },
    {
     "name": "stdout",
     "output_type": "stream",
     "text": [
      "Reading at chunk 291\nReading at chunk 292\nReading at chunk 293\nReading at chunk 294\nReading at chunk 295\nReading at chunk 296\nReading at chunk 297\nReading at chunk 298\nReading at chunk 299\nReading at chunk 300\nReading at chunk 301\nReading at chunk 302\nReading at chunk 303\nReading at chunk 304\nReading at chunk 305\nReading at chunk 306\nReading at chunk 307\nReading at chunk 308\n"
     ]
    },
    {
     "name": "stdout",
     "output_type": "stream",
     "text": [
      "Reading at chunk 309\nReading at chunk 310\nReading at chunk 311\nReading at chunk 312\nReading at chunk 313\nReading at chunk 314\nReading at chunk 315\nReading at chunk 316\nReading at chunk 317\nReading at chunk 318\nReading at chunk 319\nReading at chunk 320\nReading at chunk 321\nReading at chunk 322\nReading at chunk 323\nReading at chunk 324\nReading at chunk 325\nReading at chunk 326\nReading at chunk 327\n"
     ]
    },
    {
     "name": "stdout",
     "output_type": "stream",
     "text": [
      "Reading at chunk 328\nReading at chunk 329\nReading at chunk 330\nReading at chunk 331\nReading at chunk 332\nReading at chunk 333\nReading at chunk 334\nReading at chunk 335\nReading at chunk 336\nReading at chunk 337\nReading at chunk 338\nReading at chunk 339\nReading at chunk 340\nReading at chunk 341\nReading at chunk 342\nReading at chunk 343\nReading at chunk 344\n"
     ]
    },
    {
     "name": "stdout",
     "output_type": "stream",
     "text": [
      "Reading at chunk 345\nReading at chunk 346\nReading at chunk 347\nReading at chunk 348\nReading at chunk 349\nReading at chunk 350\nReading at chunk 351\nReading at chunk 352\nReading at chunk 353\nReading at chunk 354\nReading at chunk 355\nReading at chunk 356\nReading at chunk 357\nReading at chunk 358\nReading at chunk 359\nReading at chunk 360\nReading at chunk 361\nReading at chunk 362\n"
     ]
    },
    {
     "name": "stdout",
     "output_type": "stream",
     "text": [
      "Reading at chunk 363\nReading at chunk 364\nReading at chunk 365\nReading at chunk 366\nReading at chunk 367\nReading at chunk 368\nReading at chunk 369\nReading at chunk 370\nReading at chunk 371\nReading at chunk 372\nReading at chunk 373\nReading at chunk 374\nReading at chunk 375\nReading at chunk 376\nReading at chunk"
     ]
    },
    {
     "name": "stdout",
     "output_type": "stream",
     "text": [
      " 377\nReading at chunk 378\nReading at chunk 379\nReading at chunk 380\nReading at chunk 381\nReading at chunk 382\nReading at chunk 383\nReading at chunk 384\nReading at chunk 385\nReading at chunk 386\nReading at chunk 387\nReading at chunk 388\nReading at chunk 389\nReading at chunk 390\nReading at chunk 391\nReading at chunk 392\nReading at chunk 393\n"
     ]
    },
    {
     "name": "stdout",
     "output_type": "stream",
     "text": [
      "Reading at chunk 394\nReading at chunk 395\nReading at chunk 396\nReading at chunk 397\nReading at chunk 398\nReading at chunk 399\nReading at chunk 400\nReading at chunk 401\nReading at chunk 402\nReading at chunk 403\nReading at chunk 404\nReading at chunk 405\nReading at chunk 406\nReading at chunk 407\nReading at chunk 408\nReading at chunk 409\nReading at chunk 410\nReading at chunk 411\nReading at chunk"
     ]
    },
    {
     "name": "stdout",
     "output_type": "stream",
     "text": [
      " 412\nReading at chunk 413\nReading at chunk 414\nReading at chunk 415\nReading at chunk 416\nReading at chunk 417\nReading at chunk 418\nReading at chunk 419\nReading at chunk 420\nReading at chunk 421\nReading at chunk 422\nReading at chunk 423\nReading at chunk 424\nReading at chunk 425\nReading at chunk 426\nReading at chunk 427\nReading at chunk 428\n"
     ]
    },
    {
     "name": "stdout",
     "output_type": "stream",
     "text": [
      "Reading at chunk 429\nReading at chunk 430\nReading at chunk 431\nReading at chunk 432\nReading at chunk 433\nReading at chunk 434\nReading at chunk 435\nReading at chunk 436\nReading at chunk 437\nReading at chunk 438\nReading at chunk 439\nReading at chunk 440\nReading at chunk 441\nReading at chunk 442\nReading at chunk 443\nReading at chunk 444\nReading at chunk"
     ]
    },
    {
     "name": "stdout",
     "output_type": "stream",
     "text": [
      " 445\nReading at chunk 446\nReading at chunk 447\nReading at chunk 448\nReading at chunk 449\nReading at chunk 450\nReading at chunk 451\nReading at chunk 452\nReading at chunk 453\nReading at chunk 454\nReading at chunk 455\nReading at chunk 456\nReading at chunk 457\nReading at chunk 458\nReading at chunk 459\nReading at chunk 460\nReading at chunk 461\n"
     ]
    },
    {
     "name": "stdout",
     "output_type": "stream",
     "text": [
      "Reading at chunk 462\nReading at chunk 463\nReading at chunk 464\nReading at chunk 465\nReading at chunk 466\nReading at chunk 467\nReading at chunk 468\nReading at chunk 469\nReading at chunk 470\nReading at chunk 471\nReading at chunk 472\nReading at chunk 473\nReading at chunk 474\nReading at chunk 475\nReading at chunk 476\n"
     ]
    },
    {
     "name": "stdout",
     "output_type": "stream",
     "text": [
      "Reading at chunk 477\nReading at chunk 478\nReading at chunk 479\nReading at chunk 480\nReading at chunk 481\nReading at chunk 482\nReading at chunk 483\nReading at chunk 484\nReading at chunk 485\nReading at chunk 486\nReading at chunk 487\nReading at chunk 488\nReading at chunk 489\nReading at chunk 490\nReading at chunk 491\nReading at chunk 492\n"
     ]
    },
    {
     "name": "stdout",
     "output_type": "stream",
     "text": [
      "Reading at chunk 493\nReading at chunk 494\nReading at chunk 495\nReading at chunk 496\nReading at chunk 497\nReading at chunk 498\nReading at chunk 499\nReading at chunk 500\nReading at chunk 501\nReading at chunk 502\nReading at chunk 503\nReading at chunk 504\nReading at chunk 505\nReading at chunk 506\nReading at chunk 507\nReading at chunk"
     ]
    },
    {
     "name": "stdout",
     "output_type": "stream",
     "text": [
      " 508\nReading at chunk 509\nReading at chunk 510\nReading at chunk 511\nReading at chunk 512\nReading at chunk 513\nReading at chunk 514\nReading at chunk 515\nReading at chunk 516\nReading at chunk 517\nReading at chunk 518\nReading at chunk 519\nReading at chunk 520\n"
     ]
    },
    {
     "name": "stdout",
     "output_type": "stream",
     "text": [
      "Reading at chunk 521\nReading at chunk 522\nReading at chunk 523\nReading at chunk 524\nReading at chunk 525\nReading at chunk 526\nReading at chunk 527\nReading at chunk 528\nReading at chunk 529\nReading at chunk 530\nReading at chunk 531\nReading at chunk 532\nReading at chunk 533\nReading at chunk 534\n"
     ]
    },
    {
     "name": "stdout",
     "output_type": "stream",
     "text": [
      "Reading at chunk 535\nReading at chunk 536\nReading at chunk 537\nReading at chunk 538\nReading at chunk 539\nReading at chunk 540\nReading at chunk 541\nReading at chunk 542\nReading at chunk 543\nReading at chunk 544\nReading at chunk 545\nReading at chunk 546\nReading at chunk 547\nReading at chunk"
     ]
    },
    {
     "name": "stdout",
     "output_type": "stream",
     "text": [
      " 548\nReading at chunk 549\nReading at chunk 550\nReading at chunk 551\nReading at chunk 552\nReading at chunk 553\nReading at chunk 554\nReading at chunk 555\nReading at chunk 556\nReading at chunk 557\nReading at chunk 558\nReading at chunk 559\nReading at chunk 560\nReading at chunk 561\nReading at chunk 562\nReading at chunk 563\nReading at chunk 564\nReading at chunk 565\n"
     ]
    },
    {
     "name": "stdout",
     "output_type": "stream",
     "text": [
      "Reading at chunk 566\nReading at chunk 567\nReading at chunk 568\nReading at chunk 569\nReading at chunk 570\nReading at chunk 571\nReading at chunk 572\nReading at chunk 573\nReading at chunk 574\nReading at chunk 575\nReading at chunk 576\nReading at chunk 577\nReading at chunk 578\nReading at chunk 579\nReading at chunk 580\nReading at chunk 581\nReading at chunk 582\n"
     ]
    },
    {
     "name": "stdout",
     "output_type": "stream",
     "text": [
      "Reading at chunk 583\nReading at chunk 584\nReading at chunk 585\nReading at chunk 586\nReading at chunk 587\nReading at chunk 588\nReading at chunk 589\nReading at chunk 590\nReading at chunk 591\nReading at chunk 592\nReading at chunk 593\nReading at chunk 594\nReading at chunk 595\nReading at chunk 596\nReading at chunk 597\nReading at chunk 598\n"
     ]
    },
    {
     "name": "stdout",
     "output_type": "stream",
     "text": [
      "Reading at chunk 599\nReading at chunk 600\nReading at chunk 601\nReading at chunk 602\nReading at chunk 603\nReading at chunk 604\nReading at chunk 605\nReading at chunk 606\nReading at chunk 607\nReading at chunk 608\nReading at chunk 609\nReading at chunk 610\nReading at chunk 611\nReading at chunk 612\nReading at chunk 613\nReading at chunk 614\nReading at chunk 615\n"
     ]
    },
    {
     "name": "stdout",
     "output_type": "stream",
     "text": [
      "Reading at chunk 616\nReading at chunk 617\nReading at chunk 618\nReading at chunk 619\nReading at chunk 620\nReading at chunk 621\nReading at chunk 622\nReading at chunk 623\nReading at chunk 624\nReading at chunk 625\nReading at chunk 626\nReading at chunk 627\nReading at chunk 628\nReading at chunk 629\nReading at chunk 630\nReading at chunk 631\n"
     ]
    },
    {
     "name": "stdout",
     "output_type": "stream",
     "text": [
      "Reading at chunk 632\nReading at chunk 633\nReading at chunk 634\nReading at chunk 635\nReading at chunk 636\nReading at chunk 637\nReading at chunk 638\nReading at chunk 639\nReading at chunk 640\nReading at chunk 641\nReading at chunk 642\nReading at chunk 643\nReading at chunk 644\nReading at chunk 645\nReading at chunk 646\n"
     ]
    },
    {
     "name": "stdout",
     "output_type": "stream",
     "text": [
      "Reading at chunk 647\nReading at chunk 648\nReading at chunk 649\nReading at chunk 650\nReading at chunk 651\nReading at chunk 652\nReading at chunk 653\nReading at chunk 654\nReading at chunk 655\nReading at chunk 656\nReading at chunk 657\nReading at chunk 658\nReading at chunk 659\nReading at chunk 660\nReading at chunk 661\nReading at chunk 662\nReading at chunk 663\nReading at chunk 664\n"
     ]
    },
    {
     "name": "stdout",
     "output_type": "stream",
     "text": [
      "Reading at chunk 665\nReading at chunk 666\nReading at chunk 667\nReading at chunk 668\nReading at chunk 669\nReading at chunk 670\nReading at chunk 671\nReading at chunk 672\nReading at chunk 673\nReading at chunk 674\nReading at chunk 675\nReading at chunk 676\nReading at chunk 677\nReading at chunk 678\n"
     ]
    },
    {
     "name": "stdout",
     "output_type": "stream",
     "text": [
      "Reading at chunk 679\nReading at chunk 680\nReading at chunk 681\nReading at chunk 682\nReading at chunk 683\nReading at chunk 684\nReading at chunk 685\nReading at chunk 686\nReading at chunk 687\nReading at chunk 688\nReading at chunk 689\nReading at chunk 690\nReading at chunk 691\nReading at chunk 692\n"
     ]
    },
    {
     "name": "stdout",
     "output_type": "stream",
     "text": [
      "Reading at chunk 693\nReading at chunk 694\nReading at chunk 695\nReading at chunk 696\nReading at chunk 697\nReading at chunk 698\nReading at chunk 699\nReading at chunk 700\nReading at chunk 701\nReading at chunk 702\nReading at chunk 703\nReading at chunk 704\nReading at chunk 705\nReading at chunk 706\nReading at chunk 707\nReading at chunk 708\nReading at chunk 709\n"
     ]
    },
    {
     "name": "stdout",
     "output_type": "stream",
     "text": [
      "Reading at chunk 710\nReading at chunk 711\nReading at chunk 712\nReading at chunk 713\nReading at chunk 714\nReading at chunk 715\nReading at chunk 716\nReading at chunk 717\nReading at chunk 718\nReading at chunk 719\nReading at chunk 720\nReading at chunk 721\nReading at chunk 722\nReading at chunk 723\nReading at chunk 724\nReading at chunk 725\n"
     ]
    },
    {
     "name": "stdout",
     "output_type": "stream",
     "text": [
      "Reading at chunk 726\nReading at chunk 727\nReading at chunk 728\nReading at chunk 729\nReading at chunk 730\nReading at chunk 731\nReading at chunk 732\nReading at chunk 733\nReading at chunk 734\nReading at chunk 735\nReading at chunk 736\nReading at chunk 737\nReading at chunk 738\nReading at chunk 739\nReading at chunk 740\nReading at chunk"
     ]
    },
    {
     "name": "stdout",
     "output_type": "stream",
     "text": [
      " 741\nReading at chunk 742\nReading at chunk 743\nReading at chunk 744\nReading at chunk 745\nReading at chunk 746\nReading at chunk 747\nReading at chunk 748\nReading at chunk 749\nReading at chunk 750\nReading at chunk 751\nReading at chunk 752\nReading at chunk 753\nReading at chunk 754\nReading at chunk 755\nReading at chunk 756\nReading at chunk 757\n"
     ]
    },
    {
     "name": "stdout",
     "output_type": "stream",
     "text": [
      "Reading at chunk 758\nReading at chunk 759\nReading at chunk 760\nReading at chunk 761\nReading at chunk 762\nReading at chunk 763\nReading at chunk 764\nReading at chunk 765\nReading at chunk 766\nReading at chunk 767\nReading at chunk 768\nReading at chunk 769\nReading at chunk 770\nReading at chunk 771\nReading at chunk 772\nReading at chunk"
     ]
    },
    {
     "name": "stdout",
     "output_type": "stream",
     "text": [
      " 773\nReading at chunk 774\nReading at chunk 775\nReading at chunk 776\nReading at chunk 777\nReading at chunk 778\nReading at chunk 779\nReading at chunk 780\nReading at chunk 781\nReading at chunk 782\nReading at chunk 783\nReading at chunk 784\nReading at chunk"
     ]
    },
    {
     "name": "stdout",
     "output_type": "stream",
     "text": [
      " 785\nReading at chunk 786\nReading at chunk 787\nReading at chunk 788\nReading at chunk 789\nReading at chunk 790\nReading at chunk 791\nReading at chunk 792\n"
     ]
    },
    {
     "name": "stdout",
     "output_type": "stream",
     "text": [
      "Reading at chunk 793\nReading at chunk 794\nReading at chunk 795\nReading at chunk 796\nReading at chunk 797\nReading at chunk 798\nReading at chunk 799\nReading at chunk 800\nReading at chunk 801\nReading at chunk 802\nReading at chunk 803\nReading at chunk 804\nReading at chunk 805\nReading at chunk 806\nReading at chunk 807\nReading at chunk 808\nReading at chunk 809\n"
     ]
    },
    {
     "name": "stdout",
     "output_type": "stream",
     "text": [
      "Reading at chunk 810\nReading at chunk 811\nReading at chunk 812\nReading at chunk 813\nReading at chunk 814\nReading at chunk 815\nReading at chunk 816\nReading at chunk 817\nReading at chunk 818\nReading at chunk 819\nReading at chunk 820\nReading at chunk 821\nReading at chunk 822\nReading at chunk 823\nReading at chunk 824\nReading at chunk 825\nReading at chunk 826\n"
     ]
    },
    {
     "name": "stdout",
     "output_type": "stream",
     "text": [
      "Reading at chunk 827\nReading at chunk 828\nReading at chunk 829\nReading at chunk 830\nReading at chunk 831\nReading at chunk 832\nReading at chunk 833\nReading at chunk 834\nReading at chunk 835\nReading at chunk 836\nReading at chunk 837\nReading at chunk 838\nReading at chunk 839\nReading at chunk 840\nReading at chunk 841\nReading at chunk 842\nReading at chunk 843\n"
     ]
    },
    {
     "name": "stdout",
     "output_type": "stream",
     "text": [
      "Reading at chunk 844\nReading at chunk 845\nReading at chunk 846\nReading at chunk 847\nReading at chunk 848\nReading at chunk 849\nReading at chunk 850\nReading at chunk 851\nReading at chunk 852\nReading at chunk 853\nReading at chunk 854\nReading at chunk 855\nReading at chunk 856\nReading at chunk 857\nReading at chunk 858\n"
     ]
    },
    {
     "name": "stdout",
     "output_type": "stream",
     "text": [
      "Reading at chunk 859\nReading at chunk 860\nReading at chunk 861\nReading at chunk 862\nReading at chunk 863\nReading at chunk 864\nReading at chunk 865\nReading at chunk 866\nReading at chunk 867\nReading at chunk 868\nReading at chunk 869\nReading at chunk 870\nReading at chunk 871\nReading at chunk 872\nReading at chunk 873\nReading at chunk 874\nReading at chunk 875\nReading at chunk 876\n"
     ]
    },
    {
     "name": "stdout",
     "output_type": "stream",
     "text": [
      "Reading at chunk 877\nReading at chunk 878\nReading at chunk 879\nReading at chunk 880\nReading at chunk 881\nReading at chunk 882\nReading at chunk 883\nReading at chunk 884\nReading at chunk 885\nReading at chunk 886\nReading at chunk 887\nReading at chunk 888\nReading at chunk 889\nReading at chunk 890\nReading at chunk 891\nReading at chunk 892\nReading at chunk 893\nReading at chunk 894\n"
     ]
    },
    {
     "name": "stdout",
     "output_type": "stream",
     "text": [
      "Reading at chunk 895\nReading at chunk 896\nReading at chunk 897\nReading at chunk 898\nReading at chunk 899\nReading at chunk 900\nReading at chunk 901\nReading at chunk 902\nReading at chunk 903\nReading at chunk 904\nReading at chunk 905\nReading at chunk 906\nReading at chunk 907\nReading at chunk 908\nReading at chunk 909\nReading at chunk 910\nReading at chunk 911\nReading at chunk"
     ]
    },
    {
     "name": "stdout",
     "output_type": "stream",
     "text": [
      " 912\nReading at chunk 913\nReading at chunk 914\nReading at chunk 915\nReading at chunk 916\nReading at chunk 917\nReading at chunk 918\nReading at chunk 919\nReading at chunk 920\nReading at chunk 921\nReading at chunk 922\nReading at chunk 923\nReading at chunk 924\nReading at chunk 925\nReading at chunk 926\nReading at chunk 927\nReading at chunk 928\nReading at chunk 929\nReading at chunk 930\n"
     ]
    },
    {
     "name": "stdout",
     "output_type": "stream",
     "text": [
      "Reading at chunk 931\nReading at chunk 932\nReading at chunk 933\nReading at chunk 934\nReading at chunk 935\nReading at chunk 936\nReading at chunk 937\nReading at chunk 938\nReading at chunk 939\nReading at chunk 940\nReading at chunk 941\nReading at chunk 942\nReading at chunk 943\nReading at chunk 944\n"
     ]
    },
    {
     "name": "stdout",
     "output_type": "stream",
     "text": [
      "Reading at chunk 945\nReading at chunk 946\nReading at chunk 947\nReading at chunk 948\nReading at chunk 949\nReading at chunk 950\nReading at chunk 951\nReading at chunk 952\nReading at chunk 953\nReading at chunk 954\nReading at chunk 955\nReading at chunk 956\nReading at chunk 957\nReading at chunk 958\nReading at chunk 959\nReading at chunk 960\nReading at chunk"
     ]
    },
    {
     "name": "stdout",
     "output_type": "stream",
     "text": [
      " 961\nReading at chunk 962\nReading at chunk 963\nReading at chunk 964\nReading at chunk 965\nReading at chunk 966\nReading at chunk 967\nReading at chunk 968\nReading at chunk 969\nReading at chunk 970\nReading at chunk 971\nReading at chunk 972\nReading at chunk 973\nReading at chunk 974\nReading at chunk 975\nReading at chunk 976\nReading at chunk 977\nReading at chunk 978\nReading at chunk 979\n"
     ]
    },
    {
     "name": "stdout",
     "output_type": "stream",
     "text": [
      "Reading at chunk 980\nReading at chunk 981\nReading at chunk 982\nReading at chunk 983\nReading at chunk 984\nReading at chunk 985\nReading at chunk 986\nReading at chunk 987\nReading at chunk 988\nReading at chunk 989\nReading at chunk 990\nReading at chunk 991\nReading at chunk 992\nReading at chunk 993\nReading at chunk 994\nReading at chunk 995\nReading at chunk 996\nReading at chunk 997\n"
     ]
    },
    {
     "name": "stdout",
     "output_type": "stream",
     "text": [
      "Reading at chunk 998\nReading at chunk 999\nReading at chunk 1000\nReading at chunk 1001\nReading at chunk 1002\nReading at chunk 1003\nReading at chunk 1004\nReading at chunk 1005\nReading at chunk 1006\nReading at chunk 1007\nReading at chunk 1008\nReading at chunk 1009\n"
     ]
    },
    {
     "name": "stdout",
     "output_type": "stream",
     "text": [
      "Reading at chunk 1010\nReading at chunk 1011\nReading at chunk 1012\nReading at chunk 1013\nReading at chunk 1014\nReading at chunk 1015\nReading at chunk 1016\nReading at chunk 1017\nReading at chunk 1018\nReading at chunk 1019\nReading at chunk 1020\nReading at chunk 1021\nReading at chunk 1022\nReading at chunk 1023\nReading at chunk 1024\nReading at chunk 1025\nReading at chunk 1026\n"
     ]
    },
    {
     "name": "stdout",
     "output_type": "stream",
     "text": [
      "Reading at chunk 1027\nReading at chunk 1028\nReading at chunk 1029\nReading at chunk 1030\nReading at chunk 1031\nReading at chunk 1032\nReading at chunk 1033\nReading at chunk 1034\nReading at chunk 1035\nReading at chunk 1036\nReading at chunk 1037\nReading at chunk 1038\nReading at chunk 1039\nReading at chunk 1040\nReading at chunk 1041\n"
     ]
    },
    {
     "name": "stdout",
     "output_type": "stream",
     "text": [
      "Reading at chunk 1042\nReading at chunk 1043\nReading at chunk 1044\nReading at chunk 1045\nReading at chunk 1046\nReading at chunk 1047\nReading at chunk 1048\nReading at chunk 1049\nReading at chunk 1050\nReading at chunk 1051\nReading at chunk 1052\nReading at chunk 1053\nReading at chunk 1054\n"
     ]
    },
    {
     "name": "stdout",
     "output_type": "stream",
     "text": [
      "Reading at chunk 1055\nReading at chunk 1056\nReading at chunk 1057\nReading at chunk 1058\nReading at chunk 1059\nReading at chunk 1060\nReading at chunk 1061\nReading at chunk 1062\nReading at chunk 1063\nReading at chunk 1064\nReading at chunk 1065\nReading at chunk 1066\nReading at chunk 1067\nReading at chunk 1068\nReading at chunk 1069\n"
     ]
    },
    {
     "name": "stdout",
     "output_type": "stream",
     "text": [
      "Reading at chunk 1070\nReading at chunk 1071\nReading at chunk 1072\nReading at chunk 1073\nReading at chunk 1074\nReading at chunk 1075\nReading at chunk 1076\nReading at chunk 1077\nReading at chunk 1078\nReading at chunk 1079\nReading at chunk 1080\nReading at chunk 1081\nReading at chunk 1082\nReading at chunk 1083\n"
     ]
    },
    {
     "name": "stdout",
     "output_type": "stream",
     "text": [
      "Reading at chunk 1084\nReading at chunk 1085\nReading at chunk 1086\nReading at chunk 1087\nReading at chunk 1088\nReading at chunk 1089\nReading at chunk 1090\nReading at chunk 1091\nReading at chunk 1092\nReading at chunk 1093\nReading at chunk 1094\nReading at chunk 1095\nReading at chunk 1096\nReading at chunk 1097\nReading at chunk 1098\nReading at chunk 1099\nReading at chunk 1100\nReading at chunk 1101\n"
     ]
    },
    {
     "name": "stdout",
     "output_type": "stream",
     "text": [
      "Reading at chunk 1102\nReading at chunk 1103\nReading at chunk 1104\nReading at chunk 1105\nReading at chunk 1106\nReading at chunk 1107\nReading at chunk 1108\nReading at chunk 1109\nReading at chunk 1110\nReading at chunk 1111\nReading at chunk 1112\nReading at chunk 1113\nReading at chunk 1114\nReading at chunk 1115\nReading at chunk 1116\n"
     ]
    },
    {
     "name": "stdout",
     "output_type": "stream",
     "text": [
      "Reading at chunk 1117\nReading at chunk 1118\nReading at chunk 1119\nReading at chunk 1120\nReading at chunk 1121\nReading at chunk 1122\nReading at chunk 1123\nReading at chunk 1124\nReading at chunk 1125\nReading at chunk 1126\nReading at chunk 1127\nReading at chunk 1128\nReading at chunk 1129\nReading at chunk 1130\nReading at chunk 1131\nReading at chunk 1132\nReading at chunk 1133\n"
     ]
    },
    {
     "name": "stdout",
     "output_type": "stream",
     "text": [
      "Reading at chunk 1134\nReading at chunk 1135\nReading at chunk 1136\nReading at chunk 1137\nReading at chunk 1138\nReading at chunk 1139\nReading at chunk 1140\nReading at chunk 1141\nReading at chunk 1142\nReading at chunk 1143\nReading at chunk 1144\nReading at chunk 1145\nReading at chunk 1146\nReading at chunk 1147\n"
     ]
    },
    {
     "name": "stdout",
     "output_type": "stream",
     "text": [
      "Reading at chunk 1148\nReading at chunk 1149\nReading at chunk 1150\nReading at chunk 1151\nReading at chunk 1152\nReading at chunk 1153\nReading at chunk 1154\nReading at chunk 1155\nReading at chunk 1156\nReading at chunk 1157\nReading at chunk 1158\nReading at chunk 1159\nReading at chunk 1160\nReading at chunk 1161\nReading at chunk 1162\nReading at chunk"
     ]
    },
    {
     "name": "stdout",
     "output_type": "stream",
     "text": [
      " 1163\nReading at chunk 1164\nReading at chunk 1165\nReading at chunk 1166\nReading at chunk 1167\nReading at chunk 1168\nReading at chunk 1169\nReading at chunk 1170\nReading at chunk 1171\nReading at chunk 1172\nReading at chunk 1173\nReading at chunk 1174\nReading at chunk 1175\nReading at chunk 1176\nReading at chunk 1177\nReading at chunk 1178\n"
     ]
    },
    {
     "name": "stdout",
     "output_type": "stream",
     "text": [
      "Reading at chunk 1179\nReading at chunk 1180\nReading at chunk 1181\nReading at chunk 1182\nReading at chunk 1183\nReading at chunk 1184\nReading at chunk 1185\nReading at chunk 1186\nReading at chunk 1187\nReading at chunk 1188\nReading at chunk 1189\nReading at chunk 1190\nReading at chunk 1191\nReading at chunk 1192\nReading at chunk 1193\nReading at chunk 1194\n"
     ]
    },
    {
     "name": "stdout",
     "output_type": "stream",
     "text": [
      "Reading at chunk 1195\nReading at chunk 1196\nReading at chunk 1197\nReading at chunk 1198\nReading at chunk 1199\nReading at chunk 1200\nReading at chunk 1201\nReading at chunk 1202\nReading at chunk 1203\nReading at chunk 1204\nReading at chunk 1205\nReading at chunk 1206\nReading at chunk 1207\nReading at chunk 1208\nReading at chunk 1209\nReading at chunk 1210\nReading at chunk 1211\n"
     ]
    },
    {
     "name": "stdout",
     "output_type": "stream",
     "text": [
      "Reading at chunk 1212\nReading at chunk 1213\nReading at chunk 1214\nReading at chunk 1215\nReading at chunk 1216\nReading at chunk 1217\nReading at chunk 1218\nReading at chunk 1219\nReading at chunk 1220\nReading at chunk 1221\nReading at chunk 1222\nReading at chunk 1223\nReading at chunk 1224\nReading at chunk 1225\nReading at chunk 1226\nReading at chunk"
     ]
    },
    {
     "name": "stdout",
     "output_type": "stream",
     "text": [
      " 1227\nReading at chunk 1228\nReading at chunk 1229\nReading at chunk 1230\nReading at chunk 1231\nReading at chunk 1232\nReading at chunk 1233\nReading at chunk 1234\nReading at chunk 1235\nReading at chunk 1236\nReading at chunk 1237\nReading at chunk 1238\nReading at chunk 1239\nReading at chunk 1240\nReading at chunk 1241\nReading at chunk 1242\nReading at chunk 1243\nReading at chunk 1244\n"
     ]
    },
    {
     "name": "stdout",
     "output_type": "stream",
     "text": [
      "Reading at chunk 1245\nReading at chunk 1246\nReading at chunk 1247\nReading at chunk 1248\nReading at chunk 1249\nReading at chunk 1250\nReading at chunk 1251\nReading at chunk 1252\nReading at chunk 1253\nReading at chunk 1254\nReading at chunk 1255\nReading at chunk 1256\nReading at chunk 1257\nReading at chunk 1258\nReading at chunk 1259\nReading at chunk 1260\nReading at chunk 1261\n"
     ]
    },
    {
     "name": "stdout",
     "output_type": "stream",
     "text": [
      "Reading at chunk 1262\nReading at chunk 1263\nReading at chunk 1264\nReading at chunk 1265\nReading at chunk 1266\nReading at chunk 1267\nReading at chunk 1268\nReading at chunk 1269\nReading at chunk 1270\nReading at chunk 1271\nReading at chunk 1272\nReading at chunk 1273\nReading at chunk 1274\nReading at chunk 1275\nReading at chunk 1276\nReading at chunk 1277\nReading at chunk 1278\nReading at chunk 1279\n"
     ]
    },
    {
     "name": "stdout",
     "output_type": "stream",
     "text": [
      "Reading at chunk 1280\nReading at chunk 1281\nReading at chunk 1282\nReading at chunk 1283\nReading at chunk 1284\nReading at chunk 1285\nReading at chunk 1286\nReading at chunk 1287\nReading at chunk 1288\nReading at chunk 1289\nReading at chunk 1290\nReading at chunk 1291\nReading at chunk 1292\nReading at chunk 1293\nReading at chunk 1294\nReading at chunk 1295\nReading at chunk 1296\nReading at chunk"
     ]
    },
    {
     "name": "stdout",
     "output_type": "stream",
     "text": [
      " 1297\nReading at chunk 1298\nReading at chunk 1299\nReading at chunk 1300\nReading at chunk 1301\nReading at chunk 1302\nReading at chunk 1303\nReading at chunk 1304\nReading at chunk 1305\nReading at chunk 1306\nReading at chunk 1307\nReading at chunk 1308\nReading at chunk 1309\nReading at chunk 1310\nReading at chunk 1311\nReading at chunk 1312\nReading at chunk 1313\n"
     ]
    },
    {
     "name": "stdout",
     "output_type": "stream",
     "text": [
      "Reading at chunk 1314\nReading at chunk 1315\nReading at chunk 1316\nReading at chunk 1317\nReading at chunk 1318\nReading at chunk 1319\nReading at chunk 1320\nReading at chunk 1321\nReading at chunk 1322\nReading at chunk 1323\nReading at chunk 1324\nReading at chunk 1325\nReading at chunk 1326\nReading at chunk 1327\nReading at chunk 1328\nReading at chunk 1329\nReading at chunk 1330\nReading at chunk 1331\n"
     ]
    },
    {
     "name": "stdout",
     "output_type": "stream",
     "text": [
      "Reading at chunk 1332\nReading at chunk 1333\nReading at chunk 1334\nReading at chunk 1335\nReading at chunk 1336\nReading at chunk 1337\nReading at chunk 1338\nReading at chunk 1339\nReading at chunk 1340\nReading at chunk 1341\nReading at chunk 1342\nReading at chunk 1343\nReading at chunk 1344\nReading at chunk 1345\nReading at chunk 1346\nReading at chunk 1347\nReading at chunk 1348\nReading at chunk 1349\nReading at chunk"
     ]
    },
    {
     "name": "stdout",
     "output_type": "stream",
     "text": [
      " 1350\nReading at chunk 1351\nReading at chunk 1352\nReading at chunk 1353\nReading at chunk 1354\nReading at chunk 1355\nReading at chunk 1356\nReading at chunk 1357\nReading at chunk 1358\nReading at chunk 1359\nReading at chunk 1360\nReading at chunk 1361\nReading at chunk 1362\nReading at chunk 1363\nReading at chunk 1364\n"
     ]
    },
    {
     "name": "stdout",
     "output_type": "stream",
     "text": [
      "Reading at chunk 1365\nReading at chunk 1366\nReading at chunk 1367\nReading at chunk 1368\nReading at chunk 1369\nReading at chunk 1370\nReading at chunk 1371\nReading at chunk 1372\nReading at chunk 1373\nReading at chunk 1374\nReading at chunk 1375\nReading at chunk 1376\nReading at chunk 1377\nReading at chunk 1378\nReading at chunk 1379\n"
     ]
    },
    {
     "name": "stdout",
     "output_type": "stream",
     "text": [
      "Reading at chunk 1380\nReading at chunk 1381\nReading at chunk 1382\nReading at chunk 1383\nReading at chunk 1384\nReading at chunk 1385\nReading at chunk 1386\nReading at chunk 1387\nReading at chunk 1388\nReading at chunk 1389\nReading at chunk 1390\nReading at chunk 1391\nReading at chunk 1392\nReading at chunk 1393\nReading at chunk 1394\nReading at chunk 1395\nReading at chunk 1396\n"
     ]
    },
    {
     "name": "stdout",
     "output_type": "stream",
     "text": [
      "Reading at chunk 1397\nReading at chunk 1398\nReading at chunk 1399\nReading at chunk 1400\nReading at chunk 1401\nReading at chunk 1402\nReading at chunk 1403\nReading at chunk 1404\nReading at chunk 1405\nReading at chunk 1406\nReading at chunk 1407\nReading at chunk 1408\nReading at chunk 1409\nReading at chunk 1410\nReading at chunk 1411\nReading at chunk 1412\nReading at chunk 1413\nReading at chunk 1414\n"
     ]
    },
    {
     "name": "stdout",
     "output_type": "stream",
     "text": [
      "Reading at chunk 1415\nReading at chunk 1416\nReading at chunk 1417\nReading at chunk 1418\nReading at chunk 1419\nReading at chunk 1420\nReading at chunk 1421\nReading at chunk 1422\nReading at chunk 1423\nReading at chunk 1424\nReading at chunk 1425\nReading at chunk 1426\nReading at chunk 1427\nReading at chunk 1428\nReading at chunk 1429\nReading at chunk 1430\nReading at chunk 1431\n"
     ]
    },
    {
     "name": "stdout",
     "output_type": "stream",
     "text": [
      "Reading at chunk 1432\nReading at chunk 1433\nReading at chunk 1434\nReading at chunk 1435\nReading at chunk 1436\nReading at chunk 1437\nReading at chunk 1438\nReading at chunk 1439\nReading at chunk 1440\nReading at chunk 1441\nReading at chunk 1442\nReading at chunk 1443\nReading at chunk 1444\nReading at chunk 1445\nReading at chunk 1446\nReading at chunk 1447\nReading at chunk 1448\n"
     ]
    },
    {
     "name": "stdout",
     "output_type": "stream",
     "text": [
      "Reading at chunk 1449\nReading at chunk 1450\nReading at chunk 1451\nReading at chunk 1452\nReading at chunk 1453\nReading at chunk 1454\nReading at chunk 1455\nReading at chunk 1456\nReading at chunk 1457\nReading at chunk 1458\nReading at chunk 1459\nReading at chunk 1460\nReading at chunk 1461\nReading at chunk 1462\nReading at chunk 1463\n"
     ]
    },
    {
     "name": "stdout",
     "output_type": "stream",
     "text": [
      "Reading at chunk 1464\nReading at chunk 1465\nReading at chunk 1466\nReading at chunk 1467\nReading at chunk 1468\nReading at chunk 1469\nReading at chunk 1470\nReading at chunk 1471\nReading at chunk 1472\nReading at chunk 1473\nReading at chunk 1474\n"
     ]
    },
    {
     "name": "stdout",
     "output_type": "stream",
     "text": [
      "Reading at chunk 1475\nReading at chunk 1476\nReading at chunk 1477\nReading at chunk 1478\nReading at chunk 1479\nReading at chunk 1480\nReading at chunk 1481\nReading at chunk 1482\nReading at chunk 1483\nReading at chunk 1484\nReading at chunk 1485\nReading at chunk 1486\nReading at chunk 1487\n"
     ]
    },
    {
     "name": "stdout",
     "output_type": "stream",
     "text": [
      "Reading at chunk 1488\nReading at chunk 1489\nReading at chunk 1490\nReading at chunk 1491\nReading at chunk 1492\nReading at chunk 1493\nReading at chunk 1494\nReading at chunk 1495\nReading at chunk 1496\nReading at chunk 1497\nReading at chunk 1498\nReading at chunk 1499\nReading at chunk 1500\nReading at chunk 1501\nReading at chunk 1502\nReading at chunk 1503\n"
     ]
    },
    {
     "name": "stdout",
     "output_type": "stream",
     "text": [
      "Reading at chunk 1504\nReading at chunk 1505\nReading at chunk 1506\nReading at chunk 1507\nReading at chunk 1508\nReading at chunk 1509\nReading at chunk 1510\nReading at chunk 1511\nReading at chunk 1512\nReading at chunk 1513\nReading at chunk 1514\nReading at chunk 1515\nReading at chunk 1516\nReading at chunk 1517\nReading at chunk 1518\n"
     ]
    },
    {
     "name": "stdout",
     "output_type": "stream",
     "text": [
      "Reading at chunk 1519\nReading at chunk 1520\nReading at chunk 1521\nReading at chunk 1522\nReading at chunk 1523\nReading at chunk 1524\nReading at chunk 1525\nReading at chunk 1526\nReading at chunk 1527\nReading at chunk 1528\nReading at chunk 1529\nReading at chunk 1530\nReading at chunk 1531\nReading at chunk 1532\nReading at chunk 1533\nReading at chunk 1534\n"
     ]
    },
    {
     "name": "stdout",
     "output_type": "stream",
     "text": [
      "Reading at chunk 1535\nReading at chunk 1536\nReading at chunk 1537\nReading at chunk 1538\nReading at chunk 1539\nReading at chunk 1540\nReading at chunk 1541\nReading at chunk 1542\nReading at chunk 1543\nReading at chunk 1544\nReading at chunk 1545\nReading at chunk 1546\nReading at chunk 1547\nReading at chunk 1548\nReading at chunk 1549\nReading at chunk 1550\nReading at chunk 1551\n"
     ]
    },
    {
     "name": "stdout",
     "output_type": "stream",
     "text": [
      "Reading at chunk 1552\nReading at chunk 1553\nReading at chunk 1554\nReading at chunk 1555\nReading at chunk 1556\nReading at chunk 1557\nReading at chunk 1558\nReading at chunk 1559\nReading at chunk 1560\nReading at chunk 1561\nReading at chunk 1562\nReading at chunk 1563\nReading at chunk 1564\nReading at chunk 1565\nReading at chunk 1566\nReading at chunk 1567\nReading at chunk 1568\nReading at chunk 1569\n"
     ]
    },
    {
     "name": "stdout",
     "output_type": "stream",
     "text": [
      "Reading at chunk 1570\nReading at chunk 1571\nReading at chunk 1572\nReading at chunk 1573\nReading at chunk 1574\nReading at chunk 1575\nReading at chunk 1576\nReading at chunk 1577\nReading at chunk 1578\nReading at chunk 1579\nReading at chunk 1580\nReading at chunk 1581\nReading at chunk 1582\nReading at chunk 1583\nReading at chunk 1584\nReading at chunk 1585\nReading at chunk 1586\n"
     ]
    },
    {
     "name": "stdout",
     "output_type": "stream",
     "text": [
      "Reading at chunk 1587\nReading at chunk 1588\nReading at chunk 1589\nReading at chunk 1590\nReading at chunk 1591\nReading at chunk 1592\nReading at chunk 1593\nReading at chunk 1594\nReading at chunk 1595\nReading at chunk 1596\nReading at chunk 1597\nReading at chunk 1598\nReading at chunk 1599\nReading at chunk 1600\nReading at chunk 1601\nReading at chunk 1602\nReading at chunk 1603\nReading at chunk 1604\nReading at chunk 1605\n"
     ]
    },
    {
     "name": "stdout",
     "output_type": "stream",
     "text": [
      "Reading at chunk 1606\nReading at chunk 1607\nReading at chunk 1608\nReading at chunk 1609\nReading at chunk 1610\nReading at chunk 1611\nReading at chunk 1612\nReading at chunk 1613\nReading at chunk 1614\nReading at chunk 1615\nReading at chunk 1616\nReading at chunk 1617\nReading at chunk 1618\nReading at chunk 1619\nReading at chunk 1620\nReading at chunk 1621\nReading at chunk 1622\nReading at chunk 1623\n"
     ]
    },
    {
     "name": "stdout",
     "output_type": "stream",
     "text": [
      "Reading at chunk 1624\nReading at chunk 1625\nReading at chunk 1626\nReading at chunk 1627\nReading at chunk 1628\nReading at chunk 1629\nReading at chunk 1630\nReading at chunk 1631\nReading at chunk 1632\nReading at chunk 1633\nReading at chunk 1634\nReading at chunk 1635\nReading at chunk 1636\nReading at chunk 1637\nReading at chunk 1638\nReading at chunk 1639\nReading at chunk 1640\nReading at chunk 1641\n"
     ]
    },
    {
     "name": "stdout",
     "output_type": "stream",
     "text": [
      "Reading at chunk 1642\nReading at chunk 1643\nReading at chunk 1644\nReading at chunk 1645\nReading at chunk 1646\nReading at chunk 1647\nReading at chunk 1648\nReading at chunk 1649\nReading at chunk 1650\nReading at chunk 1651\nReading at chunk 1652\nReading at chunk 1653\nReading at chunk 1654\nReading at chunk 1655\nReading at chunk 1656\nReading at chunk 1657\nReading at chunk "
     ]
    },
    {
     "name": "stdout",
     "output_type": "stream",
     "text": [
      "1658\nReading at chunk 1659\nReading at chunk 1660\nReading at chunk 1661\nReading at chunk 1662\nReading at chunk 1663\nReading at chunk 1664\nReading at chunk 1665\nReading at chunk 1666\nReading at chunk 1667\nReading at chunk 1668\nReading at chunk 1669\nReading at chunk 1670\nReading at chunk 1671\nReading at chunk 1672\nReading at chunk 1673\nReading at chunk 1674\nReading at chunk 1675\nReading at chunk 1676\n"
     ]
    },
    {
     "name": "stdout",
     "output_type": "stream",
     "text": [
      "Reading at chunk 1677\nReading at chunk 1678\nReading at chunk 1679\nReading at chunk 1680\nReading at chunk 1681\nReading at chunk 1682\nReading at chunk 1683\nReading at chunk 1684\nReading at chunk 1685\nReading at chunk 1686\nReading at chunk 1687\nReading at chunk 1688\nReading at chunk 1689\nReading at chunk 1690\nReading at chunk 1691\nReading at chunk 1692\n"
     ]
    },
    {
     "name": "stdout",
     "output_type": "stream",
     "text": [
      "Reading at chunk 1693\nReading at chunk 1694\nReading at chunk 1695\nReading at chunk 1696\nReading at chunk 1697\nReading at chunk 1698\nReading at chunk 1699\nReading at chunk 1700\nReading at chunk 1701\nReading at chunk 1702\nReading at chunk 1703\nReading at chunk 1704\nReading at chunk 1705\nReading at chunk 1706\nReading at chunk 1707\nReading at chunk 1708\nReading at chunk 1709\n"
     ]
    },
    {
     "name": "stdout",
     "output_type": "stream",
     "text": [
      "Reading at chunk 1710\nReading at chunk 1711\nReading at chunk 1712\nReading at chunk 1713\nReading at chunk 1714\nReading at chunk 1715\nReading at chunk 1716\nReading at chunk 1717\nReading at chunk 1718\nReading at chunk 1719\nReading at chunk 1720\nReading at chunk 1721\nReading at chunk 1722\nReading at chunk 1723\nReading at chunk 1724\nReading at chunk 1725\nReading at chunk 1726\nReading at chunk 1727\n"
     ]
    },
    {
     "name": "stdout",
     "output_type": "stream",
     "text": [
      "Reading at chunk 1728\nReading at chunk 1729\nReading at chunk 1730\nReading at chunk 1731\nReading at chunk 1732\nReading at chunk 1733\nReading at chunk 1734\nReading at chunk 1735\nReading at chunk 1736\nReading at chunk 1737\nReading at chunk 1738\nReading at chunk 1739\nReading at chunk 1740\nReading at chunk 1741\nReading at chunk 1742\nReading at chunk 1743\nReading at chunk 1744\n"
     ]
    },
    {
     "name": "stdout",
     "output_type": "stream",
     "text": [
      "Reading at chunk 1745\nReading at chunk 1746\nReading at chunk 1747\nReading at chunk 1748\nReading at chunk 1749\nReading at chunk 1750\nReading at chunk 1751\nReading at chunk 1752\nReading at chunk 1753\nReading at chunk 1754\nReading at chunk 1755\nReading at chunk 1756\nReading at chunk 1757\nReading at chunk 1758\nReading at chunk 1759\nReading at chunk 1760\n"
     ]
    },
    {
     "name": "stdout",
     "output_type": "stream",
     "text": [
      "Reading at chunk 1761\nReading at chunk 1762\nReading at chunk 1763\nReading at chunk 1764\nReading at chunk 1765\nReading at chunk 1766\nReading at chunk 1767\nReading at chunk 1768\nReading at chunk 1769\nReading at chunk 1770\nReading at chunk 1771\nReading at chunk 1772\nReading at chunk 1773\nReading at chunk 1774\nReading at chunk 1775\nReading at chunk 1776\nReading at chunk 1777\nReading at chunk 1778\n"
     ]
    },
    {
     "name": "stdout",
     "output_type": "stream",
     "text": [
      "Reading at chunk 1779\nReading at chunk 1780\nReading at chunk 1781\nReading at chunk 1782\nReading at chunk 1783\nReading at chunk 1784\nReading at chunk 1785\nReading at chunk 1786\nReading at chunk 1787\nReading at chunk 1788\nReading at chunk 1789\nReading at chunk 1790\nReading at chunk 1791\nReading at chunk 1792\n"
     ]
    },
    {
     "name": "stdout",
     "output_type": "stream",
     "text": [
      "Reading at chunk 1793\nReading at chunk 1794\nReading at chunk 1795\nReading at chunk 1796\nReading at chunk 1797\nReading at chunk 1798\nReading at chunk 1799\nReading at chunk 1800\nReading at chunk 1801\nReading at chunk 1802\nReading at chunk 1803\nReading at chunk 1804\nReading at chunk 1805\nReading at chunk 1806\n"
     ]
    },
    {
     "name": "stdout",
     "output_type": "stream",
     "text": [
      "Reading at chunk 1807\nReading at chunk 1808\nReading at chunk 1809\nReading at chunk 1810\nReading at chunk 1811\nReading at chunk 1812\nReading at chunk 1813\nReading at chunk 1814\nReading at chunk 1815\nReading at chunk 1816\nReading at chunk 1817\nReading at chunk 1818\nReading at chunk 1819\nReading at chunk 1820\nReading at chunk 1821\nReading at chunk 1822\n"
     ]
    },
    {
     "name": "stdout",
     "output_type": "stream",
     "text": [
      "Reading at chunk 1823\nReading at chunk 1824\nReading at chunk 1825\nReading at chunk 1826\nReading at chunk 1827\nReading at chunk 1828\nReading at chunk 1829\nReading at chunk 1830\nReading at chunk 1831\nReading at chunk 1832\nReading at chunk 1833\nReading at chunk 1834\nReading at chunk 1835\nReading at chunk 1836\nReading at chunk 1837\nReading at chunk 1838\nReading at chunk 1839\n"
     ]
    },
    {
     "name": "stdout",
     "output_type": "stream",
     "text": [
      "Reading at chunk 1840\nReading at chunk 1841\nReading at chunk 1842\nReading at chunk 1843\nReading at chunk 1844\nReading at chunk 1845\nReading at chunk 1846\nReading at chunk 1847\nReading at chunk 1848\nReading at chunk 1849\nReading at chunk 1850\nReading at chunk 1851\nReading at chunk 1852\n"
     ]
    },
    {
     "name": "stdout",
     "output_type": "stream",
     "text": [
      "Reading at chunk 1853\nReading at chunk 1854\nReading at chunk 1855\nReading at chunk 1856\nReading at chunk 1857\nReading at chunk 1858\nReading at chunk 1859\nReading at chunk 1860\nReading at chunk 1861\nReading at chunk 1862\nReading at chunk 1863\nReading at chunk 1864\nReading at chunk 1865\nReading at chunk 1866\nReading at chunk 1867\n"
     ]
    },
    {
     "name": "stdout",
     "output_type": "stream",
     "text": [
      "Reading at chunk 1868\nReading at chunk 1869\nReading at chunk 1870\nReading at chunk 1871\nReading at chunk 1872\nReading at chunk 1873\nReading at chunk 1874\nReading at chunk 1875\nReading at chunk 1876\nReading at chunk 1877\nReading at chunk 1878\nReading at chunk 1879\nReading at chunk 1880\nReading at chunk"
     ]
    },
    {
     "name": "stdout",
     "output_type": "stream",
     "text": [
      " 1881\nReading at chunk 1882\nReading at chunk 1883\nReading at chunk 1884\nReading at chunk 1885\nReading at chunk 1886\nReading at chunk 1887\nReading at chunk 1888\nReading at chunk 1889\nReading at chunk 1890\nReading at chunk 1891\nReading at chunk 1892\nReading at chunk 1893\n"
     ]
    },
    {
     "name": "stdout",
     "output_type": "stream",
     "text": [
      "Reading at chunk 1894\nReading at chunk 1895\nReading at chunk 1896\nReading at chunk 1897\nReading at chunk 1898\nReading at chunk 1899\nReading at chunk 1900\nReading at chunk 1901\nReading at chunk 1902\nReading at chunk 1903\nReading at chunk 1904\nReading at chunk 1905\nReading at chunk 1906\nReading at chunk 1907\nReading at chunk 1908\nReading at chunk 1909\n"
     ]
    },
    {
     "name": "stdout",
     "output_type": "stream",
     "text": [
      "Reading at chunk 1910\nReading at chunk 1911\nReading at chunk 1912\nReading at chunk 1913\nReading at chunk 1914\nReading at chunk 1915\nReading at chunk 1916\nReading at chunk 1917\nReading at chunk 1918\nReading at chunk 1919\nReading at chunk 1920\nReading at chunk 1921\nReading at chunk 1922\nReading at chunk 1923\nReading at chunk 1924\nReading at chunk 1925\nReading at chunk "
     ]
    },
    {
     "name": "stdout",
     "output_type": "stream",
     "text": [
      "1926\nReading at chunk 1927\nReading at chunk 1928\nReading at chunk 1929\nReading at chunk 1930\nReading at chunk 1931\nReading at chunk 1932\nReading at chunk 1933\nReading at chunk 1934\nReading at chunk 1935\nReading at chunk 1936\nReading at chunk 1937\nReading at chunk 1938\nReading at chunk 1939\nReading at chunk 1940\nReading at chunk 1941\nReading at chunk 1942\nReading at chunk 1943\n"
     ]
    },
    {
     "name": "stdout",
     "output_type": "stream",
     "text": [
      "Reading at chunk 1944\nReading at chunk 1945\nReading at chunk 1946\nReading at chunk 1947\nReading at chunk 1948\nReading at chunk 1949\nReading at chunk 1950\nReading at chunk 1951\nReading at chunk 1952\nReading at chunk 1953\nReading at chunk 1954\nReading at chunk 1955\nReading at chunk 1956\nReading at chunk 1957\nReading at chunk 1958\nReading at chunk 1959\nReading at chunk 1960\n"
     ]
    },
    {
     "name": "stdout",
     "output_type": "stream",
     "text": [
      "Reading at chunk 1961\nReading at chunk 1962\nReading at chunk 1963\nReading at chunk 1964\nReading at chunk 1965\nReading at chunk 1966\nReading at chunk 1967\nReading at chunk 1968\nReading at chunk 1969\nReading at chunk 1970\nReading at chunk 1971\nReading at chunk 1972\nReading at chunk 1973\nReading at chunk 1974\nReading at chunk 1975\n"
     ]
    },
    {
     "name": "stdout",
     "output_type": "stream",
     "text": [
      "Reading at chunk 1976\nReading at chunk 1977\nReading at chunk 1978\nReading at chunk 1979\nReading at chunk 1980\nReading at chunk 1981\nReading at chunk 1982\nReading at chunk 1983\nReading at chunk 1984\nReading at chunk 1985\nReading at chunk 1986\nReading at chunk 1987\nReading at chunk 1988\nReading at chunk 1989\nReading at chunk 1990\nReading at chunk 1991\n"
     ]
    },
    {
     "name": "stdout",
     "output_type": "stream",
     "text": [
      "Reading at chunk 1992\nReading at chunk 1993\nReading at chunk 1994\nReading at chunk 1995\nReading at chunk 1996\nReading at chunk 1997\nReading at chunk 1998\nReading at chunk 1999\nReading at chunk 2000\nReading at chunk 2001\nReading at chunk 2002\n"
     ]
    },
    {
     "name": "stdout",
     "output_type": "stream",
     "text": [
      "Reading at chunk 2003\nReading at chunk 2004\nReading at chunk 2005\nReading at chunk 2006\nReading at chunk 2007\nReading at chunk 2008\nReading at chunk 2009\nReading at chunk 2010\nReading at chunk 2011\nReading at chunk 2012\nReading at chunk 2013\nReading at chunk 2014\nReading at chunk 2015\nReading at chunk 2016\nReading at chunk 2017\nReading at chunk 2018\n"
     ]
    },
    {
     "name": "stdout",
     "output_type": "stream",
     "text": [
      "Reading at chunk 2019\nReading at chunk 2020\nReading at chunk 2021\nReading at chunk 2022\nReading at chunk 2023\nReading at chunk 2024\nReading at chunk 2025\nReading at chunk 2026\nReading at chunk 2027\nReading at chunk 2028\nReading at chunk 2029\nReading at chunk 2030\nReading at chunk 2031\nReading at chunk 2032\nReading at chunk 2033\nReading at chunk 2034\nReading at chunk 2035\nReading at chunk"
     ]
    },
    {
     "name": "stdout",
     "output_type": "stream",
     "text": [
      " 2036\nReading at chunk 2037\nReading at chunk 2038\nReading at chunk 2039\nReading at chunk 2040\nReading at chunk 2041\nReading at chunk 2042\nReading at chunk 2043\nReading at chunk 2044\nReading at chunk 2045\nReading at chunk 2046\nReading at chunk 2047\nReading at chunk 2048\nReading at chunk 2049\nReading at chunk 2050\nReading at chunk 2051\nReading at chunk 2052\n"
     ]
    },
    {
     "name": "stdout",
     "output_type": "stream",
     "text": [
      "Reading at chunk 2053\nReading at chunk 2054\nReading at chunk 2055\nReading at chunk 2056\nReading at chunk 2057\nReading at chunk 2058\nReading at chunk 2059\nReading at chunk 2060\nReading at chunk 2061\nReading at chunk 2062\nReading at chunk 2063\nReading at chunk 2064\nReading at chunk 2065\nReading at chunk 2066\nReading at chunk 2067\nReading at chunk 2068\nReading at chunk 2069\nReading at chunk 2070"
     ]
    },
    {
     "name": "stdout",
     "output_type": "stream",
     "text": [
      "\nReading at chunk 2071\nReading at chunk 2072\nReading at chunk 2073\nReading at chunk 2074\nReading at chunk 2075\nReading at chunk 2076\nReading at chunk 2077\nReading at chunk 2078\nReading at chunk 2079\nReading at chunk 2080\nReading at chunk 2081\nReading at chunk 2082\nReading at chunk 2083\nReading at chunk 2084\nReading at chunk 2085\nReading at chunk 2086\nReading at chunk 2087\n"
     ]
    },
    {
     "name": "stdout",
     "output_type": "stream",
     "text": [
      "Reading at chunk 2088\nReading at chunk 2089\nReading at chunk 2090\nReading at chunk 2091\nReading at chunk 2092\nReading at chunk 2093\nReading at chunk 2094\nReading at chunk 2095\nReading at chunk 2096\nReading at chunk 2097\nReading at chunk 2098\nReading at chunk 2099\nReading at chunk 2100\nReading at chunk 2101\nReading at chunk 2102\nReading at chunk 2103\nReading at chunk"
     ]
    },
    {
     "name": "stdout",
     "output_type": "stream",
     "text": [
      " 2104\nReading at chunk 2105\nReading at chunk 2106\nReading at chunk 2107\nReading at chunk 2108\nReading at chunk 2109\nReading at chunk 2110\nReading at chunk 2111\nReading at chunk 2112\nReading at chunk 2113\nReading at chunk 2114\nReading at chunk 2115\nReading at chunk 2116\nReading at chunk 2117\nReading at chunk 2118\nReading at chunk 2119\nReading at chunk 2120\n"
     ]
    },
    {
     "name": "stdout",
     "output_type": "stream",
     "text": [
      "Reading at chunk 2121\nReading at chunk 2122\nReading at chunk 2123\nReading at chunk 2124\nReading at chunk 2125\nReading at chunk 2126\nReading at chunk 2127\nReading at chunk 2128\nReading at chunk 2129\nReading at chunk 2130\nReading at chunk 2131\nReading at chunk 2132\nReading at chunk 2133\nReading at chunk 2134\nReading at chunk 2135\nReading at chunk 2136\nReading at chunk 2137\n"
     ]
    },
    {
     "name": "stdout",
     "output_type": "stream",
     "text": [
      "Reading at chunk 2138\nReading at chunk 2139\nReading at chunk 2140\nReading at chunk 2141\nReading at chunk 2142\nReading at chunk 2143\nReading at chunk 2144\nReading at chunk 2145\nReading at chunk 2146\nReading at chunk 2147\nReading at chunk 2148\nReading at chunk 2149\nReading at chunk 2150\nReading at chunk 2151\nReading at chunk 2152\nReading at chunk 2153\nReading at chunk 2154\n"
     ]
    },
    {
     "name": "stdout",
     "output_type": "stream",
     "text": [
      "Reading at chunk 2155\nReading at chunk 2156\nReading at chunk 2157\nReading at chunk 2158\nReading at chunk 2159\nReading at chunk 2160\nReading at chunk 2161\nReading at chunk 2162\nReading at chunk 2163\nReading at chunk 2164\nReading at chunk 2165\nReading at chunk 2166\nReading at chunk 2167\nReading at chunk 2168\nReading at chunk 2169\n"
     ]
    },
    {
     "name": "stdout",
     "output_type": "stream",
     "text": [
      "Reading at chunk 2170\nReading at chunk 2171\nReading at chunk 2172\nReading at chunk 2173\nReading at chunk 2174\nReading at chunk 2175\nReading at chunk 2176\nReading at chunk 2177\nReading at chunk 2178\nReading at chunk 2179\nReading at chunk 2180\nReading at chunk 2181\nReading at chunk 2182\nReading at chunk 2183\nReading at chunk 2184\nReading at chunk 2185\nReading at chunk 2186\nReading at chunk 2187"
     ]
    },
    {
     "name": "stdout",
     "output_type": "stream",
     "text": [
      "\nReading at chunk 2188\nReading at chunk 2189\nReading at chunk 2190\nReading at chunk 2191\nReading at chunk 2192\nReading at chunk 2193\nReading at chunk 2194\nReading at chunk 2195\nReading at chunk 2196\nReading at chunk 2197\nReading at chunk 2198\nReading at chunk 2199\nReading at chunk 2200\nReading at chunk 2201\nReading at chunk 2202\nReading at chunk 2203\nReading at chunk 2204\n"
     ]
    },
    {
     "name": "stdout",
     "output_type": "stream",
     "text": [
      "Reading at chunk 2205\nReading at chunk 2206\nReading at chunk 2207\nReading at chunk 2208\nReading at chunk 2209\nReading at chunk 2210\nReading at chunk 2211\nReading at chunk 2212\nReading at chunk 2213\nReading at chunk 2214\nReading at chunk 2215\nReading at chunk 2216\nReading at chunk 2217\nReading at chunk 2218\nReading at chunk 2219\nReading at chunk 2220\nReading at chunk 2221\nReading at chunk 2222\n"
     ]
    },
    {
     "name": "stdout",
     "output_type": "stream",
     "text": [
      "Reading at chunk 2223\nReading at chunk 2224\nReading at chunk 2225\nReading at chunk 2226\nReading at chunk 2227\nReading at chunk 2228\nReading at chunk 2229\nReading at chunk 2230\nReading at chunk 2231\nReading at chunk 2232\nReading at chunk 2233\nReading at chunk 2234\nReading at chunk 2235\nReading at chunk 2236\nReading at chunk 2237\nReading at chunk 2238\nReading at chunk 2239\nReading at chunk"
     ]
    },
    {
     "name": "stdout",
     "output_type": "stream",
     "text": [
      " 2240\nReading at chunk 2241\nReading at chunk 2242\nReading at chunk 2243\nReading at chunk 2244\nReading at chunk 2245\nReading at chunk 2246\nReading at chunk 2247\nReading at chunk 2248\nReading at chunk 2249\nReading at chunk 2250\nReading at chunk 2251\nReading at chunk 2252\nReading at chunk 2253\nReading at chunk 2254\nReading at chunk 2255\nReading at chunk 2256\nReading at chunk 2257\nReading at chunk 2258\n"
     ]
    },
    {
     "name": "stdout",
     "output_type": "stream",
     "text": [
      "Reading at chunk 2259\nReading at chunk 2260\nReading at chunk 2261\nReading at chunk 2262\nReading at chunk 2263\nReading at chunk 2264\nReading at chunk 2265\nReading at chunk 2266\nReading at chunk 2267\nReading at chunk 2268\nReading at chunk 2269\nReading at chunk 2270\nReading at chunk 2271\nReading at chunk 2272\nReading at chunk 2273\nReading at chunk 2274\nReading at chunk 2275\n"
     ]
    },
    {
     "name": "stdout",
     "output_type": "stream",
     "text": [
      "Reading at chunk 2276\nReading at chunk 2277\nReading at chunk 2278\nReading at chunk 2279\nReading at chunk 2280\nReading at chunk 2281\nReading at chunk 2282\nReading at chunk 2283\nReading at chunk 2284\nReading at chunk 2285\nReading at chunk 2286\nReading at chunk 2287\nReading at chunk 2288\nReading at chunk 2289\nReading at chunk 2290\nReading at chunk 2291\nReading at chunk 2292\n"
     ]
    },
    {
     "name": "stdout",
     "output_type": "stream",
     "text": [
      "Reading at chunk 2293\nReading at chunk 2294\nReading at chunk 2295\nReading at chunk 2296\nReading at chunk 2297\nReading at chunk 2298\nReading at chunk 2299\nReading at chunk 2300\nReading at chunk 2301\nReading at chunk 2302\nReading at chunk 2303\nReading at chunk 2304\nReading at chunk 2305\nReading at chunk 2306\nReading at chunk 2307\nReading at chunk 2308\nReading at chunk 2309\nReading at chunk 2310\n"
     ]
    },
    {
     "name": "stdout",
     "output_type": "stream",
     "text": [
      "Reading at chunk 2311\nReading at chunk 2312\nReading at chunk 2313\nReading at chunk 2314\nReading at chunk 2315\nReading at chunk 2316\nReading at chunk 2317\nReading at chunk 2318\nReading at chunk 2319\nReading at chunk 2320\nReading at chunk 2321\nReading at chunk 2322\nReading at chunk 2323\nReading at chunk 2324\nReading at chunk 2325\nReading at chunk 2326\nReading at chunk 2327\n"
     ]
    },
    {
     "name": "stdout",
     "output_type": "stream",
     "text": [
      "Reading at chunk 2328\nReading at chunk 2329\nReading at chunk 2330\nReading at chunk 2331\nReading at chunk 2332\nReading at chunk 2333\nReading at chunk 2334\nReading at chunk 2335\nReading at chunk 2336\nReading at chunk 2337\nReading at chunk 2338\nReading at chunk 2339\nReading at chunk 2340\nReading at chunk 2341\nReading at chunk 2342\nReading at chunk 2343\nReading at chunk 2344\nReading at chunk 2345\n"
     ]
    },
    {
     "name": "stdout",
     "output_type": "stream",
     "text": [
      "Reading at chunk 2346\nReading at chunk 2347\nReading at chunk 2348\nReading at chunk 2349\nReading at chunk 2350\nReading at chunk 2351\nReading at chunk 2352\nReading at chunk 2353\nReading at chunk 2354\nReading at chunk 2355\nReading at chunk 2356\nReading at chunk 2357\nReading at chunk 2358\nReading at chunk 2359\nReading at chunk 2360\nReading at chunk 2361\nReading at chunk 2362\n"
     ]
    },
    {
     "name": "stdout",
     "output_type": "stream",
     "text": [
      "Reading at chunk 2363\nReading at chunk 2364\nReading at chunk 2365\nReading at chunk 2366\nReading at chunk 2367\nReading at chunk 2368\nReading at chunk 2369\nReading at chunk 2370\nReading at chunk 2371\nReading at chunk 2372\nReading at chunk 2373\nReading at chunk 2374\nReading at chunk 2375\nReading at chunk 2376\nReading at chunk 2377\nReading at chunk 2378\nReading at chunk 2379\nReading at chunk 2380\n"
     ]
    },
    {
     "name": "stdout",
     "output_type": "stream",
     "text": [
      "Reading at chunk 2381\nReading at chunk 2382\nReading at chunk 2383\nReading at chunk 2384\nReading at chunk 2385\nReading at chunk 2386\nReading at chunk 2387\nReading at chunk 2388\nReading at chunk 2389\nReading at chunk 2390\nReading at chunk 2391\nReading at chunk 2392\nReading at chunk 2393\nReading at chunk 2394\nReading at chunk 2395\nReading at chunk 2396\nReading at chunk 2397\n"
     ]
    },
    {
     "name": "stdout",
     "output_type": "stream",
     "text": [
      "Reading at chunk 2398\nReading at chunk 2399\nReading at chunk 2400\nReading at chunk 2401\nReading at chunk 2402\nReading at chunk 2403\nReading at chunk 2404\nReading at chunk 2405\nReading at chunk 2406\nReading at chunk 2407\nReading at chunk 2408\nReading at chunk 2409\nReading at chunk 2410\nReading at chunk 2411\nReading at chunk 2412\nReading at chunk 2413\nReading at chunk 2414\nReading at chunk 2415\n"
     ]
    },
    {
     "name": "stdout",
     "output_type": "stream",
     "text": [
      "Reading at chunk 2416\nReading at chunk 2417\nReading at chunk 2418\nReading at chunk 2419\nReading at chunk 2420\nReading at chunk 2421\nReading at chunk 2422\nReading at chunk 2423\nReading at chunk 2424\nReading at chunk 2425\nReading at chunk 2426\nReading at chunk 2427\nReading at chunk 2428\nReading at chunk 2429\nReading at chunk 2430\nReading at chunk 2431\nReading at chunk 2432\nReading at chunk 2433\n"
     ]
    },
    {
     "name": "stdout",
     "output_type": "stream",
     "text": [
      "Reading at chunk 2434\nReading at chunk 2435\nReading at chunk 2436\nReading at chunk 2437\nReading at chunk 2438\nReading at chunk 2439\nReading at chunk 2440\nReading at chunk 2441\nReading at chunk 2442\nReading at chunk 2443\nReading at chunk 2444\nReading at chunk 2445\nReading at chunk 2446\nReading at chunk 2447\nReading at chunk 2448\nReading at chunk 2449\nReading at chunk 2450\n"
     ]
    },
    {
     "name": "stdout",
     "output_type": "stream",
     "text": [
      "Reading at chunk 2451\nReading at chunk 2452\nReading at chunk 2453\nReading at chunk 2454\nReading at chunk 2455\nReading at chunk 2456\nReading at chunk 2457\nReading at chunk 2458\nReading at chunk 2459\nReading at chunk 2460\nReading at chunk 2461\nReading at chunk 2462\nReading at chunk 2463\nReading at chunk 2464\nReading at chunk 2465\nReading at chunk 2466\nReading at chunk 2467\nReading at chunk "
     ]
    },
    {
     "name": "stdout",
     "output_type": "stream",
     "text": [
      "2468\nReading at chunk 2469\nReading at chunk 2470\nReading at chunk 2471\nReading at chunk 2472\nReading at chunk 2473\nReading at chunk 2474\nReading at chunk 2475\nReading at chunk 2476\nReading at chunk 2477\nReading at chunk 2478\nReading at chunk 2479\nReading at chunk 2480\nReading at chunk 2481\nReading at chunk 2482\nReading at chunk 2483\nReading at chunk 2484\nReading at chunk 2485\n"
     ]
    },
    {
     "name": "stdout",
     "output_type": "stream",
     "text": [
      "Reading at chunk 2486\nReading at chunk 2487\nReading at chunk 2488\nReading at chunk 2489\nReading at chunk 2490\nReading at chunk 2491\nReading at chunk 2492\nReading at chunk 2493\nReading at chunk 2494\nReading at chunk 2495\nReading at chunk 2496\nReading at chunk 2497\nReading at chunk 2498\nReading at chunk 2499\nReading at chunk 2500\nReading at chunk 2501\nReading at chunk 2502\nReading at chunk 2503\n"
     ]
    },
    {
     "name": "stdout",
     "output_type": "stream",
     "text": [
      "Reading at chunk 2504\nReading at chunk 2505\nReading at chunk 2506\nReading at chunk 2507\nReading at chunk 2508\nReading at chunk 2509\nReading at chunk 2510\nReading at chunk 2511\nReading at chunk 2512\nReading at chunk 2513\nReading at chunk 2514\nReading at chunk 2515\nReading at chunk 2516\nReading at chunk 2517\nReading at chunk 2518\n"
     ]
    },
    {
     "name": "stdout",
     "output_type": "stream",
     "text": [
      "Reading at chunk 2519\nReading at chunk 2520\nReading at chunk 2521\nReading at chunk 2522\nReading at chunk 2523\nReading at chunk 2524\nReading at chunk 2525\nReading at chunk 2526\nReading at chunk 2527\nReading at chunk 2528\nReading at chunk 2529\nReading at chunk 2530\nReading at chunk 2531\nReading at chunk 2532\nReading at chunk 2533\nReading at chunk 2534\nReading at chunk 2535\n"
     ]
    },
    {
     "name": "stdout",
     "output_type": "stream",
     "text": [
      "Reading at chunk 2536\nReading at chunk 2537\nReading at chunk 2538\nReading at chunk 2539\nReading at chunk 2540\nReading at chunk 2541\nReading at chunk 2542\nReading at chunk 2543\nReading at chunk 2544\nReading at chunk 2545\nReading at chunk 2546\nReading at chunk 2547\nReading at chunk 2548\nReading at chunk 2549\nReading at chunk 2550\nReading at chunk 2551\nReading at chunk 2552\n"
     ]
    },
    {
     "name": "stdout",
     "output_type": "stream",
     "text": [
      "Reading at chunk 2553\nReading at chunk 2554\nReading at chunk 2555\nReading at chunk 2556\nReading at chunk 2557\nReading at chunk 2558\nReading at chunk 2559\nReading at chunk 2560\nReading at chunk 2561\nReading at chunk 2562\nReading at chunk 2563\nReading at chunk 2564\nReading at chunk 2565\nReading at chunk 2566\nReading at chunk 2567\nReading at chunk 2568\nReading at chunk 2569\nReading at chunk 2570\n"
     ]
    },
    {
     "name": "stdout",
     "output_type": "stream",
     "text": [
      "Reading at chunk 2571\nReading at chunk 2572\nReading at chunk 2573\nReading at chunk 2574\nReading at chunk 2575\nReading at chunk 2576\nReading at chunk 2577\nReading at chunk 2578\nReading at chunk 2579\nReading at chunk 2580\nReading at chunk 2581\nReading at chunk 2582\nReading at chunk"
     ]
    },
    {
     "name": "stdout",
     "output_type": "stream",
     "text": [
      " 2583\nReading at chunk 2584\nReading at chunk 2585\nReading at chunk 2586\nReading at chunk 2587\nReading at chunk 2588\nReading at chunk 2589\nReading at chunk 2590\nReading at chunk 2591\nReading at chunk 2592\nReading at chunk 2593\nReading at chunk 2594\nReading at chunk 2595\nReading at chunk 2596\nReading at chunk 2597\nReading at chunk 2598\nReading at chunk 2599\nReading at chunk 2600\nReading at chunk 2601\n"
     ]
    },
    {
     "name": "stdout",
     "output_type": "stream",
     "text": [
      "Reading at chunk 2602\nReading at chunk 2603\nReading at chunk 2604\nReading at chunk 2605\nReading at chunk 2606\nReading at chunk 2607\nReading at chunk 2608\nReading at chunk 2609\nReading at chunk 2610\nReading at chunk 2611\nReading at chunk 2612\nReading at chunk 2613\nReading at chunk 2614\nReading at chunk 2615\nReading at chunk 2616\nReading at chunk 2617\nReading at chunk 2618\n"
     ]
    },
    {
     "name": "stdout",
     "output_type": "stream",
     "text": [
      "Reading at chunk 2619\nReading at chunk 2620\nReading at chunk 2621\nReading at chunk 2622\nReading at chunk 2623\nReading at chunk 2624\nReading at chunk 2625\nReading at chunk 2626\nReading at chunk 2627\nReading at chunk 2628\nReading at chunk 2629\nReading at chunk 2630\nReading at chunk 2631\nReading at chunk 2632\nReading at chunk 2633\nReading at chunk 2634\nReading at chunk 2635\nReading at chunk"
     ]
    },
    {
     "name": "stdout",
     "output_type": "stream",
     "text": [
      " 2636\nReading at chunk 2637\nReading at chunk 2638\nReading at chunk 2639\nReading at chunk 2640\nReading at chunk 2641\nReading at chunk 2642\nReading at chunk 2643\nReading at chunk 2644\nReading at chunk 2645\nReading at chunk 2646\nReading at chunk 2647\nReading at chunk 2648\nReading at chunk 2649\nReading at chunk 2650\nReading at chunk 2651\nReading at chunk 2652\nReading at chunk 2653\nReading at chunk 2654\n"
     ]
    },
    {
     "name": "stdout",
     "output_type": "stream",
     "text": [
      "Reading at chunk 2655\nReading at chunk 2656\nReading at chunk 2657\nReading at chunk 2658\nReading at chunk 2659\nReading at chunk 2660\nReading at chunk 2661\nReading at chunk 2662\nReading at chunk 2663\nReading at chunk 2664\nReading at chunk 2665\nReading at chunk 2666\nReading at chunk 2667\nReading at chunk 2668\nReading at chunk 2669\nReading at chunk 2670\nReading at chunk 2671\nReading at chunk 2672\n"
     ]
    },
    {
     "name": "stdout",
     "output_type": "stream",
     "text": [
      "Reading at chunk 2673\nReading at chunk 2674\nReading at chunk 2675\nReading at chunk 2676\nReading at chunk 2677\nReading at chunk 2678\nReading at chunk 2679\nReading at chunk 2680\nReading at chunk 2681\nReading at chunk 2682\nReading at chunk 2683\nReading at chunk 2684\nReading at chunk 2685\nReading at chunk 2686\nReading at chunk 2687\nReading at chunk 2688\nReading at chunk 2689\n"
     ]
    },
    {
     "name": "stdout",
     "output_type": "stream",
     "text": [
      "Reading at chunk 2690\nReading at chunk 2691\nReading at chunk 2692\nReading at chunk 2693\nReading at chunk 2694\nReading at chunk 2695\nReading at chunk 2696\nReading at chunk 2697\nReading at chunk 2698\nReading at chunk 2699\nReading at chunk 2700\nReading at chunk 2701\nReading at chunk 2702\nReading at chunk 2703\nReading at chunk 2704\nReading at chunk 2705\nReading at chunk 2706\nReading at chunk 2707\nReading at chunk"
     ]
    },
    {
     "name": "stdout",
     "output_type": "stream",
     "text": [
      " 2708\nReading at chunk 2709\nReading at chunk 2710\nReading at chunk 2711\nReading at chunk 2712\nReading at chunk 2713\nReading at chunk 2714\nReading at chunk 2715\nReading at chunk 2716\nReading at chunk 2717\nReading at chunk 2718\nReading at chunk 2719\nReading at chunk 2720\nReading at chunk 2721\nReading at chunk 2722\nReading at chunk 2723\nReading at chunk 2724\nReading at chunk 2725\n"
     ]
    },
    {
     "name": "stdout",
     "output_type": "stream",
     "text": [
      "Reading at chunk 2726\nReading at chunk 2727\nReading at chunk 2728\nReading at chunk 2729\nReading at chunk 2730\nReading at chunk 2731\nReading at chunk 2732\nReading at chunk 2733\nReading at chunk 2734\nReading at chunk 2735\nReading at chunk 2736\nReading at chunk 2737\nReading at chunk 2738\nReading at chunk 2739\nReading at chunk 2740\nReading at chunk 2741\nReading at chunk 2742\nReading at chunk 2743\n"
     ]
    },
    {
     "name": "stdout",
     "output_type": "stream",
     "text": [
      "Reading at chunk 2744\nReading at chunk 2745\nReading at chunk 2746\nReading at chunk 2747\nReading at chunk 2748\nReading at chunk 2749\nReading at chunk 2750\nReading at chunk 2751\nReading at chunk 2752\nReading at chunk 2753\nReading at chunk 2754\nReading at chunk 2755\nReading at chunk 2756\nReading at chunk 2757\nReading at chunk 2758\nReading at chunk 2759\nReading at chunk 2760\n"
     ]
    },
    {
     "name": "stdout",
     "output_type": "stream",
     "text": [
      "Reading at chunk 2761\nReading at chunk 2762\nReading at chunk 2763\nReading at chunk 2764\nReading at chunk 2765\nReading at chunk 2766\nReading at chunk 2767\nReading at chunk 2768\nReading at chunk 2769\nReading at chunk 2770\nReading at chunk 2771\nReading at chunk 2772\nReading at chunk 2773\nReading at chunk 2774\nReading at chunk 2775\nReading at chunk 2776\nReading at chunk 2777\nReading at chunk 2778\nReading at chunk 2779"
     ]
    },
    {
     "name": "stdout",
     "output_type": "stream",
     "text": [
      "\nReading at chunk 2780\nReading at chunk 2781\nReading at chunk 2782\nReading at chunk 2783\nReading at chunk 2784\nReading at chunk 2785\nReading at chunk 2786\nReading at chunk 2787\nReading at chunk 2788\nReading at chunk 2789\nReading at chunk 2790\nReading at chunk 2791\nReading at chunk 2792\nReading at chunk 2793\nReading at chunk 2794\nReading at chunk 2795\nReading at chunk 2796\n"
     ]
    },
    {
     "name": "stdout",
     "output_type": "stream",
     "text": [
      "Reading at chunk 2797\nReading at chunk 2798\nReading at chunk 2799\nReading at chunk 2800\nReading at chunk 2801\nReading at chunk 2802\nReading at chunk 2803\nReading at chunk 2804\nReading at chunk 2805\nReading at chunk 2806\nReading at chunk 2807\nReading at chunk 2808\nReading at chunk 2809\nReading at chunk 2810\nReading at chunk 2811\nReading at chunk 2812\nReading at chunk 2813\nReading at chunk 2814\n"
     ]
    },
    {
     "name": "stdout",
     "output_type": "stream",
     "text": [
      "Reading at chunk 2815\nReading at chunk 2816\nReading at chunk 2817\nReading at chunk 2818\nReading at chunk 2819\nReading at chunk 2820\nReading at chunk 2821\nReading at chunk 2822\nReading at chunk 2823\nReading at chunk 2824\nReading at chunk 2825\nReading at chunk 2826\nReading at chunk 2827\nReading at chunk 2828\nReading at chunk 2829\nReading at chunk 2830\nReading at chunk 2831\nReading at chunk 2832\n"
     ]
    },
    {
     "name": "stdout",
     "output_type": "stream",
     "text": [
      "Reading at chunk 2833\nReading at chunk 2834\nReading at chunk 2835\nReading at chunk 2836\nReading at chunk 2837\nReading at chunk 2838\nReading at chunk 2839\nReading at chunk 2840\nReading at chunk 2841\nReading at chunk 2842\nReading at chunk 2843\nReading at chunk 2844\nReading at chunk 2845\nReading at chunk 2846\nReading at chunk 2847\nReading at chunk 2848\nReading at chunk 2849\nReading at chunk 2850\nReading at chunk"
     ]
    },
    {
     "name": "stdout",
     "output_type": "stream",
     "text": [
      " 2851\nReading at chunk 2852\nReading at chunk 2853\nReading at chunk 2854\nReading at chunk 2855\nReading at chunk 2856\nReading at chunk 2857\nReading at chunk 2858\nReading at chunk 2859\nReading at chunk 2860\nReading at chunk 2861\nReading at chunk 2862\nReading at chunk 2863\nReading at chunk 2864\nReading at chunk 2865\nReading at chunk 2866\nReading at chunk 2867\nReading at chunk 2868\nReading at chunk 2869\n"
     ]
    },
    {
     "name": "stdout",
     "output_type": "stream",
     "text": [
      "Reading at chunk 2870\nReading at chunk 2871\nReading at chunk 2872\nReading at chunk 2873\nReading at chunk 2874\nReading at chunk 2875\nReading at chunk 2876\nReading at chunk 2877\nReading at chunk 2878\nReading at chunk 2879\nReading at chunk 2880\nReading at chunk 2881\nReading at chunk 2882\nReading at chunk 2883\nReading at chunk 2884\nReading at chunk 2885\nReading at chunk 2886\nReading at chunk 2887\n"
     ]
    },
    {
     "name": "stdout",
     "output_type": "stream",
     "text": [
      "Reading at chunk 2888\nReading at chunk 2889\nReading at chunk 2890\nReading at chunk 2891\nReading at chunk 2892\nReading at chunk 2893\nReading at chunk 2894\nReading at chunk 2895\nReading at chunk 2896\nReading at chunk 2897\nReading at chunk 2898\nReading at chunk 2899\nReading at chunk 2900\nReading at chunk 2901\nReading at chunk 2902\nReading at chunk 2903\nReading at chunk 2904\nReading at chunk 2905\n"
     ]
    },
    {
     "name": "stdout",
     "output_type": "stream",
     "text": [
      "Reading at chunk 2906\nReading at chunk 2907\nReading at chunk 2908\nReading at chunk 2909\nReading at chunk 2910\nReading at chunk 2911\nReading at chunk 2912\nReading at chunk 2913\nReading at chunk 2914\nReading at chunk 2915\nReading at chunk 2916\nReading at chunk 2917\nReading at chunk 2918\nReading at chunk 2919\nReading at chunk 2920\nReading at chunk 2921\nReading at chunk 2922\nReading at chunk 2923\nReading at chunk 2924\n"
     ]
    },
    {
     "name": "stdout",
     "output_type": "stream",
     "text": [
      "Reading at chunk 2925\nReading at chunk 2926\nReading at chunk 2927\nReading at chunk 2928\nReading at chunk 2929\nReading at chunk 2930\nReading at chunk 2931\nReading at chunk 2932\nReading at chunk 2933\nReading at chunk 2934\nReading at chunk 2935\nReading at chunk 2936\nReading at chunk 2937\nReading at chunk 2938\nReading at chunk 2939\nReading at chunk 2940\nReading at chunk 2941\nReading at chunk 2942\n"
     ]
    },
    {
     "name": "stdout",
     "output_type": "stream",
     "text": [
      "Reading at chunk 2943\nReading at chunk 2944\nReading at chunk 2945\nReading at chunk 2946\nReading at chunk 2947\nReading at chunk 2948\nReading at chunk 2949\nReading at chunk 2950\nReading at chunk 2951\nReading at chunk 2952\nReading at chunk 2953\nReading at chunk 2954\nReading at chunk 2955\nReading at chunk 2956\nReading at chunk 2957\nReading at chunk 2958\nReading at chunk 2959\nReading at chunk 2960\nReading at chunk"
     ]
    },
    {
     "name": "stdout",
     "output_type": "stream",
     "text": [
      " 2961\nReading at chunk 2962\nReading at chunk 2963\nReading at chunk 2964\nReading at chunk 2965\nReading at chunk 2966\nReading at chunk 2967\nReading at chunk 2968\nReading at chunk 2969\nReading at chunk 2970\nReading at chunk 2971\nReading at chunk 2972\nReading at chunk 2973\nReading at chunk 2974\nReading at chunk 2975\nReading at chunk 2976\nReading at chunk 2977\nReading at chunk 2978\n"
     ]
    },
    {
     "name": "stdout",
     "output_type": "stream",
     "text": [
      "Reading at chunk 2979\nReading at chunk 2980\nReading at chunk 2981\nReading at chunk 2982\nReading at chunk 2983\nReading at chunk 2984\nReading at chunk 2985\nReading at chunk 2986\nReading at chunk 2987\nReading at chunk 2988\nReading at chunk 2989\nReading at chunk 2990\nReading at chunk 2991\nReading at chunk 2992\nReading at chunk 2993\nReading at chunk 2994\nReading at chunk 2995\nReading at chunk 2996\nReading at chunk 2997"
     ]
    },
    {
     "name": "stdout",
     "output_type": "stream",
     "text": [
      "\nReading at chunk 2998\nReading at chunk 2999\nReading at chunk 3000\nReading at chunk 3001\nReading at chunk 3002\nReading at chunk 3003\nReading at chunk 3004\nReading at chunk 3005\nReading at chunk 3006\nReading at chunk 3007\nReading at chunk 3008\nReading at chunk 3009\nReading at chunk 3010\nReading at chunk 3011\nReading at chunk 3012\nReading at chunk 3013\n"
     ]
    },
    {
     "name": "stdout",
     "output_type": "stream",
     "text": [
      "Reading at chunk 3014\nReading at chunk 3015\nReading at chunk 3016\nReading at chunk 3017\nReading at chunk 3018\nReading at chunk 3019\nReading at chunk 3020\nReading at chunk 3021\nReading at chunk 3022\nReading at chunk 3023\nReading at chunk 3024\nReading at chunk 3025\nReading at chunk 3026\nReading at chunk 3027\nReading at chunk 3028\nReading at chunk 3029\nReading at chunk 3030\n"
     ]
    },
    {
     "name": "stdout",
     "output_type": "stream",
     "text": [
      "Reading at chunk 3031\nReading at chunk 3032\nReading at chunk 3033\nReading at chunk 3034\nReading at chunk 3035\nReading at chunk 3036\nReading at chunk 3037\nReading at chunk 3038\nReading at chunk 3039\nReading at chunk 3040\nReading at chunk 3041\nReading at chunk 3042\nReading at chunk 3043\nReading at chunk 3044\nReading at chunk 3045\nReading at chunk 3046\nReading at chunk 3047\n"
     ]
    },
    {
     "name": "stdout",
     "output_type": "stream",
     "text": [
      "Reading at chunk 3048\nReading at chunk 3049\nReading at chunk 3050\nReading at chunk 3051\nReading at chunk 3052\nReading at chunk 3053\nReading at chunk 3054\nReading at chunk 3055\nReading at chunk 3056\nReading at chunk 3057\nReading at chunk 3058\nReading at chunk 3059\nReading at chunk 3060\nReading at chunk 3061\nReading at chunk 3062\nReading at chunk 3063\nReading at chunk 3064\n"
     ]
    },
    {
     "name": "stdout",
     "output_type": "stream",
     "text": [
      "Reading at chunk 3065\nReading at chunk 3066\nReading at chunk 3067\nReading at chunk 3068\nReading at chunk 3069\nReading at chunk 3070\nReading at chunk 3071\nReading at chunk 3072\nReading at chunk 3073\nReading at chunk 3074\nReading at chunk 3075\nReading at chunk 3076\nReading at chunk 3077\nReading at chunk 3078\nReading at chunk 3079\nReading at chunk 3080\nReading at chunk 3081\n"
     ]
    },
    {
     "name": "stdout",
     "output_type": "stream",
     "text": [
      "Reading at chunk 3082\nReading at chunk 3083\nReading at chunk 3084\nReading at chunk 3085\nReading at chunk 3086\nReading at chunk 3087\nReading at chunk 3088\nReading at chunk 3089\nReading at chunk 3090\nReading at chunk 3091\nReading at chunk 3092\nReading at chunk 3093\nReading at chunk 3094\nReading at chunk 3095\nReading at chunk 3096\nReading at chunk 3097\nReading at chunk"
     ]
    },
    {
     "name": "stdout",
     "output_type": "stream",
     "text": [
      " 3098\nReading at chunk 3099\nReading at chunk 3100\nReading at chunk 3101\nReading at chunk 3102\nReading at chunk 3103\nReading at chunk 3104\nReading at chunk 3105\nReading at chunk 3106\nReading at chunk 3107\nReading at chunk 3108\nReading at chunk 3109\nReading at chunk 3110\nReading at chunk 3111\nReading at chunk 3112\nReading at chunk 3113\nReading at chunk 3114\nReading at chunk 3115\nReading at chunk 3116\n"
     ]
    },
    {
     "name": "stdout",
     "output_type": "stream",
     "text": [
      "Reading at chunk 3117\nReading at chunk 3118\nReading at chunk 3119\nReading at chunk 3120\nReading at chunk 3121\nReading at chunk 3122\nReading at chunk 3123\nReading at chunk 3124\nReading at chunk 3125\nReading at chunk 3126\nReading at chunk 3127\nReading at chunk 3128\nReading at chunk 3129\nReading at chunk 3130\nReading at chunk 3131\nReading at chunk 3132\nReading at chunk 3133\nReading at chunk 3134\n"
     ]
    },
    {
     "name": "stdout",
     "output_type": "stream",
     "text": [
      "Reading at chunk 3135\nReading at chunk 3136\nReading at chunk 3137\nReading at chunk 3138\nReading at chunk 3139\nReading at chunk 3140\nReading at chunk 3141\nReading at chunk 3142\nReading at chunk 3143\nReading at chunk 3144\nReading at chunk 3145\nReading at chunk 3146\nReading at chunk 3147\nReading at chunk 3148\nReading at chunk 3149\nReading at chunk 3150\nReading at chunk 3151\nReading at chunk 3152\n"
     ]
    },
    {
     "name": "stdout",
     "output_type": "stream",
     "text": [
      "Reading at chunk 3153\nReading at chunk 3154\nReading at chunk 3155\nReading at chunk 3156\nReading at chunk 3157\nReading at chunk 3158\nReading at chunk 3159\nReading at chunk 3160\nReading at chunk 3161\nReading at chunk 3162\nReading at chunk 3163\nReading at chunk 3164\nReading at chunk 3165\nReading at chunk 3166\nReading at chunk 3167\nReading at chunk 3168\nReading at chunk 3169\n"
     ]
    },
    {
     "name": "stdout",
     "output_type": "stream",
     "text": [
      "Reading at chunk 3170\nReading at chunk 3171\nReading at chunk 3172\nReading at chunk 3173\nReading at chunk 3174\nReading at chunk 3175\nReading at chunk 3176\nReading at chunk 3177\nReading at chunk 3178\nReading at chunk 3179\nReading at chunk 3180\nReading at chunk 3181\nReading at chunk 3182\nReading at chunk 3183\nReading at chunk 3184\nReading at chunk 3185\nReading at chunk 3186\nReading at chunk 3187\n"
     ]
    },
    {
     "name": "stdout",
     "output_type": "stream",
     "text": [
      "Reading at chunk 3188\nReading at chunk 3189\nReading at chunk 3190\nReading at chunk 3191\nReading at chunk 3192\nReading at chunk 3193\nReading at chunk 3194\nReading at chunk 3195\nReading at chunk 3196\nReading at chunk 3197\nReading at chunk 3198\nReading at chunk 3199\nReading at chunk 3200\nReading at chunk 3201\nReading at chunk 3202\nReading at chunk 3203\nReading at chunk"
     ]
    },
    {
     "name": "stdout",
     "output_type": "stream",
     "text": [
      " 3204\nReading at chunk 3205\nReading at chunk 3206\nReading at chunk 3207\nReading at chunk 3208\nReading at chunk 3209\nReading at chunk 3210\nReading at chunk 3211\nReading at chunk 3212\nReading at chunk 3213\nReading at chunk 3214\nReading at chunk 3215\nReading at chunk 3216\nReading at chunk 3217\nReading at chunk 3218\n"
     ]
    },
    {
     "name": "stdout",
     "output_type": "stream",
     "text": [
      "Reading at chunk 3219\nReading at chunk 3220\nReading at chunk 3221\nReading at chunk 3222\nReading at chunk 3223\nReading at chunk 3224\nReading at chunk 3225\nReading at chunk 3226\nReading at chunk 3227\nReading at chunk 3228\nReading at chunk 3229\nReading at chunk 3230\nReading at chunk 3231\nReading at chunk 3232\nReading at chunk 3233\nReading at chunk 3234\nReading at chunk 3235\nReading at chunk 3236\n"
     ]
    },
    {
     "name": "stdout",
     "output_type": "stream",
     "text": [
      "Reading at chunk 3237\nReading at chunk 3238\nReading at chunk 3239\nReading at chunk 3240\nReading at chunk 3241\nReading at chunk 3242\nReading at chunk 3243\nReading at chunk 3244\nReading at chunk 3245\nReading at chunk 3246\nReading at chunk 3247\nReading at chunk 3248\nReading at chunk 3249\nReading at chunk 3250\nReading at chunk 3251\nReading at chunk 3252\nReading at chunk 3253\n"
     ]
    },
    {
     "name": "stdout",
     "output_type": "stream",
     "text": [
      "Reading at chunk 3254\nReading at chunk 3255\nReading at chunk 3256\nReading at chunk 3257\nReading at chunk 3258\nReading at chunk 3259\nReading at chunk 3260\nReading at chunk 3261\nReading at chunk 3262\nReading at chunk 3263\nReading at chunk 3264\nReading at chunk 3265\nReading at chunk 3266\nReading at chunk 3267\nReading at chunk 3268\nReading at chunk 3269\n"
     ]
    },
    {
     "name": "stdout",
     "output_type": "stream",
     "text": [
      "Reading at chunk 3270\nReading at chunk 3271\nReading at chunk 3272\nReading at chunk 3273\nReading at chunk 3274\nReading at chunk 3275\nReading at chunk 3276\nReading at chunk 3277\nReading at chunk 3278\nReading at chunk 3279\nReading at chunk 3280\nReading at chunk 3281\nReading at chunk 3282\nReading at chunk 3283\nReading at chunk 3284\nReading at chunk 3285\nReading at chunk 3286\nReading at chunk"
     ]
    },
    {
     "name": "stdout",
     "output_type": "stream",
     "text": [
      " 3287\nReading at chunk 3288\nReading at chunk 3289\nReading at chunk 3290\nReading at chunk 3291\nReading at chunk 3292\nReading at chunk 3293\nReading at chunk 3294\nReading at chunk 3295\nReading at chunk 3296\nReading at chunk 3297\nReading at chunk 3298\nReading at chunk 3299\nReading at chunk 3300\nReading at chunk 3301\nReading at chunk 3302\nReading at chunk 3303\nReading at chunk 3304\n"
     ]
    },
    {
     "name": "stdout",
     "output_type": "stream",
     "text": [
      "Reading at chunk 3305\nReading at chunk 3306\nReading at chunk 3307\nReading at chunk 3308\nReading at chunk 3309\nReading at chunk 3310\nReading at chunk 3311\nReading at chunk 3312\nReading at chunk 3313\nReading at chunk 3314\nReading at chunk 3315\nReading at chunk 3316\nReading at chunk 3317\nReading at chunk 3318\nReading at chunk 3319\nReading at chunk 3320\nReading at chunk 3321\nReading at chunk 3322\n"
     ]
    },
    {
     "name": "stdout",
     "output_type": "stream",
     "text": [
      "Reading at chunk 3323\nReading at chunk 3324\nReading at chunk 3325\nReading at chunk 3326\nReading at chunk 3327\nReading at chunk 3328\nReading at chunk 3329\nReading at chunk 3330\nReading at chunk 3331\nReading at chunk 3332\nReading at chunk 3333\nReading at chunk 3334\nReading at chunk 3335\nReading at chunk 3336\nReading at chunk 3337\nReading at chunk 3338\nReading at chunk 3339\nReading at chunk 3340\n"
     ]
    },
    {
     "name": "stdout",
     "output_type": "stream",
     "text": [
      "Reading at chunk 3341\nReading at chunk 3342\nReading at chunk 3343\nReading at chunk 3344\nReading at chunk 3345\nReading at chunk 3346\nReading at chunk 3347\nReading at chunk 3348\nReading at chunk 3349\nReading at chunk 3350\nReading at chunk 3351\nReading at chunk 3352\nReading at chunk 3353\nReading at chunk 3354\nReading at chunk 3355\nReading at chunk 3356\nReading at chunk 3357\nReading at chunk 3358\n"
     ]
    },
    {
     "name": "stdout",
     "output_type": "stream",
     "text": [
      "Reading at chunk 3359\nReading at chunk 3360\nReading at chunk 3361\nReading at chunk 3362\nReading at chunk 3363\nReading at chunk 3364\nReading at chunk 3365\nReading at chunk 3366\nReading at chunk 3367\nReading at chunk 3368\nReading at chunk 3369\nReading at chunk 3370\nReading at chunk 3371\nReading at chunk 3372\nReading at chunk 3373"
     ]
    },
    {
     "name": "stdout",
     "output_type": "stream",
     "text": [
      "\nReading at chunk 3374\nReading at chunk 3375\nReading at chunk 3376\nReading at chunk 3377\nReading at chunk 3378\nReading at chunk 3379\nReading at chunk 3380\nReading at chunk 3381\nReading at chunk 3382\nReading at chunk 3383\nReading at chunk 3384\nReading at chunk 3385\nReading at chunk 3386\nReading at chunk 3387\nReading at chunk 3388\nReading at chunk 3389\n"
     ]
    },
    {
     "name": "stdout",
     "output_type": "stream",
     "text": [
      "Reading at chunk 3390\nReading at chunk 3391\nReading at chunk 3392\nReading at chunk 3393\nReading at chunk 3394\nReading at chunk 3395\nReading at chunk 3396\nReading at chunk 3397\n"
     ]
    },
    {
     "name": "stdout",
     "output_type": "stream",
     "text": [
      "Reading at chunk 3398\nReading at chunk 3399\nReading at chunk 3400\n"
     ]
    },
    {
     "name": "stdout",
     "output_type": "stream",
     "text": [
      "Reading at chunk 3401\nReading at chunk 3402\nReading at chunk 3403\nReading at chunk 3404\nReading at chunk 3405\nReading at chunk 3406\n"
     ]
    },
    {
     "name": "stdout",
     "output_type": "stream",
     "text": [
      "Reading at chunk 3407\nReading at chunk 3408\nReading at chunk 3409\nReading at chunk 3410\n"
     ]
    },
    {
     "name": "stdout",
     "output_type": "stream",
     "text": [
      "Reading at chunk 3411\nReading at chunk 3412\nReading at chunk 3413\n"
     ]
    },
    {
     "name": "stdout",
     "output_type": "stream",
     "text": [
      "Reading at chunk 3414\nReading at chunk 3415\nReading at chunk 3416\nReading at chunk 3417\nReading at chunk 3418\nReading at chunk 3419\nReading at chunk 3420\nReading at chunk 3421\nReading at chunk 3422\n"
     ]
    },
    {
     "name": "stdout",
     "output_type": "stream",
     "text": [
      "Reading at chunk 3423\nReading at chunk 3424\n"
     ]
    },
    {
     "name": "stdout",
     "output_type": "stream",
     "text": [
      "Reading at chunk 3425\nReading at chunk 3426\nReading at chunk 3427\n"
     ]
    },
    {
     "name": "stdout",
     "output_type": "stream",
     "text": [
      "Reading at chunk 3428\nReading at chunk 3429\nReading at chunk 3430\nReading at chunk 3431\n"
     ]
    },
    {
     "name": "stdout",
     "output_type": "stream",
     "text": [
      "Reading at chunk 3432\nReading at chunk 3433\nReading at chunk 3434\nReading at chunk 3435\n"
     ]
    },
    {
     "name": "stdout",
     "output_type": "stream",
     "text": [
      "Reading at chunk 3436\nReading at chunk 3437\nReading at chunk 3438\nReading at chunk 3439\n"
     ]
    },
    {
     "name": "stdout",
     "output_type": "stream",
     "text": [
      "Reading at chunk 3440\nReading at chunk 3441\nReading at chunk 3442\nReading at chunk 3443\nReading at chunk 3444\nReading at chunk 3445\nReading at chunk 3446\nReading at chunk 3447\nReading at chunk 3448\n"
     ]
    },
    {
     "name": "stdout",
     "output_type": "stream",
     "text": [
      "Reading at chunk 3449\nReading at chunk 3450\nReading at chunk 3451\nReading at chunk 3452\nReading at chunk 3453\n"
     ]
    },
    {
     "name": "stdout",
     "output_type": "stream",
     "text": [
      "Reading at chunk 3454\nReading at chunk 3455\n"
     ]
    },
    {
     "name": "stdout",
     "output_type": "stream",
     "text": [
      "Reading at chunk 3456\nReading at chunk 3457\nReading at chunk 3458\nReading at chunk 3459\n"
     ]
    },
    {
     "name": "stdout",
     "output_type": "stream",
     "text": [
      "Reading at chunk 3460\nReading at chunk 3461\nReading at chunk 3462\nReading at chunk 3463\nReading at chunk 3464\n"
     ]
    },
    {
     "name": "stdout",
     "output_type": "stream",
     "text": [
      "Reading at chunk 3465\nReading at chunk 3466\nReading at chunk 3467\nReading at chunk 3468\nReading at chunk 3469\nReading at chunk 3470\n"
     ]
    },
    {
     "name": "stdout",
     "output_type": "stream",
     "text": [
      "Reading at chunk 3471\nReading at chunk 3472\nReading at chunk 3473\nReading at chunk 3474\nReading at chunk 3475\nReading at chunk 3476\nReading at chunk 3477\nReading at chunk 3478\n"
     ]
    },
    {
     "name": "stdout",
     "output_type": "stream",
     "text": [
      "Reading at chunk 3479\nReading at chunk 3480\nReading at chunk 3481\nReading at chunk 3482\nReading at chunk 3483\nReading at chunk"
     ]
    },
    {
     "name": "stdout",
     "output_type": "stream",
     "text": [
      " 3484\nReading at chunk 3485\nReading at chunk 3486\nReading at chunk 3487\nReading at chunk 3488\nReading at chunk 3489\nReading at chunk 3490\nReading at chunk 3491\nReading at chunk 3492\nReading at chunk 3493\nReading at chunk 3494\nReading at chunk 3495\nReading at chunk 3496\n"
     ]
    },
    {
     "name": "stdout",
     "output_type": "stream",
     "text": [
      "Reading at chunk 3497\nReading at chunk 3498\nReading at chunk 3499\nReading at chunk 3500\nReading at chunk 3501\nReading at chunk 3502\nReading at chunk 3503\nReading at chunk 3504\nReading at chunk 3505\nReading at chunk 3506\nReading at chunk 3507\nReading at chunk 3508\nReading at chunk 3509\nReading at chunk 3510\nReading at chunk 3511\n"
     ]
    },
    {
     "name": "stdout",
     "output_type": "stream",
     "text": [
      "Reading at chunk 3512\nReading at chunk 3513\nReading at chunk 3514\nReading at chunk 3515\nReading at chunk 3516\nReading at chunk 3517\nReading at chunk 3518\nReading at chunk 3519\nReading at chunk 3520\nReading at chunk 3521\nReading at chunk 3522\nReading at chunk 3523\nReading at chunk 3524\nReading at chunk 3525\nReading at chunk 3526\nReading at chunk 3527\nReading at chunk 3528\nReading at chunk "
     ]
    },
    {
     "name": "stdout",
     "output_type": "stream",
     "text": [
      "3529\nReading at chunk 3530\nReading at chunk 3531\nReading at chunk 3532\nReading at chunk 3533\nReading at chunk 3534\nReading at chunk 3535\nReading at chunk 3536\nReading at chunk 3537\nReading at chunk 3538\nReading at chunk 3539\nReading at chunk 3540\nReading at chunk 3541\nReading at chunk 3542\nReading at chunk 3543\nReading at chunk 3544\nReading at chunk 3545\n"
     ]
    },
    {
     "name": "stdout",
     "output_type": "stream",
     "text": [
      "Reading at chunk 3546\nReading at chunk 3547\nReading at chunk 3548\nReading at chunk 3549\nReading at chunk 3550\nReading at chunk 3551\nReading at chunk 3552\nReading at chunk 3553\nReading at chunk 3554\nReading at chunk 3555\nReading at chunk 3556\nReading at chunk 3557\nReading at chunk 3558\nReading at chunk 3559\nReading at chunk 3560\nReading at chunk 3561\nReading at chunk 3562\n"
     ]
    },
    {
     "name": "stdout",
     "output_type": "stream",
     "text": [
      "Reading at chunk 3563\nReading at chunk 3564\nReading at chunk 3565\nReading at chunk 3566\nReading at chunk 3567\nReading at chunk 3568\nReading at chunk 3569\nReading at chunk 3570\nReading at chunk 3571\nReading at chunk 3572\nReading at chunk 3573\nReading at chunk 3574\nReading at chunk 3575\nReading at chunk 3576\nReading at chunk 3577\nReading at chunk 3578\nReading at chunk 3579\nReading at chunk 3580\n"
     ]
    },
    {
     "name": "stdout",
     "output_type": "stream",
     "text": [
      "Reading at chunk 3581\nReading at chunk 3582\nReading at chunk 3583\nReading at chunk 3584\nReading at chunk 3585\nReading at chunk 3586\nReading at chunk 3587\nReading at chunk 3588\nReading at chunk 3589\nReading at chunk 3590\nReading at chunk 3591\nReading at chunk 3592\nReading at chunk 3593\nReading at chunk 3594\nReading at chunk 3595\nReading at chunk 3596\nReading at chunk 3597\nReading at chunk 3598\n"
     ]
    },
    {
     "name": "stdout",
     "output_type": "stream",
     "text": [
      "Reading at chunk 3599\nReading at chunk 3600\nReading at chunk 3601\nReading at chunk 3602\nReading at chunk 3603\nReading at chunk 3604\nReading at chunk 3605\nReading at chunk 3606\nReading at chunk 3607\nReading at chunk 3608\nReading at chunk 3609\nReading at chunk 3610\nReading at chunk 3611\nReading at chunk 3612\nReading at chunk 3613\nReading at chunk 3614\nReading at chunk 3615\nReading at chunk 3616\n"
     ]
    },
    {
     "name": "stdout",
     "output_type": "stream",
     "text": [
      "Reading at chunk 3617\nReading at chunk 3618\nReading at chunk 3619\nReading at chunk 3620\nReading at chunk 3621\nReading at chunk 3622\nReading at chunk 3623\nReading at chunk 3624\nReading at chunk 3625\nReading at chunk 3626\nReading at chunk 3627\nReading at chunk 3628\nReading at chunk 3629\nReading at chunk 3630\nReading at chunk 3631\nReading at chunk 3632\nReading at chunk 3633\n"
     ]
    },
    {
     "name": "stdout",
     "output_type": "stream",
     "text": [
      "Reading at chunk 3634\nReading at chunk 3635\nReading at chunk 3636\nReading at chunk 3637\nReading at chunk 3638\nReading at chunk 3639\nReading at chunk 3640\nReading at chunk 3641\nReading at chunk 3642\nReading at chunk 3643\nReading at chunk 3644\nReading at chunk 3645\nReading at chunk 3646\nReading at chunk 3647\nReading at chunk 3648\nReading at chunk 3649\nReading at chunk 3650\nReading at chunk 3651\n"
     ]
    },
    {
     "name": "stdout",
     "output_type": "stream",
     "text": [
      "Reading at chunk 3652\nReading at chunk 3653\nReading at chunk 3654\nReading at chunk 3655\nReading at chunk 3656\nReading at chunk 3657\nReading at chunk 3658\nReading at chunk 3659\nReading at chunk 3660\nReading at chunk 3661\nReading at chunk 3662\nReading at chunk 3663\nReading at chunk 3664\nReading at chunk 3665\nReading at chunk 3666\nReading at chunk 3667\nReading at chunk 3668\nReading at chunk 3669\n"
     ]
    },
    {
     "name": "stdout",
     "output_type": "stream",
     "text": [
      "Reading at chunk 3670\nReading at chunk 3671\nReading at chunk 3672\nReading at chunk 3673\nReading at chunk 3674\nReading at chunk 3675\nReading at chunk 3676\nReading at chunk 3677\nReading at chunk 3678\nReading at chunk 3679\nReading at chunk 3680\nReading at chunk 3681\nReading at chunk 3682\nReading at chunk 3683\nReading at chunk 3684\nReading at chunk 3685\nReading at chunk 3686\nReading at chunk 3687\n"
     ]
    },
    {
     "name": "stdout",
     "output_type": "stream",
     "text": [
      "Reading at chunk 3688\nReading at chunk 3689\nReading at chunk 3690\nReading at chunk 3691\nReading at chunk 3692\nReading at chunk 3693\nReading at chunk 3694\nReading at chunk 3695\nReading at chunk 3696\nReading at chunk 3697\nReading at chunk 3698\nReading at chunk 3699\nReading at chunk 3700\nReading at chunk 3701\nReading at chunk 3702\nReading at chunk 3703\nReading at chunk 3704\nReading at chunk 3705\n"
     ]
    },
    {
     "name": "stdout",
     "output_type": "stream",
     "text": [
      "Reading at chunk 3706\nReading at chunk 3707\nReading at chunk 3708\nReading at chunk 3709\nReading at chunk 3710\nReading at chunk 3711\nReading at chunk 3712\nReading at chunk 3713\nReading at chunk 3714\nReading at chunk 3715\nReading at chunk 3716\nReading at chunk 3717\nReading at chunk 3718\nReading at chunk 3719\nReading at chunk 3720\nReading at chunk 3721\nReading at chunk 3722\nReading at chunk 3723\n"
     ]
    },
    {
     "name": "stdout",
     "output_type": "stream",
     "text": [
      "Reading at chunk 3724\nReading at chunk 3725\nReading at chunk 3726\nReading at chunk 3727\nReading at chunk 3728\nReading at chunk 3729\nReading at chunk 3730\nReading at chunk 3731\nReading at chunk 3732\nReading at chunk 3733\nReading at chunk 3734\nReading at chunk 3735\nReading at chunk 3736\nReading at chunk 3737\nReading at chunk 3738\nReading at chunk 3739\nReading at chunk 3740\nReading at chunk 3741\n"
     ]
    },
    {
     "name": "stdout",
     "output_type": "stream",
     "text": [
      "Reading at chunk 3742\nReading at chunk 3743\nReading at chunk 3744\nReading at chunk 3745\nReading at chunk 3746\nReading at chunk 3747\nReading at chunk 3748\nReading at chunk 3749\nReading at chunk 3750\nReading at chunk 3751\nReading at chunk 3752\nReading at chunk 3753\nReading at chunk 3754\nReading at chunk 3755\nReading at chunk 3756\nReading at chunk 3757\nReading at chunk 3758\nReading at chunk 3759\n"
     ]
    },
    {
     "name": "stdout",
     "output_type": "stream",
     "text": [
      "Reading at chunk 3760\nReading at chunk 3761\nReading at chunk 3762\nReading at chunk 3763\nReading at chunk 3764\nReading at chunk 3765\nReading at chunk 3766\nReading at chunk 3767\nReading at chunk 3768\nReading at chunk 3769\nReading at chunk 3770\nReading at chunk 3771\nReading at chunk 3772\nReading at chunk 3773\nReading at chunk 3774\nReading at chunk 3775\nReading at chunk 3776\n"
     ]
    },
    {
     "name": "stdout",
     "output_type": "stream",
     "text": [
      "Reading at chunk 3777\nReading at chunk 3778\nReading at chunk 3779\nReading at chunk 3780\nReading at chunk 3781\nReading at chunk 3782\nReading at chunk 3783\nReading at chunk 3784\nReading at chunk 3785\nReading at chunk 3786\nReading at chunk 3787\nReading at chunk 3788\nReading at chunk 3789\nReading at chunk 3790\nReading at chunk 3791\nReading at chunk 3792\nReading at chunk 3793\nReading at chunk 3794\n"
     ]
    },
    {
     "name": "stdout",
     "output_type": "stream",
     "text": [
      "Reading at chunk 3795\nReading at chunk 3796\nReading at chunk 3797\nReading at chunk 3798\nReading at chunk 3799\nReading at chunk 3800\nReading at chunk 3801\nReading at chunk 3802\nReading at chunk 3803\nReading at chunk 3804\nReading at chunk 3805\nReading at chunk 3806\nReading at chunk 3807\nReading at chunk 3808\nReading at chunk 3809\nReading at chunk 3810\n"
     ]
    },
    {
     "name": "stdout",
     "output_type": "stream",
     "text": [
      "Reading at chunk 3811\nReading at chunk 3812\nReading at chunk 3813\nReading at chunk 3814\nReading at chunk 3815\nReading at chunk 3816\nReading at chunk 3817\nReading at chunk 3818\nReading at chunk 3819\nReading at chunk 3820\nReading at chunk 3821\nReading at chunk 3822\nReading at chunk 3823\nReading at chunk 3824\nReading at chunk 3825\nReading at chunk 3826\n"
     ]
    },
    {
     "name": "stdout",
     "output_type": "stream",
     "text": [
      "Reading at chunk 3827\nReading at chunk 3828\nReading at chunk 3829\nReading at chunk 3830\nReading at chunk 3831\nReading at chunk 3832\nReading at chunk 3833\nReading at chunk 3834\nReading at chunk 3835\nReading at chunk 3836\nReading at chunk 3837\nReading at chunk 3838\nReading at chunk 3839\nReading at chunk 3840\nReading at chunk 3841\nReading at chunk 3842\nReading at chunk 3843\n"
     ]
    },
    {
     "name": "stdout",
     "output_type": "stream",
     "text": [
      "Reading at chunk 3844\nReading at chunk 3845\nReading at chunk 3846\nReading at chunk 3847\nReading at chunk 3848\nReading at chunk 3849\nReading at chunk 3850\nReading at chunk 3851\nReading at chunk 3852\nReading at chunk 3853\nReading at chunk 3854\nReading at chunk 3855\nReading at chunk 3856\n"
     ]
    },
    {
     "name": "stdout",
     "output_type": "stream",
     "text": [
      "Reading at chunk 3857\nReading at chunk 3858\nReading at chunk 3859\nReading at chunk 3860\nReading at chunk 3861\nReading at chunk 3862\nReading at chunk 3863\nReading at chunk 3864\nReading at chunk 3865\nReading at chunk 3866\nReading at chunk 3867\nReading at chunk 3868\nReading at chunk 3869\nReading at chunk 3870\nReading at chunk 3871\n"
     ]
    },
    {
     "name": "stdout",
     "output_type": "stream",
     "text": [
      "Reading at chunk 3872\nReading at chunk 3873\nReading at chunk 3874\nReading at chunk 3875\nReading at chunk 3876\nReading at chunk 3877\nReading at chunk 3878\nReading at chunk 3879\nReading at chunk 3880\nReading at chunk 3881\nReading at chunk 3882\nReading at chunk 3883\nReading at chunk 3884\nReading at chunk 3885\nReading at chunk 3886\nReading at chunk 3887\nReading at chunk 3888\n"
     ]
    },
    {
     "name": "stdout",
     "output_type": "stream",
     "text": [
      "Reading at chunk 3889\nReading at chunk 3890\nReading at chunk 3891\nReading at chunk 3892\nReading at chunk 3893\nReading at chunk 3894\nReading at chunk 3895\nReading at chunk 3896\nReading at chunk 3897\nReading at chunk 3898\nReading at chunk 3899\nReading at chunk 3900\nReading at chunk 3901\nReading at chunk 3902\nReading at chunk 3903\nReading at chunk 3904\nReading at chunk 3905\n"
     ]
    },
    {
     "name": "stdout",
     "output_type": "stream",
     "text": [
      "Reading at chunk 3906\nReading at chunk 3907\nReading at chunk 3908\nReading at chunk 3909\nReading at chunk 3910\nReading at chunk 3911\nReading at chunk 3912\nReading at chunk 3913\nReading at chunk 3914\nReading at chunk 3915\nReading at chunk 3916\nReading at chunk 3917\nReading at chunk 3918\nReading at chunk 3919\n"
     ]
    },
    {
     "name": "stdout",
     "output_type": "stream",
     "text": [
      "Reading at chunk 3920\nReading at chunk 3921\nReading at chunk 3922\nReading at chunk 3923\nReading at chunk 3924\nReading at chunk 3925\nReading at chunk 3926\nReading at chunk 3927\nReading at chunk 3928\nReading at chunk 3929\nReading at chunk 3930\nReading at chunk 3931\nReading at chunk 3932\nReading at chunk 3933\nReading at chunk 3934\n"
     ]
    },
    {
     "name": "stdout",
     "output_type": "stream",
     "text": [
      "Reading at chunk 3935\nReading at chunk 3936\nReading at chunk 3937\nReading at chunk 3938\nReading at chunk 3939\nReading at chunk 3940\nReading at chunk 3941\nReading at chunk 3942\nReading at chunk 3943\nReading at chunk 3944\nReading at chunk 3945\nReading at chunk 3946\nReading at chunk 3947\nReading at chunk 3948\nReading at chunk 3949\nReading at chunk 3950\n"
     ]
    },
    {
     "name": "stdout",
     "output_type": "stream",
     "text": [
      "Reading at chunk 3951\nReading at chunk 3952\nReading at chunk 3953\nReading at chunk 3954\nReading at chunk 3955\nReading at chunk 3956\nReading at chunk 3957\nReading at chunk 3958\nReading at chunk 3959\nReading at chunk 3960\nReading at chunk 3961\nReading at chunk 3962\nReading at chunk 3963\nReading at chunk 3964\nReading at chunk 3965\nReading at chunk"
     ]
    },
    {
     "name": "stdout",
     "output_type": "stream",
     "text": [
      " 3966\nReading at chunk 3967\nReading at chunk 3968\nReading at chunk 3969\nReading at chunk 3970\nReading at chunk 3971\nReading at chunk 3972\nReading at chunk 3973\nReading at chunk 3974\nReading at chunk 3975\nReading at chunk 3976\nReading at chunk 3977\nReading at chunk 3978\nReading at chunk 3979\nReading at chunk 3980\nReading at chunk 3981\nReading at chunk 3982\nReading at chunk 3983\nReading at chunk 3984\nReading at chunk"
     ]
    },
    {
     "name": "stdout",
     "output_type": "stream",
     "text": [
      " 3985\nReading at chunk 3986\nReading at chunk 3987\nReading at chunk 3988\nReading at chunk 3989\nReading at chunk 3990\nReading at chunk 3991\nReading at chunk 3992\nReading at chunk 3993\nReading at chunk 3994\nReading at chunk 3995\nReading at chunk 3996\nReading at chunk 3997\nReading at chunk 3998\nReading at chunk 3999\nReading at chunk 4000\nReading at chunk 4001\nReading at chunk 4002\nReading at chunk 4003\n"
     ]
    },
    {
     "name": "stdout",
     "output_type": "stream",
     "text": [
      "Reading at chunk 4004\nReading at chunk 4005\nReading at chunk 4006\nReading at chunk 4007\nReading at chunk 4008\nReading at chunk 4009\nReading at chunk 4010\nReading at chunk 4011\nReading at chunk 4012\nReading at chunk 4013\nReading at chunk 4014\nReading at chunk 4015\nReading at chunk 4016\nReading at chunk 4017\nReading at chunk 4018\nReading at chunk 4019\nReading at chunk 4020\nReading at chunk 4021\n"
     ]
    },
    {
     "name": "stdout",
     "output_type": "stream",
     "text": [
      "Reading at chunk 4022\nReading at chunk 4023\nReading at chunk 4024\nReading at chunk 4025\nReading at chunk 4026\nReading at chunk 4027\nReading at chunk 4028\nReading at chunk 4029\nReading at chunk 4030\nReading at chunk 4031\nReading at chunk 4032\nReading at chunk 4033\nReading at chunk 4034\nReading at chunk 4035\nReading at chunk 4036\nReading at chunk 4037\nReading at chunk 4038\n"
     ]
    },
    {
     "name": "stdout",
     "output_type": "stream",
     "text": [
      "Reading at chunk 4039\nReading at chunk 4040\nReading at chunk 4041\nReading at chunk 4042\nReading at chunk 4043\nReading at chunk 4044\nReading at chunk 4045\nReading at chunk 4046\nReading at chunk 4047\nReading at chunk 4048\nReading at chunk 4049\nReading at chunk 4050\nReading at chunk 4051\nReading at chunk 4052\nReading at chunk 4053\nReading at chunk 4054\nReading at chunk 4055\n"
     ]
    },
    {
     "name": "stdout",
     "output_type": "stream",
     "text": [
      "Reading at chunk 4056\nReading at chunk 4057\nReading at chunk 4058\nReading at chunk 4059\nReading at chunk 4060\nReading at chunk 4061\nReading at chunk 4062\nReading at chunk 4063\nReading at chunk 4064\nReading at chunk 4065\nReading at chunk 4066\nReading at chunk 4067\nReading at chunk 4068\nReading at chunk 4069\nReading at chunk 4070\nReading at chunk 4071\nReading at chunk 4072\nReading at chunk 4073\n"
     ]
    },
    {
     "name": "stdout",
     "output_type": "stream",
     "text": [
      "Reading at chunk 4074\nReading at chunk 4075\nReading at chunk 4076\nReading at chunk 4077\nReading at chunk 4078\nReading at chunk 4079\nReading at chunk 4080\nReading at chunk 4081\nReading at chunk 4082\nReading at chunk 4083\nReading at chunk 4084\nReading at chunk 4085\nReading at chunk 4086\nReading at chunk 4087\nReading at chunk 4088\n"
     ]
    },
    {
     "name": "stdout",
     "output_type": "stream",
     "text": [
      "Reading at chunk 4089\nReading at chunk 4090\nReading at chunk 4091\nReading at chunk 4092\nReading at chunk 4093\nReading at chunk 4094\nReading at chunk 4095\nReading at chunk 4096\nReading at chunk 4097\nReading at chunk 4098\nReading at chunk 4099\nReading at chunk 4100\nReading at chunk 4101\nReading at chunk 4102\nReading at chunk 4103\nReading at chunk 4104\nReading at chunk 4105\n"
     ]
    },
    {
     "name": "stdout",
     "output_type": "stream",
     "text": [
      "Reading at chunk 4106\nReading at chunk 4107\nReading at chunk 4108\nReading at chunk 4109\nReading at chunk 4110\nReading at chunk 4111\nReading at chunk 4112\nReading at chunk 4113\nReading at chunk 4114\nReading at chunk 4115\nReading at chunk 4116\nReading at chunk 4117\nReading at chunk 4118\nReading at chunk 4119\nReading at chunk 4120\nReading at chunk 4121\nReading at chunk 4122\nReading at chunk 4123\n"
     ]
    },
    {
     "name": "stdout",
     "output_type": "stream",
     "text": [
      "Reading at chunk 4124\nReading at chunk 4125\nReading at chunk 4126\nReading at chunk 4127\nReading at chunk 4128\nReading at chunk 4129\nReading at chunk 4130\nReading at chunk 4131\nReading at chunk 4132\nReading at chunk 4133\nReading at chunk 4134\nReading at chunk 4135\nReading at chunk 4136\nReading at chunk 4137\nReading at chunk 4138\nReading at chunk 4139\nReading at chunk 4140\n"
     ]
    },
    {
     "name": "stdout",
     "output_type": "stream",
     "text": [
      "Reading at chunk 4141\nReading at chunk 4142\nReading at chunk 4143\nReading at chunk 4144\nReading at chunk 4145\nReading at chunk 4146\nReading at chunk 4147\nReading at chunk 4148\nReading at chunk 4149\nReading at chunk 4150\nReading at chunk 4151\nReading at chunk 4152\nReading at chunk 4153\nReading at chunk 4154\nReading at chunk 4155\nReading at chunk 4156\nReading at chunk 4157\nReading at chunk 4158\n"
     ]
    },
    {
     "name": "stdout",
     "output_type": "stream",
     "text": [
      "Reading at chunk 4159\nReading at chunk 4160\nReading at chunk 4161\nReading at chunk 4162\nReading at chunk 4163\nReading at chunk 4164\nReading at chunk 4165\nReading at chunk 4166\nReading at chunk 4167\nReading at chunk 4168\nReading at chunk 4169\nReading at chunk 4170\nReading at chunk 4171\nReading at chunk 4172\nReading at chunk 4173\nReading at chunk 4174\nReading at chunk 4175\nReading at chunk 4176\n"
     ]
    },
    {
     "name": "stdout",
     "output_type": "stream",
     "text": [
      "Reading at chunk 4177\nReading at chunk 4178\nReading at chunk 4179\nReading at chunk 4180\nReading at chunk 4181\nReading at chunk 4182\nReading at chunk 4183\nReading at chunk 4184\nReading at chunk 4185\nReading at chunk 4186\nReading at chunk 4187\nReading at chunk 4188\nReading at chunk 4189\nReading at chunk 4190\nReading at chunk 4191\nReading at chunk 4192\nReading at chunk 4193\nReading at chunk 4194\nReading at chunk"
     ]
    },
    {
     "name": "stdout",
     "output_type": "stream",
     "text": [
      " 4195\nReading at chunk 4196\nReading at chunk 4197\nReading at chunk 4198\nReading at chunk 4199\nReading at chunk 4200\nReading at chunk 4201\nReading at chunk 4202\nReading at chunk 4203\nReading at chunk 4204\nReading at chunk 4205\nReading at chunk 4206\nReading at chunk 4207\nReading at chunk 4208\nReading at chunk 4209\nReading at chunk 4210\nReading at chunk 4211\nReading at chunk 4212\nReading at chunk 4213\n"
     ]
    },
    {
     "name": "stdout",
     "output_type": "stream",
     "text": [
      "Reading at chunk 4214\nReading at chunk 4215\nReading at chunk 4216\nReading at chunk 4217\nReading at chunk 4218\nReading at chunk 4219\nReading at chunk 4220\nReading at chunk 4221\nReading at chunk 4222\nReading at chunk 4223\nReading at chunk 4224\nReading at chunk 4225\nReading at chunk 4226\nReading at chunk 4227\nReading at chunk 4228\nReading at chunk 4229\nReading at chunk 4230\nReading at chunk 4231\nReading at chunk"
     ]
    },
    {
     "name": "stdout",
     "output_type": "stream",
     "text": [
      " 4232\nReading at chunk 4233\nReading at chunk 4234\nReading at chunk 4235\nReading at chunk 4236\nReading at chunk 4237\nReading at chunk 4238\nReading at chunk 4239\nReading at chunk 4240\nReading at chunk 4241\nReading at chunk 4242\nReading at chunk 4243\nReading at chunk 4244\nReading at chunk 4245\nReading at chunk 4246\nReading at chunk 4247\nReading at chunk 4248\nReading at chunk 4249\n"
     ]
    },
    {
     "name": "stdout",
     "output_type": "stream",
     "text": [
      "Reading at chunk 4250\nReading at chunk 4251\nReading at chunk 4252\nReading at chunk 4253\nReading at chunk 4254\nReading at chunk 4255\nReading at chunk 4256\nReading at chunk 4257\nReading at chunk 4258\nReading at chunk 4259\nReading at chunk 4260\nReading at chunk 4261\nReading at chunk 4262\nReading at chunk 4263\nReading at chunk 4264\nReading at chunk 4265\nReading at chunk 4266\nReading at chunk 4267\n"
     ]
    },
    {
     "name": "stdout",
     "output_type": "stream",
     "text": [
      "Reading at chunk 4268\nReading at chunk 4269\nReading at chunk 4270\nReading at chunk 4271\nReading at chunk 4272\nReading at chunk 4273\nReading at chunk 4274\nReading at chunk 4275\nReading at chunk 4276\nReading at chunk 4277\nReading at chunk 4278\nReading at chunk 4279\nReading at chunk 4280\nReading at chunk 4281\nReading at chunk 4282\nReading at chunk 4283\nReading at chunk 4284\nReading at chunk"
     ]
    },
    {
     "name": "stdout",
     "output_type": "stream",
     "text": [
      " 4285\nReading at chunk 4286\nReading at chunk 4287\nReading at chunk 4288\nReading at chunk 4289\nReading at chunk 4290\nReading at chunk 4291\nReading at chunk 4292\nReading at chunk 4293\nReading at chunk 4294\nReading at chunk 4295\nReading at chunk 4296\nReading at chunk 4297\nReading at chunk 4298\nReading at chunk 4299\nReading at chunk 4300\nReading at chunk 4301\nReading at chunk 4302\nReading at chunk 4303\nReading at chunk 4304\n"
     ]
    },
    {
     "name": "stdout",
     "output_type": "stream",
     "text": [
      "Reading at chunk 4305\nReading at chunk 4306\nReading at chunk 4307\nReading at chunk 4308\nReading at chunk 4309\nReading at chunk 4310\nReading at chunk 4311\nReading at chunk 4312\nReading at chunk 4313\nReading at chunk 4314\nReading at chunk 4315\nReading at chunk 4316\nReading at chunk 4317\nReading at chunk 4318\nReading at chunk 4319\nReading at chunk 4320\nReading at chunk 4321\nReading at chunk 4322\n"
     ]
    },
    {
     "name": "stdout",
     "output_type": "stream",
     "text": [
      "Reading at chunk 4323\nReading at chunk 4324\nReading at chunk 4325\nReading at chunk 4326\nReading at chunk 4327\nReading at chunk 4328\nReading at chunk 4329\nReading at chunk 4330\nReading at chunk 4331\nReading at chunk 4332\nReading at chunk 4333\nReading at chunk 4334\nReading at chunk 4335\nReading at chunk 4336\nReading at chunk 4337\nReading at chunk 4338\nReading at chunk 4339\nReading at chunk 4340\n"
     ]
    },
    {
     "name": "stdout",
     "output_type": "stream",
     "text": [
      "Reading at chunk 4341\nReading at chunk 4342\nReading at chunk 4343\nReading at chunk 4344\nReading at chunk 4345\nReading at chunk 4346\nReading at chunk 4347\nReading at chunk 4348\nReading at chunk 4349\nReading at chunk 4350\nReading at chunk 4351\nReading at chunk 4352\nReading at chunk 4353\nReading at chunk 4354\nReading at chunk 4355\nReading at chunk 4356\nReading at chunk 4357\nReading at chunk"
     ]
    },
    {
     "name": "stdout",
     "output_type": "stream",
     "text": [
      " 4358\nReading at chunk 4359\nReading at chunk 4360\nReading at chunk 4361\nReading at chunk 4362\nReading at chunk 4363\nReading at chunk 4364\nReading at chunk 4365\nReading at chunk 4366\nReading at chunk 4367\nReading at chunk 4368\nReading at chunk 4369\nReading at chunk 4370\nReading at chunk 4371\nReading at chunk 4372\nReading at chunk 4373\nReading at chunk 4374\nReading at chunk 4375\nReading at chunk 4376\n"
     ]
    },
    {
     "name": "stdout",
     "output_type": "stream",
     "text": [
      "Reading at chunk 4377\nReading at chunk 4378\nReading at chunk 4379\nReading at chunk 4380\nReading at chunk 4381\nReading at chunk 4382\nReading at chunk 4383\nReading at chunk 4384\nReading at chunk 4385\nReading at chunk 4386\nReading at chunk 4387\nReading at chunk 4388\nReading at chunk 4389\nReading at chunk 4390\nReading at chunk 4391\nReading at chunk 4392\nReading at chunk 4393\nReading at chunk 4394"
     ]
    },
    {
     "name": "stdout",
     "output_type": "stream",
     "text": [
      "\nReading at chunk 4395\nReading at chunk 4396\nReading at chunk 4397\nReading at chunk 4398\nReading at chunk 4399\nReading at chunk 4400\nReading at chunk 4401\nReading at chunk 4402\nReading at chunk 4403\nReading at chunk 4404\nReading at chunk 4405\nReading at chunk 4406\nReading at chunk 4407\nReading at chunk 4408\nReading at chunk 4409\nReading at chunk 4410\nReading at chunk 4411\nReading at chunk 4412\n"
     ]
    },
    {
     "name": "stdout",
     "output_type": "stream",
     "text": [
      "Reading at chunk 4413\nReading at chunk 4414\nReading at chunk 4415\nReading at chunk 4416\nReading at chunk 4417\nReading at chunk 4418\nReading at chunk 4419\nReading at chunk 4420\nReading at chunk 4421\nReading at chunk 4422\nReading at chunk 4423\nReading at chunk 4424\nReading at chunk 4425\nReading at chunk 4426\nReading at chunk 4427\nReading at chunk 4428\nReading at chunk 4429\nReading at chunk"
     ]
    },
    {
     "name": "stdout",
     "output_type": "stream",
     "text": [
      " 4430\nReading at chunk 4431\nReading at chunk 4432\nReading at chunk 4433\nReading at chunk 4434\nReading at chunk 4435\nReading at chunk 4436\nReading at chunk 4437\nReading at chunk 4438\nReading at chunk 4439\nReading at chunk 4440\nConcatenating chunks\n"
     ]
    },
    {
     "name": "stdout",
     "output_type": "stream",
     "text": [
      "ALL CHUNKS:\n "
     ]
    },
    {
     "name": "stdout",
     "output_type": "stream",
     "text": [
      "         change_pct  price_retail  tematico_ind  folheto_ind  tv_ind  price  \\\n0               0.5      4.555071           1.0          1.0     1.0      0   \n1               0.5      4.555071           1.0          1.0     1.0      0   \n2               0.5      4.555071           1.0          1.0     1.0      0   \n3               0.5      4.555071           1.0          1.0     1.0      0   \n4               0.5      4.555071           1.0          1.0     1.0      0   \n5               0.5      4.555071           1.0          1.0     1.0      0   \n6               0.5      4.555071           1.0          1.0     1.0      0   \n7               0.5      4.555071           1.0          1.0     1.0      0   \n8               0.5      4.555071           1.0          1.0     1.0      0   \n9               0.5      4.555071           1.0          1.0     1.0      0   \n10              0.5      4.555071           1.0          1.0     1.0      0   \n11              0.5      4.555071           1.0          1.0     1.0      0   \n12              0.5      4.555071           1.0          1.0     1.0      0   \n13              0.5      4.555071           1.0          1.0     1.0      0   \n14              0.5      4.555071           1.0          1.0     1.0      0   \n15              0.5      4.555071           1.0          1.0     1.0      0   \n16              0.5      4.555071           1.0          1.0     1.0      0   \n17              0.5      4.555071           1.0          1.0     1.0      0   \n18              0.5      4.555071           1.0          1.0     1.0      0   \n19              0.5      4.555071           1.0          1.0     1.0      0   \n20              0.5      4.555071           1.0          1.0     1.0      0   \n21              0.5      4.555071           1.0          1.0     1.0      0   \n22              0.5      4.555071           1.0          1.0     1.0      0   \n23              0.5      4.555071           1.0          1.0     1.0      0   \n24              0.5      4.555071           1.0          1.0     1.0      0   \n25              0.5      4.555071           1.0          1.0     1.0      0   \n26              0.5      4.555071           1.0          1.0     1.0      0   \n27              0.5      4.555071           1.0          1.0     1.0      0   \n28              0.5      4.555071           1.0          1.0     1.0      0   \n29              0.5      4.555071           1.0          1.0     1.0      0   \n...             ...           ...           ...          ...     ...    ...   \n4547073         0.5      4.555071           1.0          1.0     1.0      0   \n4547074         0.5      4.555071           1.0          1.0     1.0      0   \n4547075         0.5      4.555071           1.0          1.0     1.0      0   \n4547076         0.5      4.555071           1.0          1.0     1.0      0   \n4547077         0.5      4.555071           1.0          1.0     1.0      0   \n4547078         0.5      4.555071           1.0          1.0     1.0      0   \n4547079         0.5      4.555071           1.0          1.0     1.0      0   \n4547080         0.5      4.555071           1.0          1.0     1.0      0   \n4547081         0.5      4.555071           1.0          1.0     1.0      0   \n4547082         0.5      4.555071           1.0          1.0     1.0      0   \n4547083         0.5      4.555071           1.0          1.0     1.0      0   \n4547084         0.5      4.555071           1.0          1.0     1.0      0   \n4547085         0.5      4.555071           1.0          1.0     1.0      0   \n4547086         0.5      4.555071           1.0          1.0     1.0      0   \n4547087         0.5      4.555071           1.0          1.0     1.0      0   \n4547088         0.5      4.555071           1.0          1.0     1.0      0   \n4547089         0.5      4.555071           1.0          1.0     1.0      0   \n4547090         0.5      4.555071           1.0          1.0     1.0      0   \n4547091         0.5      4.555071           1.0          1.0     1.0      0   \n4547092         0.5      4.555071           1.0          1.0     1.0      0   \n4547093         0.5      4.555071           1.0          1.0     1.0      0   \n4547094         0.5      4.555071           1.0          1.0     1.0      0   \n4547095         0.5      4.555071           1.0          1.0     1.0      0   \n4547096         0.5      4.555071           1.0          1.0     1.0      0   \n4547097         0.5      4.555071           1.0          1.0     1.0      0   \n4547098         0.5      4.555071           1.0          1.0     1.0      0   \n4547099         0.5      4.555071           1.0          1.0     1.0      0   \n4547100         0.5      4.555071           1.0          1.0     1.0      0   \n4547101         0.5      4.555071           1.0          1.0     1.0      0   \n4547102         0.5      4.555071           1.0          1.0     1.0      0   \n\n         card  quantity_int  gross_sls_amt_eur_int  quantity_time_key  \\\n0           1       0.00000                0.00000            0.00000   \n1           1       0.00000                0.00000            0.00000   \n2           1       0.00000                0.00000            0.00000   \n3           1       0.00000                0.00000            0.00000   \n4           1       0.20000                1.39600            0.20000   \n5           1       0.23333                1.62867            0.00000   \n6           1       0.23333                1.62867            0.00000   \n7           1       0.26667                1.86133            0.03333   \n8           1       0.26667                1.86133            0.00000   \n9           1       0.26667                1.86133            0.00000   \n10          1       0.26667                1.86133            0.00000   \n11          1       0.26667                1.86133            0.00000   \n12          1       0.26667                1.86133            0.00000   \n13          1       0.26667                1.86133            0.00000   \n14          1       0.00000                0.00000            0.00000   \n15          1       0.00000                0.00000            0.00000   \n16          1       0.00000                0.00000            0.00000   \n17          1       1.23333                8.60867            0.83333   \n18          1       2.93333               20.47467            0.66667   \n19          1       4.46667               31.17733            0.50000   \n20          1       4.50000               31.41000            0.00000   \n21          1       4.50000               31.41000            0.00000   \n22          1       4.50000               31.41000            0.00000   \n23          1       4.50000               31.41000            0.00000   \n24          1       4.50000               31.41000            0.00000   \n25          1       4.53333               31.64267            0.00000   \n26          1       5.30000               36.99400            0.26667   \n27          1       0.00000                0.00000            0.00000   \n28          1       0.00000                0.00000            0.00000   \n29          1       0.00000                0.00000            0.00000   \n...       ...           ...                    ...                ...   \n4547073     1       0.00000                0.00000            0.00000   \n4547074     1       0.00000                0.00000            0.00000   \n4547075     1       0.00000                0.00000            0.00000   \n4547076     1       0.00000                0.00000            0.00000   \n4547077     1       0.00000                0.00000            0.00000   \n4547078     1       0.00000                0.00000            0.00000   \n4547079     1       0.00000                0.00000            0.00000   \n4547080     1       0.00000                0.00000            0.00000   \n4547081     1       0.00000                0.00000            0.00000   \n4547082     1       0.00000                0.00000            0.00000   \n4547083     1       0.00000                0.00000            0.00000   \n4547084     1       0.00000                0.00000            0.00000   \n4547085     1       0.00000                0.00000            0.00000   \n4547086     1       0.00000                0.00000            0.00000   \n4547087     1       0.00000                0.00000            0.00000   \n4547088     1       0.00000                0.00000            0.00000   \n4547089     1       0.00000                0.00000            0.00000   \n4547090     1       0.00000                0.00000            0.00000   \n4547091     1       0.00000                0.00000            0.00000   \n4547092     1       0.00000                0.00000            0.00000   \n4547093     1       0.00000                0.00000            0.00000   \n4547094     1       0.00000                0.00000            0.00000   \n4547095     1       0.00000                0.00000            0.00000   \n4547096     1       0.00000                0.00000            0.00000   \n4547097     1       0.00000                0.00000            0.00000   \n4547098     1       0.00000                0.00000            0.00000   \n4547099     1       0.00000                0.00000            0.00000   \n4547100     1       0.00000                0.00000            0.00000   \n4547101     1       0.00000                0.00000            0.00000   \n4547102     1       0.00000                0.00000            0.00000   \n\n            ...      week_50  week_51  week_52  week_day_0  week_day_1  \\\n0           ...            0        0        0           0           0   \n1           ...            0        0        0           0           0   \n2           ...            0        0        0           0           0   \n3           ...            0        0        0           1           0   \n4           ...            0        0        0           0           0   \n5           ...            0        0        0           0           0   \n6           ...            0        0        0           0           0   \n7           ...            0        0        0           0           1   \n8           ...            0        0        0           0           0   \n9           ...            0        0        0           0           0   \n10          ...            0        0        0           0           1   \n11          ...            0        0        0           0           0   \n12          ...            0        0        0           0           0   \n13          ...            0        0        0           0           0   \n14          ...            0        0        0           0           0   \n15          ...            0        0        0           0           0   \n16          ...            0        0        0           0           1   \n17          ...            0        0        0           0           0   \n18          ...            0        0        0           0           0   \n19          ...            0        0        0           1           0   \n20          ...            0        0        0           0           0   \n21          ...            0        0        0           0           0   \n22          ...            0        0        0           0           0   \n23          ...            0        0        0           1           0   \n24          ...            0        0        0           0           0   \n25          ...            0        0        0           0           0   \n26          ...            0        0        0           1           0   \n27          ...            0        0        0           0           0   \n28          ...            0        0        0           0           0   \n29          ...            0        0        0           0           0   \n...         ...          ...      ...      ...         ...         ...   \n4547073     ...            0        0        0           0           0   \n4547074     ...            0        0        0           1           0   \n4547075     ...            0        0        0           0           0   \n4547076     ...            0        0        0           0           0   \n4547077     ...            0        0        0           0           0   \n4547078     ...            0        0        0           0           1   \n4547079     ...            0        0        0           0           0   \n4547080     ...            0        0        0           0           0   \n4547081     ...            0        0        0           0           1   \n4547082     ...            0        0        0           0           0   \n4547083     ...            0        0        0           0           0   \n4547084     ...            0        0        0           0           0   \n4547085     ...            0        0        0           0           1   \n4547086     ...            0        0        0           0           0   \n4547087     ...            0        0        0           0           0   \n4547088     ...            0        0        0           1           0   \n4547089     ...            0        0        0           0           0   \n4547090     ...            0        0        0           0           0   \n4547091     ...            0        0        0           0           0   \n4547092     ...            0        0        0           0           1   \n4547093     ...            0        0        0           0           0   \n4547094     ...            0        0        0           0           0   \n4547095     ...            0        0        0           0           1   \n4547096     ...            0        0        0           0           0   \n4547097     ...            0        0        0           0           0   \n4547098     ...            0        0        0           0           0   \n4547099     ...            0        0        0           0           1   \n4547100     ...            0        0        0           0           0   \n4547101     ...            0        0        0           0           0   \n4547102     ...            0        0        0           1           0   \n\n         week_day_2  week_day_3  week_day_4  week_day_5  week_day_6  \n0                 1           0           0           0           0  \n1                 0           0           1           0           0  \n2                 0           0           0           0           1  \n3                 0           0           0           0           0  \n4                 1           0           0           0           0  \n5                 0           0           1           0           0  \n6                 0           0           0           0           1  \n7                 0           0           0           0           0  \n8                 0           0           1           0           0  \n9                 0           0           0           0           1  \n10                0           0           0           0           0  \n11                0           1           0           0           0  \n12                0           0           0           1           0  \n13                0           0           0           0           1  \n14                0           1           0           0           0  \n15                0           0           0           1           0  \n16                0           0           0           0           0  \n17                0           1           0           0           0  \n18                0           0           0           1           0  \n19                0           0           0           0           0  \n20                1           0           0           0           0  \n21                0           1           0           0           0  \n22                0           0           0           1           0  \n23                0           0           0           0           0  \n24                1           0           0           0           0  \n25                0           0           1           0           0  \n26                0           0           0           0           0  \n27                1           0           0           0           0  \n28                0           0           1           0           0  \n29                0           0           0           0           1  \n...             ...         ...         ...         ...         ...  \n4547073           0           0           0           1           0  \n4547074           0           0           0           0           0  \n4547075           1           0           0           0           0  \n4547076           0           0           1           0           0  \n4547077           0           0           0           0           1  \n4547078           0           0           0           0           0  \n4547079           0           0           1           0           0  \n4547080           0           0           0           0           1  \n4547081           0           0           0           0           0  \n4547082           0           1           0           0           0  \n4547083           0           0           0           1           0  \n4547084           0           0           0           0           1  \n4547085           0           0           0           0           0  \n4547086           0           1           0           0           0  \n4547087           0           0           0           1           0  \n4547088           0           0           0           0           0  \n4547089           1           0           0           0           0  \n4547090           0           0           1           0           0  \n4547091           0           0           0           0           1  \n4547092           0           0           0           0           0  \n4547093           0           0           1           0           0  \n4547094           0           0           0           0           1  \n4547095           0           0           0           0           0  \n4547096           0           1           0           0           0  \n4547097           0           0           0           1           0  \n4547098           0           0           0           0           1  \n4547099           0           0           0           0           0  \n4547100           0           1           0           0           0  \n4547101           0           0           0           1           0  \n4547102           0           0           0           0           0  \n\n[4546011 rows x 974 columns]\nTIME ELAPSED:  00:01:26\n"
     ]
    },
    {
     "name": "stdout",
     "output_type": "stream",
     "text": [
      "CHUNKS AFTER REMOVING:\n "
     ]
    },
    {
     "name": "stdout",
     "output_type": "stream",
     "text": [
      "         change_pct  price_retail  tematico_ind  folheto_ind  tv_ind  price  \\\n0               0.5      4.555071           1.0          1.0     1.0      0   \n1               0.5      4.555071           1.0          1.0     1.0      0   \n2               0.5      4.555071           1.0          1.0     1.0      0   \n3               0.5      4.555071           1.0          1.0     1.0      0   \n4               0.5      4.555071           1.0          1.0     1.0      0   \n5               0.5      4.555071           1.0          1.0     1.0      0   \n6               0.5      4.555071           1.0          1.0     1.0      0   \n7               0.5      4.555071           1.0          1.0     1.0      0   \n8               0.5      4.555071           1.0          1.0     1.0      0   \n9               0.5      4.555071           1.0          1.0     1.0      0   \n10              0.5      4.555071           1.0          1.0     1.0      0   \n11              0.5      4.555071           1.0          1.0     1.0      0   \n12              0.5      4.555071           1.0          1.0     1.0      0   \n13              0.5      4.555071           1.0          1.0     1.0      0   \n14              0.5      4.555071           1.0          1.0     1.0      0   \n15              0.5      4.555071           1.0          1.0     1.0      0   \n16              0.5      4.555071           1.0          1.0     1.0      0   \n17              0.5      4.555071           1.0          1.0     1.0      0   \n18              0.5      4.555071           1.0          1.0     1.0      0   \n19              0.5      4.555071           1.0          1.0     1.0      0   \n20              0.5      4.555071           1.0          1.0     1.0      0   \n21              0.5      4.555071           1.0          1.0     1.0      0   \n22              0.5      4.555071           1.0          1.0     1.0      0   \n23              0.5      4.555071           1.0          1.0     1.0      0   \n24              0.5      4.555071           1.0          1.0     1.0      0   \n25              0.5      4.555071           1.0          1.0     1.0      0   \n26              0.5      4.555071           1.0          1.0     1.0      0   \n27              0.5      4.555071           1.0          1.0     1.0      0   \n28              0.5      4.555071           1.0          1.0     1.0      0   \n29              0.5      4.555071           1.0          1.0     1.0      0   \n...             ...           ...           ...          ...     ...    ...   \n4547073         0.5      4.555071           1.0          1.0     1.0      0   \n4547074         0.5      4.555071           1.0          1.0     1.0      0   \n4547075         0.5      4.555071           1.0          1.0     1.0      0   \n4547076         0.5      4.555071           1.0          1.0     1.0      0   \n4547077         0.5      4.555071           1.0          1.0     1.0      0   \n4547078         0.5      4.555071           1.0          1.0     1.0      0   \n4547079         0.5      4.555071           1.0          1.0     1.0      0   \n4547080         0.5      4.555071           1.0          1.0     1.0      0   \n4547081         0.5      4.555071           1.0          1.0     1.0      0   \n4547082         0.5      4.555071           1.0          1.0     1.0      0   \n4547083         0.5      4.555071           1.0          1.0     1.0      0   \n4547084         0.5      4.555071           1.0          1.0     1.0      0   \n4547085         0.5      4.555071           1.0          1.0     1.0      0   \n4547086         0.5      4.555071           1.0          1.0     1.0      0   \n4547087         0.5      4.555071           1.0          1.0     1.0      0   \n4547088         0.5      4.555071           1.0          1.0     1.0      0   \n4547089         0.5      4.555071           1.0          1.0     1.0      0   \n4547090         0.5      4.555071           1.0          1.0     1.0      0   \n4547091         0.5      4.555071           1.0          1.0     1.0      0   \n4547092         0.5      4.555071           1.0          1.0     1.0      0   \n4547093         0.5      4.555071           1.0          1.0     1.0      0   \n4547094         0.5      4.555071           1.0          1.0     1.0      0   \n4547095         0.5      4.555071           1.0          1.0     1.0      0   \n4547096         0.5      4.555071           1.0          1.0     1.0      0   \n4547097         0.5      4.555071           1.0          1.0     1.0      0   \n4547098         0.5      4.555071           1.0          1.0     1.0      0   \n4547099         0.5      4.555071           1.0          1.0     1.0      0   \n4547100         0.5      4.555071           1.0          1.0     1.0      0   \n4547101         0.5      4.555071           1.0          1.0     1.0      0   \n4547102         0.5      4.555071           1.0          1.0     1.0      0   \n\n         card  quantity_int  gross_sls_amt_eur_int  location_cd_1     ...      \\\n0           1       0.00000                0.00000              1     ...       \n1           1       0.00000                0.00000              1     ...       \n2           1       0.00000                0.00000              1     ...       \n3           1       0.00000                0.00000              1     ...       \n4           1       0.20000                1.39600              1     ...       \n5           1       0.23333                1.62867              1     ...       \n6           1       0.23333                1.62867              1     ...       \n7           1       0.26667                1.86133              1     ...       \n8           1       0.26667                1.86133              1     ...       \n9           1       0.26667                1.86133              1     ...       \n10          1       0.26667                1.86133              1     ...       \n11          1       0.26667                1.86133              1     ...       \n12          1       0.26667                1.86133              1     ...       \n13          1       0.26667                1.86133              1     ...       \n14          1       0.00000                0.00000              0     ...       \n15          1       0.00000                0.00000              0     ...       \n16          1       0.00000                0.00000              0     ...       \n17          1       1.23333                8.60867              0     ...       \n18          1       2.93333               20.47467              0     ...       \n19          1       4.46667               31.17733              0     ...       \n20          1       4.50000               31.41000              0     ...       \n21          1       4.50000               31.41000              0     ...       \n22          1       4.50000               31.41000              0     ...       \n23          1       4.50000               31.41000              0     ...       \n24          1       4.50000               31.41000              0     ...       \n25          1       4.53333               31.64267              0     ...       \n26          1       5.30000               36.99400              0     ...       \n27          1       0.00000                0.00000              0     ...       \n28          1       0.00000                0.00000              0     ...       \n29          1       0.00000                0.00000              0     ...       \n...       ...           ...                    ...            ...     ...       \n4547073     1       0.00000                0.00000              0     ...       \n4547074     1       0.00000                0.00000              0     ...       \n4547075     1       0.00000                0.00000              0     ...       \n4547076     1       0.00000                0.00000              0     ...       \n4547077     1       0.00000                0.00000              0     ...       \n4547078     1       0.00000                0.00000              0     ...       \n4547079     1       0.00000                0.00000              0     ...       \n4547080     1       0.00000                0.00000              0     ...       \n4547081     1       0.00000                0.00000              0     ...       \n4547082     1       0.00000                0.00000              0     ...       \n4547083     1       0.00000                0.00000              0     ...       \n4547084     1       0.00000                0.00000              0     ...       \n4547085     1       0.00000                0.00000              0     ...       \n4547086     1       0.00000                0.00000              0     ...       \n4547087     1       0.00000                0.00000              0     ...       \n4547088     1       0.00000                0.00000              0     ...       \n4547089     1       0.00000                0.00000              0     ...       \n4547090     1       0.00000                0.00000              0     ...       \n4547091     1       0.00000                0.00000              0     ...       \n4547092     1       0.00000                0.00000              0     ...       \n4547093     1       0.00000                0.00000              0     ...       \n4547094     1       0.00000                0.00000              0     ...       \n4547095     1       0.00000                0.00000              0     ...       \n4547096     1       0.00000                0.00000              0     ...       \n4547097     1       0.00000                0.00000              0     ...       \n4547098     1       0.00000                0.00000              0     ...       \n4547099     1       0.00000                0.00000              0     ...       \n4547100     1       0.00000                0.00000              0     ...       \n4547101     1       0.00000                0.00000              0     ...       \n4547102     1       0.00000                0.00000              0     ...       \n\n         week_50  week_51  week_52  week_day_0  week_day_1  week_day_2  \\\n0              0        0        0           0           0           1   \n1              0        0        0           0           0           0   \n2              0        0        0           0           0           0   \n3              0        0        0           1           0           0   \n4              0        0        0           0           0           1   \n5              0        0        0           0           0           0   \n6              0        0        0           0           0           0   \n7              0        0        0           0           1           0   \n8              0        0        0           0           0           0   \n9              0        0        0           0           0           0   \n10             0        0        0           0           1           0   \n11             0        0        0           0           0           0   \n12             0        0        0           0           0           0   \n13             0        0        0           0           0           0   \n14             0        0        0           0           0           0   \n15             0        0        0           0           0           0   \n16             0        0        0           0           1           0   \n17             0        0        0           0           0           0   \n18             0        0        0           0           0           0   \n19             0        0        0           1           0           0   \n20             0        0        0           0           0           1   \n21             0        0        0           0           0           0   \n22             0        0        0           0           0           0   \n23             0        0        0           1           0           0   \n24             0        0        0           0           0           1   \n25             0        0        0           0           0           0   \n26             0        0        0           1           0           0   \n27             0        0        0           0           0           1   \n28             0        0        0           0           0           0   \n29             0        0        0           0           0           0   \n...          ...      ...      ...         ...         ...         ...   \n4547073        0        0        0           0           0           0   \n4547074        0        0        0           1           0           0   \n4547075        0        0        0           0           0           1   \n4547076        0        0        0           0           0           0   \n4547077        0        0        0           0           0           0   \n4547078        0        0        0           0           1           0   \n4547079        0        0        0           0           0           0   \n4547080        0        0        0           0           0           0   \n4547081        0        0        0           0           1           0   \n4547082        0        0        0           0           0           0   \n4547083        0        0        0           0           0           0   \n4547084        0        0        0           0           0           0   \n4547085        0        0        0           0           1           0   \n4547086        0        0        0           0           0           0   \n4547087        0        0        0           0           0           0   \n4547088        0        0        0           1           0           0   \n4547089        0        0        0           0           0           1   \n4547090        0        0        0           0           0           0   \n4547091        0        0        0           0           0           0   \n4547092        0        0        0           0           1           0   \n4547093        0        0        0           0           0           0   \n4547094        0        0        0           0           0           0   \n4547095        0        0        0           0           1           0   \n4547096        0        0        0           0           0           0   \n4547097        0        0        0           0           0           0   \n4547098        0        0        0           0           0           0   \n4547099        0        0        0           0           1           0   \n4547100        0        0        0           0           0           0   \n4547101        0        0        0           0           0           0   \n4547102        0        0        0           1           0           0   \n\n         week_day_3  week_day_4  week_day_5  week_day_6  \n0                 0           0           0           0  \n1                 0           1           0           0  \n2                 0           0           0           1  \n3                 0           0           0           0  \n4                 0           0           0           0  \n5                 0           1           0           0  \n6                 0           0           0           1  \n7                 0           0           0           0  \n8                 0           1           0           0  \n9                 0           0           0           1  \n10                0           0           0           0  \n11                1           0           0           0  \n12                0           0           1           0  \n13                0           0           0           1  \n14                1           0           0           0  \n15                0           0           1           0  \n16                0           0           0           0  \n17                1           0           0           0  \n18                0           0           1           0  \n19                0           0           0           0  \n20                0           0           0           0  \n21                1           0           0           0  \n22                0           0           1           0  \n23                0           0           0           0  \n24                0           0           0           0  \n25                0           1           0           0  \n26                0           0           0           0  \n27                0           0           0           0  \n28                0           1           0           0  \n29                0           0           0           1  \n...             ...         ...         ...         ...  \n4547073           0           0           1           0  \n4547074           0           0           0           0  \n4547075           0           0           0           0  \n4547076           0           1           0           0  \n4547077           0           0           0           1  \n4547078           0           0           0           0  \n4547079           0           1           0           0  \n4547080           0           0           0           1  \n4547081           0           0           0           0  \n4547082           1           0           0           0  \n4547083           0           0           1           0  \n4547084           0           0           0           1  \n4547085           0           0           0           0  \n4547086           1           0           0           0  \n4547087           0           0           1           0  \n4547088           0           0           0           0  \n4547089           0           0           0           0  \n4547090           0           1           0           0  \n4547091           0           0           0           1  \n4547092           0           0           0           0  \n4547093           0           1           0           0  \n4547094           0           0           0           1  \n4547095           0           0           0           0  \n4547096           1           0           0           0  \n4547097           0           0           1           0  \n4547098           0           0           0           1  \n4547099           0           0           0           0  \n4547100           1           0           0           0  \n4547101           0           0           1           0  \n4547102           0           0           0           0  \n\n[4546011 rows x 973 columns]\nUsing Random Split for evaluating estimator performance\nFitting model with X_train (TRAIN SET) and y_train (TARGET TRAIN SET)...\n"
     ]
    },
    {
     "name": "stdout",
     "output_type": "stream",
     "text": [
      "TIME ELAPSED:  00:00:03\nPredicting target with X_test (TEST SET)\nTIME ELAPSED:  00:00:00\nFull data frame head:\n"
     ]
    },
    {
     "name": "stdout",
     "output_type": "stream",
     "text": [
      "       TargetPrediction(yPred)  TargetTest(yTest)\n6271                 0.040112            0.00000\n4691                 0.022189            0.03333\n1735                 0.082581            0.13333\n4749                 0.124001            0.00000\n4528                 0.115658            0.06667\n<class 'pandas.core.frame.DataFrame'>\nInt64Index: 3000 entries, 6271 to 4712\nData columns (total 2 columns):\nTargetPrediction(yPred)    3000 non-null float64\nTargetTest(yTest)          3000 non-null float64\ndtypes: float64(2)\nmemory usage: 70.3 KB\nFull data frame info:\n None\nFull data frame description:\n        TargetPrediction(yPred)  TargetTest(yTest)\ncount              3000.000000        3000.000000\nmean                  0.066560           0.066674\nstd                   0.152211           0.218451\nmin                  -0.172399           0.000000\n25%                  -0.001097           0.000000\n50%                   0.030363           0.000000\n75%                   0.070735           0.033330\nmax                   2.070484           4.366670\nLasso Score (R^2):  0.597811777893\nMean Squared Error 0.019186401418\nRoot Mean Squared Error 0.13851498625778408\nMean Absolute Error 0.0606834444198\nPREDICTION\n[ 0.04011162  0.0221894   0.08258081 ..., -0.00773387  0.00987677\n  0.35655655]\nTARGET TEST\n[0.0, 0.033329999999999999, 0.13333, 0.0, 0.066670000000000007, 0.13333, 0.0, 0.066670000000000007, 0.0, 0.066670000000000007, 0.0, 0.0, 0.0, 0.0, 0.0, 0.033329999999999999, 0.0, 0.0, 0.0, 0.0, 0.0, 0.0, 0.0, 0.0, 0.40000000000000002, 0.066670000000000007, 0.033329999999999999, 0.0, 0.0, 0.16667000000000001, 0.0, 0.0, 0.0, 0.10000000000000001, 0.0, 0.0, 0.0, 0.0, 0.0, 0.0, 0.033329999999999999, 0.0, 0.0, 0.033329999999999999, 0.0, 0.0, 0.80000000000000004, 0.0, 0.0, 0.0, 0.0, 0.0, 0.0, 0.10000000000000001, 0.066670000000000007, 0.0, 0.033329999999999999, 0.13333, 0.033329999999999999, 0.033329999999999999, 0.0, 0.033329999999999999, 0.0, 0.0, 0.033329999999999999, 0.36667, 0.0, 0.0, 0.0, 0.0, 0.0, 0.0, 0.0, 0.033329999999999999, 0.0, 0.0, 0.0, 0.20000000000000001, 0.033329999999999999, 0.29999999999999999, 0.0, 0.0, 0.0, 0.0, 0.0, 0.0, 0.0, 0.0, 0.0, 0.0, 0.0, 0.10000000000000001, 0.0, 0.0, 0.0, 0.0, 0.033329999999999999, 0.36667, 0.033329999999999999, 0.0, 0.033329999999999999, 0.0, 0.0, 0.0, 0.20000000000000001, 0.0, 0.0, 0.0, 0.0, 0.16667000000000001, 0.26666999999999996, 0.0, 0.0, 0.0, 0.23333000000000001, 0.033329999999999999, 0.0, 0.033329999999999999, 0.0, 0.0, 0.0, 0.0, 0.0, 0.10000000000000001, 0.13333, 0.0, 0.0, 0.13333, 0.0, 0.0, 0.066670000000000007, 0.0, 0.0, 0.0, 0.066670000000000007, 0.0, 0.033329999999999999, 0.0, 0.033329999999999999, 0.0, 0.16667000000000001, 0.0, 0.0, 0.16667000000000001, 0.0, 0.0, 0.26666999999999996, 0.0, 0.0, 0.16667000000000001, 0.066670000000000007, 0.033329999999999999, 0.0, 0.0, 0.0, 0.033329999999999999, 0.0, 0.26666999999999996, 1.3999999999999999, 0.0, 0.0, 0.033329999999999999, 0.033329999999999999, 0.033329999999999999, 0.16667000000000001, 0.033329999999999999, 0.0, 0.033329999999999999, 0.0, 0.033329999999999999, 0.0, 0.0, 0.0, 0.0, 0.0, 0.0, 0.0, 0.033329999999999999, 0.066670000000000007, 0.0, 0.0, 0.033329999999999999, 0.0, 0.033329999999999999, 0.96667000000000003, 0.0, 0.033329999999999999, 0.0, 0.0, 0.033329999999999999, 0.0, 0.16667000000000001, 0.033329999999999999, 0.0, 0.0, 0.16667000000000001, 0.0, 0.0, 0.033329999999999999, 0.0, 0.033329999999999999, 0.0, 0.10000000000000001, 0.0, 0.0, 0.066670000000000007, 0.0, 0.0, 0.033329999999999999, 0.20000000000000001, 0.033329999999999999, 0.0, 0.0, 0.0, 0.23333000000000001, 0.0, 0.0, 0.066670000000000007, 0.0, 0.033329999999999999, 0.033329999999999999, 0.0, 0.0, 0.16667000000000001, 0.0, 0.066670000000000007, 0.0, 0.033329999999999999, 0.033329999999999999, 0.0, 0.033329999999999999, 0.0, 0.066670000000000007, 0.10000000000000001, 0.0, 0.0, 0.0, 0.10000000000000001, 0.0, 0.0, 0.0, 0.0, 0.10000000000000001, 1.1666700000000001, 0.0, 0.0, 0.033329999999999999, 0.033329999999999999, 0.13333, 0.033329999999999999, 0.40000000000000002, 0.0, 0.0, 0.0, 0.066670000000000007, 0.0, 0.0, 0.066670000000000007, 0.0, 0.0, 0.13333, 0.0, 0.0, 0.0, 0.10000000000000001, 0.0, 0.0, 0.066670000000000007, 0.033329999999999999, 0.0, 0.0, 0.0, 0.0, 0.0, 0.066670000000000007, 0.0, 0.0, 0.0, 0.46666999999999997, 0.0, 0.0, 0.0, 0.0, 0.033329999999999999, 0.0, 0.0, 0.0, 0.0, 0.0, 0.0, 0.0, 0.0, 0.0, 0.066670000000000007, 0.0, 0.0, 0.0, 0.36667, 0.0, 0.0, 0.0, 0.0, 0.0, 0.0, 0.86667000000000005, 0.0, 0.066670000000000007, 0.0, 0.0, 0.56667000000000001, 0.13333, 0.16667000000000001, 0.0, 0.0, 0.033329999999999999, 0.0, 0.23333000000000001, 0.0, 0.0, 0.90000000000000002, 0.0, 0.0, 0.0, 0.10000000000000001, 0.0, 0.0, 0.0, 0.066670000000000007, 0.0, 0.0, 0.16667000000000001, 0.0, 0.0, 0.033329999999999999, 0.0, 0.0, 0.066670000000000007, 0.0, 1.6333299999999999, 0.0, 0.033329999999999999, 0.0, 0.10000000000000001, 0.0, 0.10000000000000001, 0.033329999999999999, 0.0, 0.066670000000000007, 0.0, 0.066670000000000007, 0.033329999999999999, 0.0, 0.0, 0.0, 0.0, 1.4666700000000001, 0.40000000000000002, 0.36667, 0.0, 0.40000000000000002, 0.0, 0.033329999999999999, 0.033329999999999999, 0.0, 0.33333000000000002, 0.0, 0.0, 0.0, 0.29999999999999999, 0.0, 0.0, 0.0, 0.0, 0.13333, 0.0, 0.16667000000000001, 0.0, 0.033329999999999999, 0.066670000000000007, 0.0, 0.066670000000000007, 0.033329999999999999, 0.20000000000000001, 0.10000000000000001, 0.033329999999999999, 0.0, 0.0, 0.0, 0.13333, 0.0, 0.0, 0.0, 0.0, 0.0, 0.0, 0.0, 1.1333299999999999, 0.0, 0.066670000000000007, 0.0, 0.0, 0.10000000000000001, 0.0, 0.0, 0.0, 0.0, 0.73333000000000004, 0.0, 0.0, 0.0, 0.0, 0.0, 0.0, 0.0, 0.0, 0.0, 0.0, 0.0, 0.0, 0.0, 0.0, 0.0, 0.033329999999999999, 0.0, 0.0, 0.0, 0.0, 0.0, 0.033329999999999999, 0.0, 0.13333, 0.0, 0.0, 0.033329999999999999, 0.0, 0.0, 0.0, 0.066670000000000007, 0.0, 0.0, 0.23333000000000001, 0.033329999999999999, 0.13333, 0.0, 0.0, 0.0, 0.033329999999999999, 0.10000000000000001, 0.066670000000000007, 0.033329999999999999, 0.033329999999999999, 0.0, 0.0, 0.0, 0.0, 0.033329999999999999, 0.0, 0.0, 0.0, 0.23333000000000001, 0.0, 0.0, 0.0, 0.16667000000000001, 0.0, 0.23333000000000001, 0.0, 0.033329999999999999, 0.0, 0.066670000000000007, 0.26666999999999996, 0.0, 0.10000000000000001, 0.033329999999999999, 0.0, 0.0, 0.033329999999999999, 0.033329999999999999, 0.033329999999999999, 0.033329999999999999, 0.066670000000000007, 0.0, 0.33333000000000002, 0.23333000000000001, 0.0, 0.0, 0.13333, 0.0, 0.0, 0.066670000000000007, 0.033329999999999999, 0.0, 0.0, 0.0, 0.0, 0.0, 0.0, 0.066670000000000007, 0.0, 0.0, 0.0, 0.0, 0.0, 0.066670000000000007, 0.16667000000000001, 0.033329999999999999, 0.33333000000000002, 0.0, 0.066670000000000007, 0.43332999999999999, 0.0, 0.10000000000000001, 0.0, 0.0, 0.0, 0.29999999999999999, 0.73333000000000004, 0.16667000000000001, 0.066670000000000007, 0.0, 0.0, 0.033329999999999999, 0.0, 0.0, 0.033329999999999999, 0.0, 0.0, 0.13333, 0.0, 0.0, 0.033329999999999999, 0.26666999999999996, 0.0, 0.0, 0.0, 0.0, 0.0, 0.0, 0.0, 0.033329999999999999, 0.0, 0.033329999999999999, 0.0, 0.0, 0.0, 0.030169999999999999, 0.20000000000000001, 0.066670000000000007, 0.0, 0.0, 0.0, 0.033329999999999999, 0.0, 0.16667000000000001, 0.16667000000000001, 0.0, 0.033329999999999999, 0.0, 0.0, 0.0, 0.033329999999999999, 0.0, 0.0, 0.26666999999999996, 0.0, 0.0, 0.0, 2.1333299999999999, 0.0, 0.0, 0.0, 0.0, 0.0, 0.0, 0.0, 0.0, 0.0, 0.0, 0.0, 0.033329999999999999, 0.0, 0.0, 0.13333, 0.0, 0.033329999999999999, 1.4666700000000001, 0.0, 0.0, 0.0, 0.36667, 0.33333000000000002, 0.0, 0.0, 0.16667000000000001, 0.0, 0.0, 0.0, 0.0, 0.0, 0.0, 0.10000000000000001, 0.033329999999999999, 0.0, 0.13333, 0.0, 0.36667, 0.0, 0.033329999999999999, 0.033329999999999999, 0.0, 0.0, 0.066670000000000007, 0.0, 0.0, 0.0, 0.0, 0.0, 0.0, 0.033329999999999999, 0.0, 0.066670000000000007, 0.0, 0.0, 0.0, 0.0, 0.23333000000000001, 0.066670000000000007, 0.033329999999999999, 0.0, 0.26666999999999996, 0.0, 0.10000000000000001, 0.0, 0.066670000000000007, 0.0, 0.0, 0.033329999999999999, 0.033329999999999999, 0.36667, 0.033329999999999999, 0.0, 0.10000000000000001, 0.0, 0.0, 0.0, 0.10000000000000001, 0.0, 0.16667000000000001, 0.0, 1.1000000000000001, 0.0, 0.23333000000000001, 0.0, 0.16667000000000001, 0.0, 0.0, 0.23333000000000001, 0.0, 0.0, 0.0, 0.033329999999999999, 0.0, 0.0, 0.0, 0.0, 0.066670000000000007, 0.066670000000000007, 0.0, 0.0, 0.0, 0.0, 0.0, 0.0, 0.13333, 0.033329999999999999, 0.10000000000000001, 0.0, 0.46666999999999997, 0.0, 0.033329999999999999, 0.0, 0.0, 0.0, 0.0, 0.0, 0.0, 0.0, 0.033329999999999999, 0.0, 0.0, 0.066670000000000007, 0.033329999999999999, 0.0, 0.033329999999999999, 0.0, 0.033329999999999999, 0.0, 0.066670000000000007, 0.033329999999999999, 0.0, 0.0, 0.0, 0.0, 0.0, 0.066670000000000007, 0.0, 0.0, 0.033329999999999999, 0.0, 0.033329999999999999, 0.0, 0.033329999999999999, 0.0, 0.0, 0.0, 0.0, 0.033329999999999999, 0.10000000000000001, 0.0, 0.16667000000000001, 0.0, 0.0, 0.66666999999999998, 0.40000000000000002, 0.0, 0.033329999999999999, 0.0, 0.0, 0.0, 0.0, 0.0, 0.0, 0.033329999999999999, 0.0, 0.10000000000000001, 0.0, 0.0, 0.0, 0.033329999999999999, 0.0, 0.0, 0.066670000000000007, 0.0, 0.0, 0.0, 0.0, 0.96667000000000003, 0.0, 0.066670000000000007, 0.0, 0.0, 0.0, 0.5, 0.066670000000000007, 0.0, 0.0, 0.0, 0.0, 0.066670000000000007, 0.0, 0.0, 0.0, 0.0, 0.0, 0.0, 0.0, 0.066670000000000007, 0.0, 0.0, 0.53332999999999997, 0.13333, 0.10000000000000001, 0.066670000000000007, 0.0, 0.0, 0.0, 0.0, 0.066670000000000007, 0.10000000000000001, 0.0, 0.033329999999999999, 0.066670000000000007, 0.10000000000000001, 0.0, 0.0, 0.0, 0.0, 0.0, 0.0, 0.0, 0.0, 0.29999999999999999, 0.0, 0.0, 0.0, 0.0, 0.0, 0.0, 0.033329999999999999, 0.0, 0.0, 0.46666999999999997, 0.0, 0.0, 0.066670000000000007, 0.0, 0.0, 0.033329999999999999, 0.066670000000000007, 0.0, 0.0, 0.0, 0.0, 1.2, 0.033329999999999999, 0.0, 0.066670000000000007, 0.10000000000000001, 0.033329999999999999, 0.0, 0.066670000000000007, 0.90000000000000002, 0.14493, 0.86667000000000005, 0.033329999999999999, 0.0, 0.33333000000000002, 0.0, 0.0, 0.033329999999999999, 0.0, 0.0, 0.0, 0.033329999999999999, 0.0, 0.0, 0.16667000000000001, 0.033329999999999999, 0.033329999999999999, 0.0, 0.36667, 0.16667000000000001, 0.033329999999999999, 0.0, 0.0, 0.033329999999999999, 0.0, 0.0, 0.0, 0.0, 0.0, 0.13333, 0.0, 0.0, 0.13333, 0.066670000000000007, 0.033329999999999999, 0.066670000000000007, 0.033329999999999999, 0.0, 0.0, 0.0, 0.0, 0.10000000000000001, 0.033329999999999999, 0.0, 0.0, 0.0, 0.0, 0.0, 0.0, 0.033329999999999999, 0.10000000000000001, 0.066670000000000007, 0.0, 0.0, 0.0, 0.0, 0.0, 0.033329999999999999, 0.0, 0.23333000000000001, 0.0, 0.0, 0.43332999999999999, 0.0, 0.0, 0.0, 0.16667000000000001, 0.96667000000000003, 0.10000000000000001, 0.033329999999999999, 0.0, 0.0, 0.0, 0.0, 0.066670000000000007, 0.0, 0.0, 0.0, 0.033329999999999999, 0.0, 0.0, 0.0, 0.0, 0.0, 0.0, 0.033329999999999999, 0.0, 0.10000000000000001, 0.0, 0.0, 0.0, 0.23333000000000001, 0.0, 0.0, 0.0, 0.0, 0.033329999999999999, 0.0, 0.26666999999999996, 0.0, 0.0, 0.0, 0.066670000000000007, 0.0, 0.033329999999999999, 0.066670000000000007, 0.0, 0.0, 0.5, 0.0, 0.0, 0.0, 0.0, 0.0, 0.10000000000000001, 0.033329999999999999, 0.0, 0.0, 0.0, 0.0, 0.0, 0.033329999999999999, 0.0, 0.40000000000000002, 0.10000000000000001, 0.066670000000000007, 0.0, 1.43333, 0.066670000000000007, 0.0, 0.033329999999999999, 0.0, 0.0, 0.0, 0.0, 0.0, 0.16667000000000001, 0.0, 0.0, 0.066670000000000007, 0.10000000000000001, 0.033329999999999999, 0.23333000000000001, 0.0, 0.73333000000000004, 0.0, 0.066670000000000007, 0.0, 0.29999999999999999, 0.0, 0.0, 0.0, 0.16667000000000001, 0.066670000000000007, 0.0, 0.33333000000000002, 0.0, 0.0, 0.0, 0.0, 0.20000000000000001, 0.0, 0.26666999999999996, 0.033329999999999999, 0.20000000000000001, 0.0, 0.0, 0.033329999999999999, 0.10000000000000001, 0.0, 0.033329999999999999, 0.0, 0.0, 0.0, 0.0, 0.0, 0.0, 0.0, 0.63333000000000006, 2.1000000000000001, 0.0, 0.0, 0.033329999999999999, 0.0, 0.033329999999999999, 0.033329999999999999, 0.0, 0.0, 0.16667000000000001, 0.13333, 0.0, 0.066670000000000007, 0.53332999999999997, 0.0, 0.0, 0.20000000000000001, 0.0, 0.0, 0.0, 0.33333000000000002, 0.0, 0.13333, 0.0, 0.0, 0.033329999999999999, 0.0, 0.0, 0.56667000000000001, 0.033329999999999999, 0.033329999999999999, 0.0, 0.02913, 0.0, 0.0, 0.10000000000000001, 0.0, 0.13333, 0.0, 0.0, 0.0, 0.0, 0.066670000000000007, 0.0, 0.033329999999999999, 0.0, 0.0, 0.0, 0.0, 0.0, 0.0, 0.0, 0.0, 0.0, 0.16667000000000001, 0.0, 0.0, 0.0, 0.0, 0.0, 0.53332999999999997, 0.0, 0.0, 0.0, 0.16667000000000001, 0.0, 0.0, 0.0, 0.0, 0.0, 0.033329999999999999, 0.0, 0.0, 0.16667000000000001, 0.0, 0.0, 0.0, 0.0, 0.0, 0.23333000000000001, 0.0, 0.0, 0.0, 0.0, 0.0, 0.066670000000000007, 0.0, 0.0, 0.0, 0.0, 0.0, 0.0, 0.0, 0.0, 0.23333000000000001, 0.0, 0.033329999999999999, 0.0, 0.0, 0.20000000000000001, 0.0, 0.0, 0.0, 0.23333000000000001, 0.0, 0.0, 0.033329999999999999, 0.0, 0.066670000000000007, 0.16667000000000001, 0.0, 0.066670000000000007, 0.0, 0.0, 0.0, 0.0, 0.0, 0.0, 0.0, 0.23333000000000001, 0.0, 0.0, 0.033329999999999999, 0.0, 0.033329999999999999, 0.0, 0.033329999999999999, 0.0, 0.033329999999999999, 0.0, 0.033329999999999999, 0.13333, 0.0, 0.0, 0.0, 0.033329999999999999, 0.0, 0.0, 0.0, 0.033329999999999999, 0.0, 0.0, 0.033329999999999999, 0.0, 0.36667, 0.0, 0.10000000000000001, 0.40000000000000002, 0.20000000000000001, 0.033329999999999999, 0.0, 0.0, 0.033329999999999999, 0.0, 0.23333000000000001, 0.0, 0.0, 0.0, 0.0, 0.033329999999999999, 0.0, 0.0, 0.10000000000000001, 0.0, 0.0, 0.0, 0.033329999999999999, 0.0, 0.066670000000000007, 0.23333000000000001, 0.0, 0.0, 0.0, 0.53332999999999997, 0.33333000000000002, 0.033329999999999999, 0.0, 0.0, 0.0, 0.0, 0.0, 0.0, 0.0, 0.0, 0.0, 0.5, 0.0, 0.10000000000000001, 0.066670000000000007, 0.20000000000000001, 0.0, 0.23333000000000001, 0.033329999999999999, 0.0, 0.13333, 0.0, 0.066670000000000007, 0.033329999999999999, 0.0, 0.16667000000000001, 0.0, 0.0, 0.0, 0.0, 0.0, 0.0, 0.0, 0.0, 0.20000000000000001, 0.0, 0.033329999999999999, 0.0, 0.033329999999999999, 0.0, 0.0, 0.13333, 0.033329999999999999, 0.0, 0.0, 0.10000000000000001, 0.43332999999999999, 0.0, 0.0, 0.0, 0.033329999999999999, 0.0, 0.0, 0.0, 0.0, 0.10000000000000001, 0.0, 0.0, 0.0, 0.0, 0.066670000000000007, 0.0, 0.0, 0.066670000000000007, 0.0, 0.0, 0.0, 0.0, 0.0, 0.0, 0.0, 0.0, 0.0, 0.0, 0.0, 0.0, 0.16667000000000001, 0.033329999999999999, 0.33333000000000002, 0.0, 0.0, 0.0, 0.13333, 0.36667, 0.0, 0.13333, 0.0, 0.066670000000000007, 0.0, 0.0, 0.0, 0.066670000000000007, 0.0, 0.0, 0.0, 0.43332999999999999, 0.26666999999999996, 0.0, 0.0, 0.13333, 0.0, 0.0, 0.0, 0.066670000000000007, 0.0, 0.0, 0.0, 0.0, 0.0, 0.0, 0.0, 0.0, 0.0, 0.0, 0.13333, 0.23333000000000001, 0.0, 0.0, 0.13333, 0.0, 0.10000000000000001, 0.0, 0.23333000000000001, 0.066670000000000007, 0.0, 0.93332999999999988, 0.20000000000000001, 0.13333, 0.0, 0.033329999999999999, 0.0, 0.033329999999999999, 0.0, 0.29999999999999999, 0.066670000000000007, 0.0, 0.0, 0.0, 0.0, 0.0, 0.033329999999999999, 0.0, 0.0, 0.0, 0.0, 0.10000000000000001, 2.26667, 0.0, 0.0, 0.0, 0.0, 0.0, 0.0, 0.0, 0.033329999999999999, 0.0, 0.0, 0.13333, 0.066670000000000007, 0.0, 0.0, 0.0, 0.0, 0.0, 0.0, 0.0, 0.0, 0.0, 0.0, 0.033329999999999999, 0.0, 0.0, 0.0, 0.0, 0.033329999999999999, 0.0, 0.033329999999999999, 0.0, 1.0333299999999999, 0.10000000000000001, 0.0, 0.10000000000000001, 0.0, 0.033329999999999999, 0.0, 0.26666999999999996, 0.5, 0.066670000000000007, 0.0, 0.0, 0.0, 0.0, 0.0, 0.0, 0.066670000000000007, 0.10000000000000001, 0.0, 0.0, 0.0, 0.10000000000000001, 0.0, 0.0, 0.10000000000000001, 0.0, 0.16667000000000001, 0.0, 0.0, 0.10000000000000001, 0.0, 0.0, 0.33333000000000002, 0.0, 0.0, 0.16667000000000001, 0.0, 0.0, 1.3999999999999999, 0.0, 0.0, 0.0, 0.33333000000000002, 0.0, 0.76666999999999996, 0.0, 0.033329999999999999, 0.0, 0.0, 0.0, 0.066670000000000007, 0.0, 0.066670000000000007, 0.0, 0.0, 0.5, 0.066670000000000007, 0.0, 0.0, 0.0, 0.13333, 0.0, 0.23333000000000001, 0.0, 0.0, 0.0, 0.0, 0.0, 0.0, 0.033329999999999999, 0.0, 0.033329999999999999, 0.13333, 0.13333, 0.90000000000000002, 0.0, 0.0, 0.0, 0.0, 0.0, 0.36667, 0.0, 0.0, 0.13333, 0.0, 0.16667000000000001, 0.0, 0.0, 0.13333, 0.066670000000000007, 0.13333, 0.0, 0.0, 0.0, 0.0, 0.0, 0.033329999999999999, 0.066670000000000007, 0.0, 0.0, 0.16667000000000001, 0.0, 0.26666999999999996, 0.0, 0.0, 0.033329999999999999, 0.33333000000000002, 0.033329999999999999, 0.0, 0.066670000000000007, 0.0, 0.0, 0.0, 0.0, 0.0, 0.0, 0.0, 0.0, 0.0, 0.0, 0.0, 0.0, 0.0, 0.0, 0.0, 0.066670000000000007, 0.0, 0.0, 0.033329999999999999, 0.0, 0.0, 0.0, 0.20000000000000001, 0.0, 0.033329999999999999, 0.13333, 0.0, 0.0, 0.10000000000000001, 0.20000000000000001, 0.0, 0.16667000000000001, 0.0, 0.0, 0.0, 0.066670000000000007, 0.0, 0.0, 0.0, 0.86667000000000005, 0.0, 0.0, 0.066670000000000007, 0.10000000000000001, 0.0, 0.0, 0.0, 0.0, 0.43332999999999999, 0.59999999999999998, 0.26666999999999996, 0.0, 0.066670000000000007, 0.0, 0.033329999999999999, 0.20000000000000001, 0.033329999999999999, 0.10000000000000001, 0.033329999999999999, 0.33333000000000002, 0.0, 0.23333000000000001, 0.033329999999999999, 0.0, 0.0, 0.0, 0.0, 0.0, 0.033329999999999999, 0.0, 0.10000000000000001, 0.0, 0.0, 0.0, 0.0, 0.0, 0.0, 0.90000000000000002, 0.40000000000000002, 0.033329999999999999, 0.0, 0.0, 0.0, 0.0, 0.0, 0.033329999999999999, 0.76666999999999996, 0.0, 0.0, 0.0, 0.0, 0.0, 0.26666999999999996, 0.066670000000000007, 0.0, 1.0, 0.0, 0.46666999999999997, 0.0, 0.0, 0.18667, 0.0, 0.033329999999999999, 0.033329999999999999, 0.0, 0.0, 0.066670000000000007, 0.0, 0.0, 0.0, 0.033329999999999999, 0.0, 0.0, 0.0, 0.066670000000000007, 0.033329999999999999, 0.0, 0.0, 0.40000000000000002, 0.0, 0.0, 0.0, 0.0, 0.033329999999999999, 0.33333000000000002, 0.0, 0.033329999999999999, 0.066670000000000007, 0.0, 0.0, 0.13333, 0.0, 0.0, 0.13333, 0.20000000000000001, 0.10000000000000001, 0.0, 0.0, 0.0, 0.0, 0.16667000000000001, 0.033329999999999999, 0.0, 0.033329999999999999, 0.0, 0.0, 0.0, 0.0, 0.0, 0.033329999999999999, 0.0, 0.0, 0.0, 0.0, 0.0, 0.066670000000000007, 0.0, 0.0, 0.0, 0.0, 0.0, 0.066670000000000007, 0.0, 0.0, 0.0, 0.20000000000000001, 0.5, 0.0, 0.066670000000000007, 0.0, 0.0, 0.0, 0.0, 0.033329999999999999, 0.033329999999999999, 0.0, 0.033329999999999999, 0.0, 0.0, 0.0, 0.0, 0.0, 0.0, 0.46666999999999997, 0.16667000000000001, 0.0, 0.066670000000000007, 0.0, 0.0, 0.0, 0.066670000000000007, 0.0, 0.0, 0.0, 0.0, 0.0, 0.16667000000000001, 0.0, 0.0, 0.0, 0.0, 0.10000000000000001, 0.0, 0.066670000000000007, 0.0, 0.0, 0.0, 0.0, 0.0, 0.033329999999999999, 0.0, 0.80000000000000004, 0.0, 0.0, 0.10000000000000001, 0.0, 0.20000000000000001, 0.16667000000000001, 0.033329999999999999, 0.0, 1.3333299999999999, 0.0, 0.0, 0.0, 0.26666999999999996, 0.0, 0.0, 0.0, 0.0, 0.53332999999999997, 0.0, 0.0, 0.26666999999999996, 0.0, 1.1666700000000001, 0.066670000000000007, 0.0, 0.0, 0.066670000000000007, 0.0, 0.033329999999999999, 0.29999999999999999, 0.0, 0.0, 0.0, 0.76666999999999996, 0.0, 0.0, 0.20000000000000001, 0.0, 0.33333000000000002, 0.0, 0.0, 0.10000000000000001, 0.0, 0.0, 0.033329999999999999, 0.16667000000000001, 0.0, 2.3666700000000001, 0.0, 0.0, 0.0, 0.0, 0.0, 0.033329999999999999, 0.0, 0.0, 0.20000000000000001, 0.0, 0.0, 0.20000000000000001, 0.0, 0.20000000000000001, 0.0, 0.0, 0.0, 0.0, 0.23333000000000001, 0.066670000000000007, 0.0, 0.46666999999999997, 0.033329999999999999, 0.0, 0.033329999999999999, 0.0, 0.0, 0.0, 0.033329999999999999, 0.0, 0.0, 0.0, 0.0, 0.0, 0.0, 0.0, 0.066670000000000007, 0.0, 0.0, 0.0, 0.0, 0.0, 0.16667000000000001, 0.23333000000000001, 0.0, 0.0, 0.0, 0.033329999999999999, 0.0, 0.0, 0.0, 0.13333, 0.0, 0.0, 0.0, 0.0, 0.0, 0.13333, 0.0, 0.0, 0.10000000000000001, 0.0, 0.0, 0.0, 0.0, 0.0, 0.0, 0.16667000000000001, 0.16667000000000001, 0.0, 0.0, 0.0, 0.0, 0.0, 0.26666999999999996, 0.0, 0.0, 0.033329999999999999, 0.0, 0.0, 0.0, 1.23333, 0.033329999999999999, 0.033329999999999999, 0.066670000000000007, 0.0, 0.0, 1.3333299999999999, 0.0, 0.0, 0.0, 0.033329999999999999, 0.0, 0.0, 0.0, 0.0, 0.0, 0.033329999999999999, 0.0, 0.0, 0.10000000000000001, 0.0, 0.033329999999999999, 0.0, 0.0, 0.0, 0.0, 0.23333000000000001, 0.0, 0.0, 0.0, 0.0, 0.0, 0.13333, 0.0, 0.0, 0.0, 0.0, 0.0, 0.0, 0.0, 0.033329999999999999, 0.0, 0.20000000000000001, 0.0, 0.0, 0.0, 0.0, 0.0, 0.0, 0.0, 0.0, 0.0, 0.0, 0.0, 0.23333000000000001, 0.0, 0.0, 0.23333000000000001, 0.0, 0.066670000000000007, 0.0, 0.66666999999999998, 0.066670000000000007, 0.066670000000000007, 0.0, 0.0, 0.0, 0.26666999999999996, 0.0, 0.0, 0.10000000000000001, 0.0, 0.0, 0.033329999999999999, 0.0, 0.0, 0.0, 0.0, 0.63333000000000006, 0.0, 0.0, 0.0, 0.0, 0.0, 0.033329999999999999, 0.033329999999999999, 0.0, 0.26666999999999996, 0.0, 0.0, 0.0, 0.0, 0.0, 0.033329999999999999, 0.0, 0.066670000000000007, 0.0, 0.0, 0.0, 0.066670000000000007, 0.0, 0.0, 0.26666999999999996, 0.0, 0.0, 0.0, 0.0, 0.066670000000000007, 0.0, 0.033329999999999999, 0.033329999999999999, 0.46666999999999997, 0.0, 0.0, 0.0, 0.0, 0.20000000000000001, 0.033329999999999999, 0.066670000000000007, 0.0, 0.0, 0.033329999999999999, 0.0, 0.0, 0.0, 0.0, 0.033329999999999999, 0.0, 0.63333000000000006, 0.0, 0.56667000000000001, 0.0, 0.0, 0.0, 0.0, 0.10000000000000001, 0.53332999999999997, 0.0, 0.033329999999999999, 0.0, 0.02853, 0.10000000000000001, 0.69999999999999996, 0.40000000000000002, 0.0, 0.0, 0.0, 0.033329999999999999, 0.0, 0.0, 0.0, 0.0, 0.0, 0.033329999999999999, 0.0, 0.26666999999999996, 0.033329999999999999, 0.0, 0.0, 0.0, 0.0, 0.0, 0.033329999999999999, 0.0, 0.033329999999999999, 0.033329999999999999, 0.0, 0.0, 0.0, 0.20000000000000001, 0.0, 0.0, 0.0, 0.13333, 0.0, 0.0, 0.8333299999999999, 0.033329999999999999, 0.0, 0.0, 0.0, 0.066670000000000007, 0.0, 0.8333299999999999, 0.0, 0.0, 0.0, 0.26666999999999996, 0.20000000000000001, 0.0, 0.0, 0.13333, 0.0, 0.033329999999999999, 0.066670000000000007, 0.0, 0.033329999999999999, 0.0, 0.0, 0.033329999999999999, 0.0, 0.0, 0.0, 0.40000000000000002, 0.0, 0.59999999999999998, 0.10000000000000001, 0.0, 0.0, 0.0, 0.0, 0.0, 0.23333000000000001, 0.033329999999999999, 0.0, 0.10000000000000001, 0.066670000000000007, 0.0, 0.0, 0.066670000000000007, 0.0, 0.0, 0.0, 0.033329999999999999, 0.033329999999999999, 0.0, 0.033329999999999999, 0.16667000000000001, 0.033329999999999999, 0.0, 0.5, 0.0, 0.0, 0.0, 0.033329999999999999, 0.0, 0.0, 0.0, 0.033329999999999999, 0.0, 0.0, 0.0, 0.0, 0.0, 1.4666700000000001, 0.066670000000000007, 0.10000000000000001, 0.033329999999999999, 0.033329999999999999, 0.033329999999999999, 0.033329999999999999, 0.0, 0.033329999999999999, 0.033329999999999999, 0.13333, 0.26666999999999996, 0.13333, 0.0, 0.0, 0.0, 0.066670000000000007, 0.0, 0.0, 0.0, 0.033329999999999999, 0.033329999999999999, 0.033329999999999999, 0.033329999999999999, 1.76667, 0.0, 0.13333, 0.0, 0.0, 0.0, 0.0, 0.066670000000000007, 0.0, 0.0, 0.0, 0.0, 0.066670000000000007, 0.033329999999999999, 0.0, 0.53332999999999997, 0.066670000000000007, 0.0, 0.0, 0.0, 0.0, 0.0, 0.0, 0.0, 0.066670000000000007, 0.13333, 0.0, 0.0, 0.0, 0.0, 0.033329999999999999, 0.033329999999999999, 0.0, 0.16667000000000001, 0.033329999999999999, 0.0, 0.0, 0.0, 0.066670000000000007, 0.46666999999999997, 0.26666999999999996, 0.69999999999999996, 0.0, 0.0, 0.0, 0.0, 0.0, 0.0, 0.0, 0.13333, 0.033329999999999999, 0.16667000000000001, 0.0, 0.20000000000000001, 0.033329999999999999, 0.0, 0.0, 0.0, 0.0, 0.0, 0.033329999999999999, 0.066670000000000007, 0.033329999999999999, 0.0, 0.033329999999999999, 0.033329999999999999, 0.066670000000000007, 0.0, 0.0, 0.066670000000000007, 0.066670000000000007, 0.0, 0.0, 0.0, 0.0, 0.0, 0.0, 0.0, 0.0, 0.0, 0.26666999999999996, 0.033329999999999999, 0.0, 0.0, 0.0, 0.0, 0.0, 0.0, 0.0, 0.0, 0.13333, 0.29999999999999999, 0.0, 0.0, 0.0, 0.13333, 0.10000000000000001, 0.0, 0.0, 0.0, 0.20000000000000001, 0.0, 0.0, 0.033329999999999999, 0.10000000000000001, 0.0, 0.0, 0.0, 0.0, 0.033329999999999999, 0.0, 0.0, 0.0, 0.0, 0.0, 0.0, 0.23333000000000001, 0.0, 0.066670000000000007, 0.0, 0.0, 0.0, 0.0, 0.0, 0.5, 0.066670000000000007, 0.0, 0.0, 0.0, 0.13333, 0.0, 0.0, 0.0, 0.0, 0.0, 0.0, 0.29999999999999999, 0.0, 0.0, 0.066670000000000007, 0.0, 0.0, 0.033329999999999999, 0.0, 0.0, 0.0, 0.0, 0.033329999999999999, 0.0, 0.0, 0.16667000000000001, 4.3666700000000001, 0.0, 0.0, 0.0, 0.0, 0.0, 0.033329999999999999, 0.0, 0.033329999999999999, 0.0, 0.066670000000000007, 0.0, 0.10000000000000001, 0.29999999999999999, 0.0, 0.0, 0.0, 0.033329999999999999, 0.066670000000000007, 0.0, 0.10000000000000001, 0.0, 0.0, 0.033329999999999999, 0.033329999999999999, 0.033329999999999999, 0.0, 0.33333000000000002, 0.0, 0.0, 0.0, 0.0, 0.0, 0.0, 0.0, 0.033329999999999999, 0.0, 0.0, 0.0, 0.16667000000000001, 0.0, 0.033329999999999999, 0.033329999999999999, 0.0, 0.10000000000000001, 1.0333299999999999, 0.066670000000000007, 0.0, 0.0, 0.033329999999999999, 0.0, 0.0, 0.0, 0.0, 0.066670000000000007, 0.0, 0.0, 0.0, 0.0, 0.0, 0.0, 0.23333000000000001, 0.0, 0.0, 0.33333000000000002, 0.0, 0.0, 0.066670000000000007, 0.13333, 0.0, 0.0, 0.0, 0.0, 0.0, 0.0, 0.28739999999999999, 0.0, 0.0, 1.23333, 0.0, 0.066670000000000007, 0.0, 0.0, 0.10000000000000001, 0.0, 0.0, 0.0, 0.0, 0.0, 0.0, 0.13333, 0.36667, 0.0, 0.033329999999999999, 0.0, 0.13333, 0.0, 0.0, 0.0, 0.0, 0.033329999999999999, 0.0, 0.0, 0.033329999999999999, 0.0, 0.33333000000000002, 0.13333, 0.0, 0.066670000000000007, 0.0, 0.066670000000000007, 0.0, 0.0, 2.23333, 0.0, 0.066670000000000007, 0.0, 0.066670000000000007, 0.36667, 0.0, 0.0, 0.0, 0.0, 0.0, 0.0, 0.0, 0.0, 0.0, 0.13333, 0.066670000000000007, 0.0, 0.033329999999999999, 0.0, 0.033329999999999999, 0.0, 0.033329999999999999, 0.0, 0.0, 0.033329999999999999, 0.0, 0.0, 0.0, 0.26666999999999996, 0.0, 0.0, 0.0, 0.0, 0.0, 0.0, 0.0, 0.0, 0.0, 0.10000000000000001, 0.0, 0.0, 0.033329999999999999, 0.0, 0.10000000000000001, 0.0, 0.0, 0.13333, 0.0, 0.0, 0.0, 0.20000000000000001, 0.0, 0.0, 0.0, 0.56667000000000001, 0.0, 0.033329999999999999, 0.0, 0.033329999999999999, 0.0, 0.0, 0.0, 0.0, 0.0, 0.0, 0.0, 0.0, 0.066670000000000007, 0.0, 0.0, 0.066670000000000007, 0.0, 0.0, 0.0, 0.0, 0.0, 0.43332999999999999, 0.033329999999999999, 0.0, 0.0, 0.0, 0.033329999999999999, 0.0, 0.033329999999999999, 0.033329999999999999, 0.13333, 0.0, 0.0, 0.0, 0.0, 0.0, 0.10000000000000001, 0.066670000000000007, 0.066670000000000007, 0.13333, 0.0, 0.0, 0.0, 0.0, 0.0, 0.0, 0.0, 0.0, 0.36667, 0.0, 1.1666700000000001, 0.8333299999999999, 0.0, 0.0, 0.033329999999999999, 0.0, 0.0, 0.0, 0.0, 0.0, 0.0, 0.0, 0.0, 0.066670000000000007, 0.5, 0.066670000000000007, 0.066670000000000007, 0.10000000000000001, 0.033329999999999999, 0.56667000000000001, 0.033329999999999999, 0.066670000000000007, 0.0, 0.0, 0.035269999999999996, 0.066670000000000007, 0.0, 0.0, 0.0, 0.0, 0.0, 0.066670000000000007, 0.0, 0.033329999999999999, 0.0, 0.0, 0.066670000000000007, 0.0, 0.033329999999999999, 0.033329999999999999, 0.0, 0.23333000000000001, 0.0, 0.033329999999999999, 0.0, 0.0, 0.033329999999999999, 0.0, 0.0, 0.0, 0.0, 0.0, 0.93332999999999988, 0.033329999999999999, 0.0, 0.0, 0.0, 0.76666999999999996, 0.0, 0.10000000000000001, 0.16667000000000001, 0.0, 0.033329999999999999, 0.23333000000000001, 0.0, 0.066670000000000007, 0.0, 0.066670000000000007, 0.80000000000000004, 0.0, 0.033329999999999999, 0.0, 0.066670000000000007, 0.0, 0.0, 0.0, 0.10000000000000001, 0.0, 0.0, 0.033329999999999999, 0.0, 0.0, 0.0, 0.0, 0.033329999999999999, 0.8333299999999999, 0.033329999999999999, 0.0, 0.066670000000000007, 0.0, 0.0, 0.033329999999999999, 0.0, 0.033329999999999999, 0.0, 0.23333000000000001, 0.0, 0.066670000000000007, 0.0, 0.0, 0.16667000000000001, 0.0, 0.0, 0.0, 0.0, 0.033329999999999999, 0.0, 0.0, 0.0, 0.066670000000000007, 0.0, 0.066670000000000007, 0.0, 0.0, 0.0, 0.0, 0.0, 0.0, 0.0, 0.26666999999999996, 0.16667000000000001, 0.033329999999999999, 0.0, 0.033329999999999999, 0.0, 0.0, 0.033329999999999999, 1.93333, 0.033329999999999999, 0.033329999999999999, 0.0, 0.0, 0.0, 0.0, 0.033329999999999999, 0.033329999999999999, 0.0, 0.0, 0.0, 0.0, 0.0, 0.0, 0.0, 0.0, 0.20000000000000001, 0.0, 0.0, 0.0, 0.0, 0.0, 0.13333, 0.0, 0.0, 4.3666700000000001, 0.0, 0.13333, 0.033329999999999999, 0.0, 0.0, 0.0, 0.20000000000000001, 0.0, 0.0, 0.033329999999999999, 0.80000000000000004, 0.0, 0.13333, 0.0, 0.0, 0.0, 0.0, 0.0, 0.43332999999999999, 0.033329999999999999, 0.0, 0.0, 0.0, 0.066670000000000007, 0.0, 0.033329999999999999, 0.0, 0.0, 0.0, 0.0, 0.0, 0.26666999999999996, 0.0, 0.066670000000000007, 0.0, 0.33333000000000002, 0.0, 0.0, 0.0, 0.0, 0.0, 0.0, 0.0, 0.0, 0.0, 0.0, 0.0, 0.0, 0.0, 0.033329999999999999, 0.0, 0.0, 0.0, 0.10000000000000001, 0.0, 0.16667000000000001, 0.066670000000000007, 0.066670000000000007, 0.0, 0.066670000000000007, 0.10000000000000001, 0.10000000000000001, 0.0, 0.0, 0.0, 0.0, 0.0, 0.0, 0.0, 0.066670000000000007, 0.0, 0.0, 0.0, 0.0, 0.0, 0.0, 0.0, 0.23333000000000001, 0.033329999999999999, 0.0, 0.0, 0.29999999999999999, 0.0, 0.066670000000000007, 0.0, 0.0, 0.0, 0.0, 1.1000000000000001, 0.0, 0.0, 0.033329999999999999, 0.0, 0.0, 0.0, 0.0, 0.0, 0.0, 0.0, 0.0, 0.26666999999999996, 0.066670000000000007, 0.0, 0.0, 0.0, 0.0, 0.0, 0.033329999999999999, 0.0, 0.0, 0.0, 0.0, 0.0, 0.0, 0.0, 0.0, 0.10000000000000001, 0.0, 0.0, 0.0, 0.014169999999999999, 0.0, 0.0, 0.0, 0.43332999999999999, 0.0, 0.066670000000000007, 0.0, 0.0, 0.033329999999999999, 0.066670000000000007, 0.0, 0.20000000000000001, 0.26666999999999996, 0.0, 0.0, 0.10000000000000001, 0.0, 0.033329999999999999, 0.0, 0.0, 0.033329999999999999, 0.26666999999999996, 0.5, 0.0, 0.0, 0.0, 0.0, 0.0, 0.0, 0.0, 0.0, 0.0, 0.033329999999999999, 0.13333, 0.033329999999999999, 0.16667000000000001, 0.26666999999999996, 0.0, 0.0, 0.033329999999999999, 0.066670000000000007, 0.0, 0.0, 0.20000000000000001, 0.0, 0.0, 0.0, 0.0, 0.10000000000000001, 0.066670000000000007, 0.36667, 0.0, 0.033329999999999999, 0.0, 0.0, 0.066670000000000007, 0.033329999999999999, 0.0, 0.0, 0.0, 0.0, 0.0, 0.0, 0.0, 0.0, 0.033329999999999999, 0.0, 0.13333, 0.10000000000000001, 0.10000000000000001, 0.066670000000000007, 0.0, 0.066670000000000007, 0.066670000000000007, 0.0, 0.0, 0.0, 0.066670000000000007, 0.0, 0.0, 0.0, 0.0, 0.0, 0.0, 0.0, 0.0, 0.0, 0.0, 0.033329999999999999, 0.0, 0.0, 0.0, 0.0, 0.0, 0.0, 0.0, 0.0, 0.033329999999999999, 0.0, 0.0, 0.0, 1.0333299999999999, 0.0, 0.0, 0.0, 0.033329999999999999, 0.0, 0.0, 0.0, 0.0, 0.033329999999999999, 0.16667000000000001, 0.033329999999999999, 0.033329999999999999, 0.26666999999999996, 0.0, 0.033329999999999999, 0.16667000000000001, 0.0, 0.0, 0.0, 0.0, 0.0, 0.0, 0.0, 0.0, 0.0, 0.0, 0.0, 0.0, 0.0, 0.23333000000000001, 0.0, 0.0, 0.066670000000000007, 0.0, 0.0, 0.16667000000000001, 0.20000000000000001, 0.0, 0.0, 0.0, 0.26666999999999996, 0.0, 0.0, 0.033329999999999999, 0.0, 0.0, 0.0, 0.0, 0.0, 0.0, 0.13333, 0.26666999999999996, 0.066670000000000007, 0.0, 0.0, 0.0, 0.0, 0.033329999999999999, 0.0, 0.0, 0.0, 0.033329999999999999, 0.0, 0.36667, 0.0, 0.0, 0.066670000000000007, 0.0, 0.0, 0.033329999999999999, 0.033329999999999999, 0.0, 0.0, 0.033329999999999999, 0.0, 0.36667, 0.0, 0.0, 0.40000000000000002, 0.0, 0.0, 0.033329999999999999, 0.0, 0.0, 0.0, 0.0, 0.066670000000000007, 0.066670000000000007, 0.0, 0.20000000000000001, 0.0, 0.033329999999999999, 0.0, 0.0, 0.0, 0.0, 0.066670000000000007, 0.033329999999999999, 0.0, 0.0, 0.0, 0.0, 0.16667000000000001, 0.033329999999999999, 0.0, 0.0, 0.0, 0.0, 0.0, 0.0, 0.29999999999999999, 0.033329999999999999, 0.066670000000000007, 0.0, 0.0, 0.0, 0.0, 0.033329999999999999, 0.0, 0.066670000000000007, 0.0, 0.0, 0.0, 0.0, 0.0, 0.0, 0.0, 0.0, 0.20000000000000001, 0.0, 0.0, 0.0, 0.40000000000000002, 0.033329999999999999, 0.033329999999999999, 0.0, 0.0, 0.0, 0.033329999999999999, 0.0, 0.20000000000000001, 0.0, 0.0, 0.066670000000000007, 0.033329999999999999, 0.0, 0.0, 0.0, 0.0, 0.0, 0.0, 0.0, 0.0, 0.0, 0.0, 0.066670000000000007, 0.10000000000000001, 0.10000000000000001, 0.033329999999999999, 0.0, 0.0, 0.0, 0.0, 0.033329999999999999, 0.066670000000000007, 0.0, 0.0, 0.46666999999999997, 0.20000000000000001, 0.0, 0.40000000000000002, 0.033329999999999999, 0.0, 0.0, 0.0, 0.0, 0.0, 0.0, 0.0, 0.0, 0.0]\n"
     ]
    },
    {
     "data": {
      "image/png": "[encoded data removed]",
      "text/plain": [
       "<matplotlib.figure.Figure at 0x2b9712c50>"
      ]
     },
     "metadata": {},
     "output_type": "display_data"
    },
    {
     "name": "stdout",
     "output_type": "stream",
     "text": [
      "Fitting model with X_train (TRAIN SET) and y_train (TARGET TRAIN SET)...\n"
     ]
    },
    {
     "name": "stdout",
     "output_type": "stream",
     "text": [
      "TIME ELAPSED:  00:00:00\nPredicting target with X_test (TEST SET)\nTIME ELAPSED:  00:00:00\nFull data frame head:\n       TargetPrediction(yPred)  TargetTest(yTest)\n6271                 0.026739            0.00000\n4691                 0.021551            0.03333\n1735                 0.057646            0.13333\n4749                 0.029734            0.00000\n4528                 0.058400            0.06667\n<class 'pandas.core.frame.DataFrame'>\nInt64Index: 3000 entries, 6271 to 4712\nData columns (total 2 columns):\nTargetPrediction(yPred)    3000 non-null float64\nTargetTest(yTest)          3000 non-null float64\ndtypes: float64(2)\nmemory usage: 70.3 KB\nFull data frame info:\n None\nFull data frame description:\n        TargetPrediction(yPred)  TargetTest(yTest)\ncount              3000.000000        3000.000000\nmean                  0.066938           0.066674\nstd                   0.130608           0.218451\nmin                   0.008719           0.000000\n25%                   0.018722           0.000000\n50%                   0.031800           0.000000\n75%                   0.056821           0.033330\nmax                   2.122160           4.366670\nLasso Score (R^2):  0.431642810249\nMean Squared Error 0.0271134970941\nRoot Mean Squared Error 0.1646617657323063\nMean Absolute Error 0.06225746308\nPREDICTION\n[ 0.02673932  0.02155098  0.05764562 ...,  0.02839852  0.03714411\n  0.37433611]\nTARGET TEST\n[0.0, 0.033329999999999999, 0.13333, 0.0, 0.066670000000000007, 0.13333, 0.0, 0.066670000000000007, 0.0, 0.066670000000000007, 0.0, 0.0, 0.0, 0.0, 0.0, 0.033329999999999999, 0.0, 0.0, 0.0, 0.0, 0.0, 0.0, 0.0, 0.0, 0.40000000000000002, 0.066670000000000007, 0.033329999999999999, 0.0, 0.0, 0.16667000000000001, 0.0, 0.0, 0.0, 0.10000000000000001, 0.0, 0.0, 0.0, 0.0, 0.0, 0.0, 0.033329999999999999, 0.0, 0.0, 0.033329999999999999, 0.0, 0.0, 0.80000000000000004, 0.0, 0.0, 0.0, 0.0, 0.0, 0.0, 0.10000000000000001, 0.066670000000000007, 0.0, 0.033329999999999999, 0.13333, 0.033329999999999999, 0.033329999999999999, 0.0, 0.033329999999999999, 0.0, 0.0, 0.033329999999999999, 0.36667, 0.0, 0.0, 0.0, 0.0, 0.0, 0.0, 0.0, 0.033329999999999999, 0.0, 0.0, 0.0, 0.20000000000000001, 0.033329999999999999, 0.29999999999999999, 0.0, 0.0, 0.0, 0.0, 0.0, 0.0, 0.0, 0.0, 0.0, 0.0, 0.0, 0.10000000000000001, 0.0, 0.0, 0.0, 0.0, 0.033329999999999999, 0.36667, 0.033329999999999999, 0.0, 0.033329999999999999, 0.0, 0.0, 0.0, 0.20000000000000001, 0.0, 0.0, 0.0, 0.0, 0.16667000000000001, 0.26666999999999996, 0.0, 0.0, 0.0, 0.23333000000000001, 0.033329999999999999, 0.0, 0.033329999999999999, 0.0, 0.0, 0.0, 0.0, 0.0, 0.10000000000000001, 0.13333, 0.0, 0.0, 0.13333, 0.0, 0.0, 0.066670000000000007, 0.0, 0.0, 0.0, 0.066670000000000007, 0.0, 0.033329999999999999, 0.0, 0.033329999999999999, 0.0, 0.16667000000000001, 0.0, 0.0, 0.16667000000000001, 0.0, 0.0, 0.26666999999999996, 0.0, 0.0, 0.16667000000000001, 0.066670000000000007, 0.033329999999999999, 0.0, 0.0, 0.0, 0.033329999999999999, 0.0, 0.26666999999999996, 1.3999999999999999, 0.0, 0.0, 0.033329999999999999, 0.033329999999999999, 0.033329999999999999, 0.16667000000000001, 0.033329999999999999, 0.0, 0.033329999999999999, 0.0, 0.033329999999999999, 0.0, 0.0, 0.0, 0.0, 0.0, 0.0, 0.0, 0.033329999999999999, 0.066670000000000007, 0.0, 0.0, 0.033329999999999999, 0.0, 0.033329999999999999, 0.96667000000000003, 0.0, 0.033329999999999999, 0.0, 0.0, 0.033329999999999999, 0.0, 0.16667000000000001, 0.033329999999999999, 0.0, 0.0, 0.16667000000000001, 0.0, 0.0, 0.033329999999999999, 0.0, 0.033329999999999999, 0.0, 0.10000000000000001, 0.0, 0.0, 0.066670000000000007, 0.0, 0.0, 0.033329999999999999, 0.20000000000000001, 0.033329999999999999, 0.0, 0.0, 0.0, 0.23333000000000001, 0.0, 0.0, 0.066670000000000007, 0.0, 0.033329999999999999, 0.033329999999999999, 0.0, 0.0, 0.16667000000000001, 0.0, 0.066670000000000007, 0.0, 0.033329999999999999, 0.033329999999999999, 0.0, 0.033329999999999999, 0.0, 0.066670000000000007, 0.10000000000000001, 0.0, 0.0, 0.0, 0.10000000000000001, 0.0, 0.0, 0.0, 0.0, 0.10000000000000001, 1.1666700000000001, 0.0, 0.0, 0.033329999999999999, 0.033329999999999999, 0.13333, 0.033329999999999999, 0.40000000000000002, 0.0, 0.0, 0.0, 0.066670000000000007, 0.0, 0.0, 0.066670000000000007, 0.0, 0.0, 0.13333, 0.0, 0.0, 0.0, 0.10000000000000001, 0.0, 0.0, 0.066670000000000007, 0.033329999999999999, 0.0, 0.0, 0.0, 0.0, 0.0, 0.066670000000000007, 0.0, 0.0, 0.0, 0.46666999999999997, 0.0, 0.0, 0.0, 0.0, 0.033329999999999999, 0.0, 0.0, 0.0, 0.0, 0.0, 0.0, 0.0, 0.0, 0.0, 0.066670000000000007, 0.0, 0.0, 0.0, 0.36667, 0.0, 0.0, 0.0, 0.0, 0.0, 0.0, 0.86667000000000005, 0.0, 0.066670000000000007, 0.0, 0.0, 0.56667000000000001, 0.13333, 0.16667000000000001, 0.0, 0.0, 0.033329999999999999, 0.0, 0.23333000000000001, 0.0, 0.0, 0.90000000000000002, 0.0, 0.0, 0.0, 0.10000000000000001, 0.0, 0.0, 0.0, 0.066670000000000007, 0.0, 0.0, 0.16667000000000001, 0.0, 0.0, 0.033329999999999999, 0.0, 0.0, 0.066670000000000007, 0.0, 1.6333299999999999, 0.0, 0.033329999999999999, 0.0, 0.10000000000000001, 0.0, 0.10000000000000001, 0.033329999999999999, 0.0, 0.066670000000000007, 0.0, 0.066670000000000007, 0.033329999999999999, 0.0, 0.0, 0.0, 0.0, 1.4666700000000001, 0.40000000000000002, 0.36667, 0.0, 0.40000000000000002, 0.0, 0.033329999999999999, 0.033329999999999999, 0.0, 0.33333000000000002, 0.0, 0.0, 0.0, 0.29999999999999999, 0.0, 0.0, 0.0, 0.0, 0.13333, 0.0, 0.16667000000000001, 0.0, 0.033329999999999999, 0.066670000000000007, 0.0, 0.066670000000000007, 0.033329999999999999, 0.20000000000000001, 0.10000000000000001, 0.033329999999999999, 0.0, 0.0, 0.0, 0.13333, 0.0, 0.0, 0.0, 0.0, 0.0, 0.0, 0.0, 1.1333299999999999, 0.0, 0.066670000000000007, 0.0, 0.0, 0.10000000000000001, 0.0, 0.0, 0.0, 0.0, 0.73333000000000004, 0.0, 0.0, 0.0, 0.0, 0.0, 0.0, 0.0, 0.0, 0.0, 0.0, 0.0, 0.0, 0.0, 0.0, 0.0, 0.033329999999999999, 0.0, 0.0, 0.0, 0.0, 0.0, 0.033329999999999999, 0.0, 0.13333, 0.0, 0.0, 0.033329999999999999, 0.0, 0.0, 0.0, 0.066670000000000007, 0.0, 0.0, 0.23333000000000001, 0.033329999999999999, 0.13333, 0.0, 0.0, 0.0, 0.033329999999999999, 0.10000000000000001, 0.066670000000000007, 0.033329999999999999, 0.033329999999999999, 0.0, 0.0, 0.0, 0.0, 0.033329999999999999, 0.0, 0.0, 0.0, 0.23333000000000001, 0.0, 0.0, 0.0, 0.16667000000000001, 0.0, 0.23333000000000001, 0.0, 0.033329999999999999, 0.0, 0.066670000000000007, 0.26666999999999996, 0.0, 0.10000000000000001, 0.033329999999999999, 0.0, 0.0, 0.033329999999999999, 0.033329999999999999, 0.033329999999999999, 0.033329999999999999, 0.066670000000000007, 0.0, 0.33333000000000002, 0.23333000000000001, 0.0, 0.0, 0.13333, 0.0, 0.0, 0.066670000000000007, 0.033329999999999999, 0.0, 0.0, 0.0, 0.0, 0.0, 0.0, 0.066670000000000007, 0.0, 0.0, 0.0, 0.0, 0.0, 0.066670000000000007, 0.16667000000000001, 0.033329999999999999, 0.33333000000000002, 0.0, 0.066670000000000007, 0.43332999999999999, 0.0, 0.10000000000000001, 0.0, 0.0, 0.0, 0.29999999999999999, 0.73333000000000004, 0.16667000000000001, 0.066670000000000007, 0.0, 0.0, 0.033329999999999999, 0.0, 0.0, 0.033329999999999999, 0.0, 0.0, 0.13333, 0.0, 0.0, 0.033329999999999999, 0.26666999999999996, 0.0, 0.0, 0.0, 0.0, 0.0, 0.0, 0.0, 0.033329999999999999, 0.0, 0.033329999999999999, 0.0, 0.0, 0.0, 0.030169999999999999, 0.20000000000000001, 0.066670000000000007, 0.0, 0.0, 0.0, 0.033329999999999999, 0.0, 0.16667000000000001, 0.16667000000000001, 0.0, 0.033329999999999999, 0.0, 0.0, 0.0, 0.033329999999999999, 0.0, 0.0, 0.26666999999999996, 0.0, 0.0, 0.0, 2.1333299999999999, 0.0, 0.0, 0.0, 0.0, 0.0, 0.0, 0.0, 0.0, 0.0, 0.0, 0.0, 0.033329999999999999, 0.0, 0.0, 0.13333, 0.0, 0.033329999999999999, 1.4666700000000001, 0.0, 0.0, 0.0, 0.36667, 0.33333000000000002, 0.0, 0.0, 0.16667000000000001, 0.0, 0.0, 0.0, 0.0, 0.0, 0.0, 0.10000000000000001, 0.033329999999999999, 0.0, 0.13333, 0.0, 0.36667, 0.0, 0.033329999999999999, 0.033329999999999999, 0.0, 0.0, 0.066670000000000007, 0.0, 0.0, 0.0, 0.0, 0.0, 0.0, 0.033329999999999999, 0.0, 0.066670000000000007, 0.0, 0.0, 0.0, 0.0, 0.23333000000000001, 0.066670000000000007, 0.033329999999999999, 0.0, 0.26666999999999996, 0.0, 0.10000000000000001, 0.0, 0.066670000000000007, 0.0, 0.0, 0.033329999999999999, 0.033329999999999999, 0.36667, 0.033329999999999999, 0.0, 0.10000000000000001, 0.0, 0.0, 0.0, 0.10000000000000001, 0.0, 0.16667000000000001, 0.0, 1.1000000000000001, 0.0, 0.23333000000000001, 0.0, 0.16667000000000001, 0.0, 0.0, 0.23333000000000001, 0.0, 0.0, 0.0, 0.033329999999999999, 0.0, 0.0, 0.0, 0.0, 0.066670000000000007, 0.066670000000000007, 0.0, 0.0, 0.0, 0.0, 0.0, 0.0, 0.13333, 0.033329999999999999, 0.10000000000000001, 0.0, 0.46666999999999997, 0.0, 0.033329999999999999, 0.0, 0.0, 0.0, 0.0, 0.0, 0.0, 0.0, 0.033329999999999999, 0.0, 0.0, 0.066670000000000007, 0.033329999999999999, 0.0, 0.033329999999999999, 0.0, 0.033329999999999999, 0.0, 0.066670000000000007, 0.033329999999999999, 0.0, 0.0, 0.0, 0.0, 0.0, 0.066670000000000007, 0.0, 0.0, 0.033329999999999999, 0.0, 0.033329999999999999, 0.0, 0.033329999999999999, 0.0, 0.0, 0.0, 0.0, 0.033329999999999999, 0.10000000000000001, 0.0, 0.16667000000000001, 0.0, 0.0, 0.66666999999999998, 0.40000000000000002, 0.0, 0.033329999999999999, 0.0, 0.0, 0.0, 0.0, 0.0, 0.0, 0.033329999999999999, 0.0, 0.10000000000000001, 0.0, 0.0, 0.0, 0.033329999999999999, 0.0, 0.0, 0.066670000000000007, 0.0, 0.0, 0.0, 0.0, 0.96667000000000003, 0.0, 0.066670000000000007, 0.0, 0.0, 0.0, 0.5, 0.066670000000000007, 0.0, 0.0, 0.0, 0.0, 0.066670000000000007, 0.0, 0.0, 0.0, 0.0, 0.0, 0.0, 0.0, 0.066670000000000007, 0.0, 0.0, 0.53332999999999997, 0.13333, 0.10000000000000001, 0.066670000000000007, 0.0, 0.0, 0.0, 0.0, 0.066670000000000007, 0.10000000000000001, 0.0, 0.033329999999999999, 0.066670000000000007, 0.10000000000000001, 0.0, 0.0, 0.0, 0.0, 0.0, 0.0, 0.0, 0.0, 0.29999999999999999, 0.0, 0.0, 0.0, 0.0, 0.0, 0.0, 0.033329999999999999, 0.0, 0.0, 0.46666999999999997, 0.0, 0.0, 0.066670000000000007, 0.0, 0.0, 0.033329999999999999, 0.066670000000000007, 0.0, 0.0, 0.0, 0.0, 1.2, 0.033329999999999999, 0.0, 0.066670000000000007, 0.10000000000000001, 0.033329999999999999, 0.0, 0.066670000000000007, 0.90000000000000002, 0.14493, 0.86667000000000005, 0.033329999999999999, 0.0, 0.33333000000000002, 0.0, 0.0, 0.033329999999999999, 0.0, 0.0, 0.0, 0.033329999999999999, 0.0, 0.0, 0.16667000000000001, 0.033329999999999999, 0.033329999999999999, 0.0, 0.36667, 0.16667000000000001, 0.033329999999999999, 0.0, 0.0, 0.033329999999999999, 0.0, 0.0, 0.0, 0.0, 0.0, 0.13333, 0.0, 0.0, 0.13333, 0.066670000000000007, 0.033329999999999999, 0.066670000000000007, 0.033329999999999999, 0.0, 0.0, 0.0, 0.0, 0.10000000000000001, 0.033329999999999999, 0.0, 0.0, 0.0, 0.0, 0.0, 0.0, 0.033329999999999999, 0.10000000000000001, 0.066670000000000007, 0.0, 0.0, 0.0, 0.0, 0.0, 0.033329999999999999, 0.0, 0.23333000000000001, 0.0, 0.0, 0.43332999999999999, 0.0, 0.0, 0.0, 0.16667000000000001, 0.96667000000000003, 0.10000000000000001, 0.033329999999999999, 0.0, 0.0, 0.0, 0.0, 0.066670000000000007, 0.0, 0.0, 0.0, 0.033329999999999999, 0.0, 0.0, 0.0, 0.0, 0.0, 0.0, 0.033329999999999999, 0.0, 0.10000000000000001, 0.0, 0.0, 0.0, 0.23333000000000001, 0.0, 0.0, 0.0, 0.0, 0.033329999999999999, 0.0, 0.26666999999999996, 0.0, 0.0, 0.0, 0.066670000000000007, 0.0, 0.033329999999999999, 0.066670000000000007, 0.0, 0.0, 0.5, 0.0, 0.0, 0.0, 0.0, 0.0, 0.10000000000000001, 0.033329999999999999, 0.0, 0.0, 0.0, 0.0, 0.0, 0.033329999999999999, 0.0, 0.40000000000000002, 0.10000000000000001, 0.066670000000000007, 0.0, 1.43333, 0.066670000000000007, 0.0, 0.033329999999999999, 0.0, 0.0, 0.0, 0.0, 0.0, 0.16667000000000001, 0.0, 0.0, 0.066670000000000007, 0.10000000000000001, 0.033329999999999999, 0.23333000000000001, 0.0, 0.73333000000000004, 0.0, 0.066670000000000007, 0.0, 0.29999999999999999, 0.0, 0.0, 0.0, 0.16667000000000001, 0.066670000000000007, 0.0, 0.33333000000000002, 0.0, 0.0, 0.0, 0.0, 0.20000000000000001, 0.0, 0.26666999999999996, 0.033329999999999999, 0.20000000000000001, 0.0, 0.0, 0.033329999999999999, 0.10000000000000001, 0.0, 0.033329999999999999, 0.0, 0.0, 0.0, 0.0, 0.0, 0.0, 0.0, 0.63333000000000006, 2.1000000000000001, 0.0, 0.0, 0.033329999999999999, 0.0, 0.033329999999999999, 0.033329999999999999, 0.0, 0.0, 0.16667000000000001, 0.13333, 0.0, 0.066670000000000007, 0.53332999999999997, 0.0, 0.0, 0.20000000000000001, 0.0, 0.0, 0.0, 0.33333000000000002, 0.0, 0.13333, 0.0, 0.0, 0.033329999999999999, 0.0, 0.0, 0.56667000000000001, 0.033329999999999999, 0.033329999999999999, 0.0, 0.02913, 0.0, 0.0, 0.10000000000000001, 0.0, 0.13333, 0.0, 0.0, 0.0, 0.0, 0.066670000000000007, 0.0, 0.033329999999999999, 0.0, 0.0, 0.0, 0.0, 0.0, 0.0, 0.0, 0.0, 0.0, 0.16667000000000001, 0.0, 0.0, 0.0, 0.0, 0.0, 0.53332999999999997, 0.0, 0.0, 0.0, 0.16667000000000001, 0.0, 0.0, 0.0, 0.0, 0.0, 0.033329999999999999, 0.0, 0.0, 0.16667000000000001, 0.0, 0.0, 0.0, 0.0, 0.0, 0.23333000000000001, 0.0, 0.0, 0.0, 0.0, 0.0, 0.066670000000000007, 0.0, 0.0, 0.0, 0.0, 0.0, 0.0, 0.0, 0.0, 0.23333000000000001, 0.0, 0.033329999999999999, 0.0, 0.0, 0.20000000000000001, 0.0, 0.0, 0.0, 0.23333000000000001, 0.0, 0.0, 0.033329999999999999, 0.0, 0.066670000000000007, 0.16667000000000001, 0.0, 0.066670000000000007, 0.0, 0.0, 0.0, 0.0, 0.0, 0.0, 0.0, 0.23333000000000001, 0.0, 0.0, 0.033329999999999999, 0.0, 0.033329999999999999, 0.0, 0.033329999999999999, 0.0, 0.033329999999999999, 0.0, 0.033329999999999999, 0.13333, 0.0, 0.0, 0.0, 0.033329999999999999, 0.0, 0.0, 0.0, 0.033329999999999999, 0.0, 0.0, 0.033329999999999999, 0.0, 0.36667, 0.0, 0.10000000000000001, 0.40000000000000002, 0.20000000000000001, 0.033329999999999999, 0.0, 0.0, 0.033329999999999999, 0.0, 0.23333000000000001, 0.0, 0.0, 0.0, 0.0, 0.033329999999999999, 0.0, 0.0, 0.10000000000000001, 0.0, 0.0, 0.0, 0.033329999999999999, 0.0, 0.066670000000000007, 0.23333000000000001, 0.0, 0.0, 0.0, 0.53332999999999997, 0.33333000000000002, 0.033329999999999999, 0.0, 0.0, 0.0, 0.0, 0.0, 0.0, 0.0, 0.0, 0.0, 0.5, 0.0, 0.10000000000000001, 0.066670000000000007, 0.20000000000000001, 0.0, 0.23333000000000001, 0.033329999999999999, 0.0, 0.13333, 0.0, 0.066670000000000007, 0.033329999999999999, 0.0, 0.16667000000000001, 0.0, 0.0, 0.0, 0.0, 0.0, 0.0, 0.0, 0.0, 0.20000000000000001, 0.0, 0.033329999999999999, 0.0, 0.033329999999999999, 0.0, 0.0, 0.13333, 0.033329999999999999, 0.0, 0.0, 0.10000000000000001, 0.43332999999999999, 0.0, 0.0, 0.0, 0.033329999999999999, 0.0, 0.0, 0.0, 0.0, 0.10000000000000001, 0.0, 0.0, 0.0, 0.0, 0.066670000000000007, 0.0, 0.0, 0.066670000000000007, 0.0, 0.0, 0.0, 0.0, 0.0, 0.0, 0.0, 0.0, 0.0, 0.0, 0.0, 0.0, 0.16667000000000001, 0.033329999999999999, 0.33333000000000002, 0.0, 0.0, 0.0, 0.13333, 0.36667, 0.0, 0.13333, 0.0, 0.066670000000000007, 0.0, 0.0, 0.0, 0.066670000000000007, 0.0, 0.0, 0.0, 0.43332999999999999, 0.26666999999999996, 0.0, 0.0, 0.13333, 0.0, 0.0, 0.0, 0.066670000000000007, 0.0, 0.0, 0.0, 0.0, 0.0, 0.0, 0.0, 0.0, 0.0, 0.0, 0.13333, 0.23333000000000001, 0.0, 0.0, 0.13333, 0.0, 0.10000000000000001, 0.0, 0.23333000000000001, 0.066670000000000007, 0.0, 0.93332999999999988, 0.20000000000000001, 0.13333, 0.0, 0.033329999999999999, 0.0, 0.033329999999999999, 0.0, 0.29999999999999999, 0.066670000000000007, 0.0, 0.0, 0.0, 0.0, 0.0, 0.033329999999999999, 0.0, 0.0, 0.0, 0.0, 0.10000000000000001, 2.26667, 0.0, 0.0, 0.0, 0.0, 0.0, 0.0, 0.0, 0.033329999999999999, 0.0, 0.0, 0.13333, 0.066670000000000007, 0.0, 0.0, 0.0, 0.0, 0.0, 0.0, 0.0, 0.0, 0.0, 0.0, 0.033329999999999999, 0.0, 0.0, 0.0, 0.0, 0.033329999999999999, 0.0, 0.033329999999999999, 0.0, 1.0333299999999999, 0.10000000000000001, 0.0, 0.10000000000000001, 0.0, 0.033329999999999999, 0.0, 0.26666999999999996, 0.5, 0.066670000000000007, 0.0, 0.0, 0.0, 0.0, 0.0, 0.0, 0.066670000000000007, 0.10000000000000001, 0.0, 0.0, 0.0, 0.10000000000000001, 0.0, 0.0, 0.10000000000000001, 0.0, 0.16667000000000001, 0.0, 0.0, 0.10000000000000001, 0.0, 0.0, 0.33333000000000002, 0.0, 0.0, 0.16667000000000001, 0.0, 0.0, 1.3999999999999999, 0.0, 0.0, 0.0, 0.33333000000000002, 0.0, 0.76666999999999996, 0.0, 0.033329999999999999, 0.0, 0.0, 0.0, 0.066670000000000007, 0.0, 0.066670000000000007, 0.0, 0.0, 0.5, 0.066670000000000007, 0.0, 0.0, 0.0, 0.13333, 0.0, 0.23333000000000001, 0.0, 0.0, 0.0, 0.0, 0.0, 0.0, 0.033329999999999999, 0.0, 0.033329999999999999, 0.13333, 0.13333, 0.90000000000000002, 0.0, 0.0, 0.0, 0.0, 0.0, 0.36667, 0.0, 0.0, 0.13333, 0.0, 0.16667000000000001, 0.0, 0.0, 0.13333, 0.066670000000000007, 0.13333, 0.0, 0.0, 0.0, 0.0, 0.0, 0.033329999999999999, 0.066670000000000007, 0.0, 0.0, 0.16667000000000001, 0.0, 0.26666999999999996, 0.0, 0.0, 0.033329999999999999, 0.33333000000000002, 0.033329999999999999, 0.0, 0.066670000000000007, 0.0, 0.0, 0.0, 0.0, 0.0, 0.0, 0.0, 0.0, 0.0, 0.0, 0.0, 0.0, 0.0, 0.0, 0.0, 0.066670000000000007, 0.0, 0.0, 0.033329999999999999, 0.0, 0.0, 0.0, 0.20000000000000001, 0.0, 0.033329999999999999, 0.13333, 0.0, 0.0, 0.10000000000000001, 0.20000000000000001, 0.0, 0.16667000000000001, 0.0, 0.0, 0.0, 0.066670000000000007, 0.0, 0.0, 0.0, 0.86667000000000005, 0.0, 0.0, 0.066670000000000007, 0.10000000000000001, 0.0, 0.0, 0.0, 0.0, 0.43332999999999999, 0.59999999999999998, 0.26666999999999996, 0.0, 0.066670000000000007, 0.0, 0.033329999999999999, 0.20000000000000001, 0.033329999999999999, 0.10000000000000001, 0.033329999999999999, 0.33333000000000002, 0.0, 0.23333000000000001, 0.033329999999999999, 0.0, 0.0, 0.0, 0.0, 0.0, 0.033329999999999999, 0.0, 0.10000000000000001, 0.0, 0.0, 0.0, 0.0, 0.0, 0.0, 0.90000000000000002, 0.40000000000000002, 0.033329999999999999, 0.0, 0.0, 0.0, 0.0, 0.0, 0.033329999999999999, 0.76666999999999996, 0.0, 0.0, 0.0, 0.0, 0.0, 0.26666999999999996, 0.066670000000000007, 0.0, 1.0, 0.0, 0.46666999999999997, 0.0, 0.0, 0.18667, 0.0, 0.033329999999999999, 0.033329999999999999, 0.0, 0.0, 0.066670000000000007, 0.0, 0.0, 0.0, 0.033329999999999999, 0.0, 0.0, 0.0, 0.066670000000000007, 0.033329999999999999, 0.0, 0.0, 0.40000000000000002, 0.0, 0.0, 0.0, 0.0, 0.033329999999999999, 0.33333000000000002, 0.0, 0.033329999999999999, 0.066670000000000007, 0.0, 0.0, 0.13333, 0.0, 0.0, 0.13333, 0.20000000000000001, 0.10000000000000001, 0.0, 0.0, 0.0, 0.0, 0.16667000000000001, 0.033329999999999999, 0.0, 0.033329999999999999, 0.0, 0.0, 0.0, 0.0, 0.0, 0.033329999999999999, 0.0, 0.0, 0.0, 0.0, 0.0, 0.066670000000000007, 0.0, 0.0, 0.0, 0.0, 0.0, 0.066670000000000007, 0.0, 0.0, 0.0, 0.20000000000000001, 0.5, 0.0, 0.066670000000000007, 0.0, 0.0, 0.0, 0.0, 0.033329999999999999, 0.033329999999999999, 0.0, 0.033329999999999999, 0.0, 0.0, 0.0, 0.0, 0.0, 0.0, 0.46666999999999997, 0.16667000000000001, 0.0, 0.066670000000000007, 0.0, 0.0, 0.0, 0.066670000000000007, 0.0, 0.0, 0.0, 0.0, 0.0, 0.16667000000000001, 0.0, 0.0, 0.0, 0.0, 0.10000000000000001, 0.0, 0.066670000000000007, 0.0, 0.0, 0.0, 0.0, 0.0, 0.033329999999999999, 0.0, 0.80000000000000004, 0.0, 0.0, 0.10000000000000001, 0.0, 0.20000000000000001, 0.16667000000000001, 0.033329999999999999, 0.0, 1.3333299999999999, 0.0, 0.0, 0.0, 0.26666999999999996, 0.0, 0.0, 0.0, 0.0, 0.53332999999999997, 0.0, 0.0, 0.26666999999999996, 0.0, 1.1666700000000001, 0.066670000000000007, 0.0, 0.0, 0.066670000000000007, 0.0, 0.033329999999999999, 0.29999999999999999, 0.0, 0.0, 0.0, 0.76666999999999996, 0.0, 0.0, 0.20000000000000001, 0.0, 0.33333000000000002, 0.0, 0.0, 0.10000000000000001, 0.0, 0.0, 0.033329999999999999, 0.16667000000000001, 0.0, 2.3666700000000001, 0.0, 0.0, 0.0, 0.0, 0.0, 0.033329999999999999, 0.0, 0.0, 0.20000000000000001, 0.0, 0.0, 0.20000000000000001, 0.0, 0.20000000000000001, 0.0, 0.0, 0.0, 0.0, 0.23333000000000001, 0.066670000000000007, 0.0, 0.46666999999999997, 0.033329999999999999, 0.0, 0.033329999999999999, 0.0, 0.0, 0.0, 0.033329999999999999, 0.0, 0.0, 0.0, 0.0, 0.0, 0.0, 0.0, 0.066670000000000007, 0.0, 0.0, 0.0, 0.0, 0.0, 0.16667000000000001, 0.23333000000000001, 0.0, 0.0, 0.0, 0.033329999999999999, 0.0, 0.0, 0.0, 0.13333, 0.0, 0.0, 0.0, 0.0, 0.0, 0.13333, 0.0, 0.0, 0.10000000000000001, 0.0, 0.0, 0.0, 0.0, 0.0, 0.0, 0.16667000000000001, 0.16667000000000001, 0.0, 0.0, 0.0, 0.0, 0.0, 0.26666999999999996, 0.0, 0.0, 0.033329999999999999, 0.0, 0.0, 0.0, 1.23333, 0.033329999999999999, 0.033329999999999999, 0.066670000000000007, 0.0, 0.0, 1.3333299999999999, 0.0, 0.0, 0.0, 0.033329999999999999, 0.0, 0.0, 0.0, 0.0, 0.0, 0.033329999999999999, 0.0, 0.0, 0.10000000000000001, 0.0, 0.033329999999999999, 0.0, 0.0, 0.0, 0.0, 0.23333000000000001, 0.0, 0.0, 0.0, 0.0, 0.0, 0.13333, 0.0, 0.0, 0.0, 0.0, 0.0, 0.0, 0.0, 0.033329999999999999, 0.0, 0.20000000000000001, 0.0, 0.0, 0.0, 0.0, 0.0, 0.0, 0.0, 0.0, 0.0, 0.0, 0.0, 0.23333000000000001, 0.0, 0.0, 0.23333000000000001, 0.0, 0.066670000000000007, 0.0, 0.66666999999999998, 0.066670000000000007, 0.066670000000000007, 0.0, 0.0, 0.0, 0.26666999999999996, 0.0, 0.0, 0.10000000000000001, 0.0, 0.0, 0.033329999999999999, 0.0, 0.0, 0.0, 0.0, 0.63333000000000006, 0.0, 0.0, 0.0, 0.0, 0.0, 0.033329999999999999, 0.033329999999999999, 0.0, 0.26666999999999996, 0.0, 0.0, 0.0, 0.0, 0.0, 0.033329999999999999, 0.0, 0.066670000000000007, 0.0, 0.0, 0.0, 0.066670000000000007, 0.0, 0.0, 0.26666999999999996, 0.0, 0.0, 0.0, 0.0, 0.066670000000000007, 0.0, 0.033329999999999999, 0.033329999999999999, 0.46666999999999997, 0.0, 0.0, 0.0, 0.0, 0.20000000000000001, 0.033329999999999999, 0.066670000000000007, 0.0, 0.0, 0.033329999999999999, 0.0, 0.0, 0.0, 0.0, 0.033329999999999999, 0.0, 0.63333000000000006, 0.0, 0.56667000000000001, 0.0, 0.0, 0.0, 0.0, 0.10000000000000001, 0.53332999999999997, 0.0, 0.033329999999999999, 0.0, 0.02853, 0.10000000000000001, 0.69999999999999996, 0.40000000000000002, 0.0, 0.0, 0.0, 0.033329999999999999, 0.0, 0.0, 0.0, 0.0, 0.0, 0.033329999999999999, 0.0, 0.26666999999999996, 0.033329999999999999, 0.0, 0.0, 0.0, 0.0, 0.0, 0.033329999999999999, 0.0, 0.033329999999999999, 0.033329999999999999, 0.0, 0.0, 0.0, 0.20000000000000001, 0.0, 0.0, 0.0, 0.13333, 0.0, 0.0, 0.8333299999999999, 0.033329999999999999, 0.0, 0.0, 0.0, 0.066670000000000007, 0.0, 0.8333299999999999, 0.0, 0.0, 0.0, 0.26666999999999996, 0.20000000000000001, 0.0, 0.0, 0.13333, 0.0, 0.033329999999999999, 0.066670000000000007, 0.0, 0.033329999999999999, 0.0, 0.0, 0.033329999999999999, 0.0, 0.0, 0.0, 0.40000000000000002, 0.0, 0.59999999999999998, 0.10000000000000001, 0.0, 0.0, 0.0, 0.0, 0.0, 0.23333000000000001, 0.033329999999999999, 0.0, 0.10000000000000001, 0.066670000000000007, 0.0, 0.0, 0.066670000000000007, 0.0, 0.0, 0.0, 0.033329999999999999, 0.033329999999999999, 0.0, 0.033329999999999999, 0.16667000000000001, 0.033329999999999999, 0.0, 0.5, 0.0, 0.0, 0.0, 0.033329999999999999, 0.0, 0.0, 0.0, 0.033329999999999999, 0.0, 0.0, 0.0, 0.0, 0.0, 1.4666700000000001, 0.066670000000000007, 0.10000000000000001, 0.033329999999999999, 0.033329999999999999, 0.033329999999999999, 0.033329999999999999, 0.0, 0.033329999999999999, 0.033329999999999999, 0.13333, 0.26666999999999996, 0.13333, 0.0, 0.0, 0.0, 0.066670000000000007, 0.0, 0.0, 0.0, 0.033329999999999999, 0.033329999999999999, 0.033329999999999999, 0.033329999999999999, 1.76667, 0.0, 0.13333, 0.0, 0.0, 0.0, 0.0, 0.066670000000000007, 0.0, 0.0, 0.0, 0.0, 0.066670000000000007, 0.033329999999999999, 0.0, 0.53332999999999997, 0.066670000000000007, 0.0, 0.0, 0.0, 0.0, 0.0, 0.0, 0.0, 0.066670000000000007, 0.13333, 0.0, 0.0, 0.0, 0.0, 0.033329999999999999, 0.033329999999999999, 0.0, 0.16667000000000001, 0.033329999999999999, 0.0, 0.0, 0.0, 0.066670000000000007, 0.46666999999999997, 0.26666999999999996, 0.69999999999999996, 0.0, 0.0, 0.0, 0.0, 0.0, 0.0, 0.0, 0.13333, 0.033329999999999999, 0.16667000000000001, 0.0, 0.20000000000000001, 0.033329999999999999, 0.0, 0.0, 0.0, 0.0, 0.0, 0.033329999999999999, 0.066670000000000007, 0.033329999999999999, 0.0, 0.033329999999999999, 0.033329999999999999, 0.066670000000000007, 0.0, 0.0, 0.066670000000000007, 0.066670000000000007, 0.0, 0.0, 0.0, 0.0, 0.0, 0.0, 0.0, 0.0, 0.0, 0.26666999999999996, 0.033329999999999999, 0.0, 0.0, 0.0, 0.0, 0.0, 0.0, 0.0, 0.0, 0.13333, 0.29999999999999999, 0.0, 0.0, 0.0, 0.13333, 0.10000000000000001, 0.0, 0.0, 0.0, 0.20000000000000001, 0.0, 0.0, 0.033329999999999999, 0.10000000000000001, 0.0, 0.0, 0.0, 0.0, 0.033329999999999999, 0.0, 0.0, 0.0, 0.0, 0.0, 0.0, 0.23333000000000001, 0.0, 0.066670000000000007, 0.0, 0.0, 0.0, 0.0, 0.0, 0.5, 0.066670000000000007, 0.0, 0.0, 0.0, 0.13333, 0.0, 0.0, 0.0, 0.0, 0.0, 0.0, 0.29999999999999999, 0.0, 0.0, 0.066670000000000007, 0.0, 0.0, 0.033329999999999999, 0.0, 0.0, 0.0, 0.0, 0.033329999999999999, 0.0, 0.0, 0.16667000000000001, 4.3666700000000001, 0.0, 0.0, 0.0, 0.0, 0.0, 0.033329999999999999, 0.0, 0.033329999999999999, 0.0, 0.066670000000000007, 0.0, 0.10000000000000001, 0.29999999999999999, 0.0, 0.0, 0.0, 0.033329999999999999, 0.066670000000000007, 0.0, 0.10000000000000001, 0.0, 0.0, 0.033329999999999999, 0.033329999999999999, 0.033329999999999999, 0.0, 0.33333000000000002, 0.0, 0.0, 0.0, 0.0, 0.0, 0.0, 0.0, 0.033329999999999999, 0.0, 0.0, 0.0, 0.16667000000000001, 0.0, 0.033329999999999999, 0.033329999999999999, 0.0, 0.10000000000000001, 1.0333299999999999, 0.066670000000000007, 0.0, 0.0, 0.033329999999999999, 0.0, 0.0, 0.0, 0.0, 0.066670000000000007, 0.0, 0.0, 0.0, 0.0, 0.0, 0.0, 0.23333000000000001, 0.0, 0.0, 0.33333000000000002, 0.0, 0.0, 0.066670000000000007, 0.13333, 0.0, 0.0, 0.0, 0.0, 0.0, 0.0, 0.28739999999999999, 0.0, 0.0, 1.23333, 0.0, 0.066670000000000007, 0.0, 0.0, 0.10000000000000001, 0.0, 0.0, 0.0, 0.0, 0.0, 0.0, 0.13333, 0.36667, 0.0, 0.033329999999999999, 0.0, 0.13333, 0.0, 0.0, 0.0, 0.0, 0.033329999999999999, 0.0, 0.0, 0.033329999999999999, 0.0, 0.33333000000000002, 0.13333, 0.0, 0.066670000000000007, 0.0, 0.066670000000000007, 0.0, 0.0, 2.23333, 0.0, 0.066670000000000007, 0.0, 0.066670000000000007, 0.36667, 0.0, 0.0, 0.0, 0.0, 0.0, 0.0, 0.0, 0.0, 0.0, 0.13333, 0.066670000000000007, 0.0, 0.033329999999999999, 0.0, 0.033329999999999999, 0.0, 0.033329999999999999, 0.0, 0.0, 0.033329999999999999, 0.0, 0.0, 0.0, 0.26666999999999996, 0.0, 0.0, 0.0, 0.0, 0.0, 0.0, 0.0, 0.0, 0.0, 0.10000000000000001, 0.0, 0.0, 0.033329999999999999, 0.0, 0.10000000000000001, 0.0, 0.0, 0.13333, 0.0, 0.0, 0.0, 0.20000000000000001, 0.0, 0.0, 0.0, 0.56667000000000001, 0.0, 0.033329999999999999, 0.0, 0.033329999999999999, 0.0, 0.0, 0.0, 0.0, 0.0, 0.0, 0.0, 0.0, 0.066670000000000007, 0.0, 0.0, 0.066670000000000007, 0.0, 0.0, 0.0, 0.0, 0.0, 0.43332999999999999, 0.033329999999999999, 0.0, 0.0, 0.0, 0.033329999999999999, 0.0, 0.033329999999999999, 0.033329999999999999, 0.13333, 0.0, 0.0, 0.0, 0.0, 0.0, 0.10000000000000001, 0.066670000000000007, 0.066670000000000007, 0.13333, 0.0, 0.0, 0.0, 0.0, 0.0, 0.0, 0.0, 0.0, 0.36667, 0.0, 1.1666700000000001, 0.8333299999999999, 0.0, 0.0, 0.033329999999999999, 0.0, 0.0, 0.0, 0.0, 0.0, 0.0, 0.0, 0.0, 0.066670000000000007, 0.5, 0.066670000000000007, 0.066670000000000007, 0.10000000000000001, 0.033329999999999999, 0.56667000000000001, 0.033329999999999999, 0.066670000000000007, 0.0, 0.0, 0.035269999999999996, 0.066670000000000007, 0.0, 0.0, 0.0, 0.0, 0.0, 0.066670000000000007, 0.0, 0.033329999999999999, 0.0, 0.0, 0.066670000000000007, 0.0, 0.033329999999999999, 0.033329999999999999, 0.0, 0.23333000000000001, 0.0, 0.033329999999999999, 0.0, 0.0, 0.033329999999999999, 0.0, 0.0, 0.0, 0.0, 0.0, 0.93332999999999988, 0.033329999999999999, 0.0, 0.0, 0.0, 0.76666999999999996, 0.0, 0.10000000000000001, 0.16667000000000001, 0.0, 0.033329999999999999, 0.23333000000000001, 0.0, 0.066670000000000007, 0.0, 0.066670000000000007, 0.80000000000000004, 0.0, 0.033329999999999999, 0.0, 0.066670000000000007, 0.0, 0.0, 0.0, 0.10000000000000001, 0.0, 0.0, 0.033329999999999999, 0.0, 0.0, 0.0, 0.0, 0.033329999999999999, 0.8333299999999999, 0.033329999999999999, 0.0, 0.066670000000000007, 0.0, 0.0, 0.033329999999999999, 0.0, 0.033329999999999999, 0.0, 0.23333000000000001, 0.0, 0.066670000000000007, 0.0, 0.0, 0.16667000000000001, 0.0, 0.0, 0.0, 0.0, 0.033329999999999999, 0.0, 0.0, 0.0, 0.066670000000000007, 0.0, 0.066670000000000007, 0.0, 0.0, 0.0, 0.0, 0.0, 0.0, 0.0, 0.26666999999999996, 0.16667000000000001, 0.033329999999999999, 0.0, 0.033329999999999999, 0.0, 0.0, 0.033329999999999999, 1.93333, 0.033329999999999999, 0.033329999999999999, 0.0, 0.0, 0.0, 0.0, 0.033329999999999999, 0.033329999999999999, 0.0, 0.0, 0.0, 0.0, 0.0, 0.0, 0.0, 0.0, 0.20000000000000001, 0.0, 0.0, 0.0, 0.0, 0.0, 0.13333, 0.0, 0.0, 4.3666700000000001, 0.0, 0.13333, 0.033329999999999999, 0.0, 0.0, 0.0, 0.20000000000000001, 0.0, 0.0, 0.033329999999999999, 0.80000000000000004, 0.0, 0.13333, 0.0, 0.0, 0.0, 0.0, 0.0, 0.43332999999999999, 0.033329999999999999, 0.0, 0.0, 0.0, 0.066670000000000007, 0.0, 0.033329999999999999, 0.0, 0.0, 0.0, 0.0, 0.0, 0.26666999999999996, 0.0, 0.066670000000000007, 0.0, 0.33333000000000002, 0.0, 0.0, 0.0, 0.0, 0.0, 0.0, 0.0, 0.0, 0.0, 0.0, 0.0, 0.0, 0.0, 0.033329999999999999, 0.0, 0.0, 0.0, 0.10000000000000001, 0.0, 0.16667000000000001, 0.066670000000000007, 0.066670000000000007, 0.0, 0.066670000000000007, 0.10000000000000001, 0.10000000000000001, 0.0, 0.0, 0.0, 0.0, 0.0, 0.0, 0.0, 0.066670000000000007, 0.0, 0.0, 0.0, 0.0, 0.0, 0.0, 0.0, 0.23333000000000001, 0.033329999999999999, 0.0, 0.0, 0.29999999999999999, 0.0, 0.066670000000000007, 0.0, 0.0, 0.0, 0.0, 1.1000000000000001, 0.0, 0.0, 0.033329999999999999, 0.0, 0.0, 0.0, 0.0, 0.0, 0.0, 0.0, 0.0, 0.26666999999999996, 0.066670000000000007, 0.0, 0.0, 0.0, 0.0, 0.0, 0.033329999999999999, 0.0, 0.0, 0.0, 0.0, 0.0, 0.0, 0.0, 0.0, 0.10000000000000001, 0.0, 0.0, 0.0, 0.014169999999999999, 0.0, 0.0, 0.0, 0.43332999999999999, 0.0, 0.066670000000000007, 0.0, 0.0, 0.033329999999999999, 0.066670000000000007, 0.0, 0.20000000000000001, 0.26666999999999996, 0.0, 0.0, 0.10000000000000001, 0.0, 0.033329999999999999, 0.0, 0.0, 0.033329999999999999, 0.26666999999999996, 0.5, 0.0, 0.0, 0.0, 0.0, 0.0, 0.0, 0.0, 0.0, 0.0, 0.033329999999999999, 0.13333, 0.033329999999999999, 0.16667000000000001, 0.26666999999999996, 0.0, 0.0, 0.033329999999999999, 0.066670000000000007, 0.0, 0.0, 0.20000000000000001, 0.0, 0.0, 0.0, 0.0, 0.10000000000000001, 0.066670000000000007, 0.36667, 0.0, 0.033329999999999999, 0.0, 0.0, 0.066670000000000007, 0.033329999999999999, 0.0, 0.0, 0.0, 0.0, 0.0, 0.0, 0.0, 0.0, 0.033329999999999999, 0.0, 0.13333, 0.10000000000000001, 0.10000000000000001, 0.066670000000000007, 0.0, 0.066670000000000007, 0.066670000000000007, 0.0, 0.0, 0.0, 0.066670000000000007, 0.0, 0.0, 0.0, 0.0, 0.0, 0.0, 0.0, 0.0, 0.0, 0.0, 0.033329999999999999, 0.0, 0.0, 0.0, 0.0, 0.0, 0.0, 0.0, 0.0, 0.033329999999999999, 0.0, 0.0, 0.0, 1.0333299999999999, 0.0, 0.0, 0.0, 0.033329999999999999, 0.0, 0.0, 0.0, 0.0, 0.033329999999999999, 0.16667000000000001, 0.033329999999999999, 0.033329999999999999, 0.26666999999999996, 0.0, 0.033329999999999999, 0.16667000000000001, 0.0, 0.0, 0.0, 0.0, 0.0, 0.0, 0.0, 0.0, 0.0, 0.0, 0.0, 0.0, 0.0, 0.23333000000000001, 0.0, 0.0, 0.066670000000000007, 0.0, 0.0, 0.16667000000000001, 0.20000000000000001, 0.0, 0.0, 0.0, 0.26666999999999996, 0.0, 0.0, 0.033329999999999999, 0.0, 0.0, 0.0, 0.0, 0.0, 0.0, 0.13333, 0.26666999999999996, 0.066670000000000007, 0.0, 0.0, 0.0, 0.0, 0.033329999999999999, 0.0, 0.0, 0.0, 0.033329999999999999, 0.0, 0.36667, 0.0, 0.0, 0.066670000000000007, 0.0, 0.0, 0.033329999999999999, 0.033329999999999999, 0.0, 0.0, 0.033329999999999999, 0.0, 0.36667, 0.0, 0.0, 0.40000000000000002, 0.0, 0.0, 0.033329999999999999, 0.0, 0.0, 0.0, 0.0, 0.066670000000000007, 0.066670000000000007, 0.0, 0.20000000000000001, 0.0, 0.033329999999999999, 0.0, 0.0, 0.0, 0.0, 0.066670000000000007, 0.033329999999999999, 0.0, 0.0, 0.0, 0.0, 0.16667000000000001, 0.033329999999999999, 0.0, 0.0, 0.0, 0.0, 0.0, 0.0, 0.29999999999999999, 0.033329999999999999, 0.066670000000000007, 0.0, 0.0, 0.0, 0.0, 0.033329999999999999, 0.0, 0.066670000000000007, 0.0, 0.0, 0.0, 0.0, 0.0, 0.0, 0.0, 0.0, 0.20000000000000001, 0.0, 0.0, 0.0, 0.40000000000000002, 0.033329999999999999, 0.033329999999999999, 0.0, 0.0, 0.0, 0.033329999999999999, 0.0, 0.20000000000000001, 0.0, 0.0, 0.066670000000000007, 0.033329999999999999, 0.0, 0.0, 0.0, 0.0, 0.0, 0.0, 0.0, 0.0, 0.0, 0.0, 0.066670000000000007, 0.10000000000000001, 0.10000000000000001, 0.033329999999999999, 0.0, 0.0, 0.0, 0.0, 0.033329999999999999, 0.066670000000000007, 0.0, 0.0, 0.46666999999999997, 0.20000000000000001, 0.0, 0.40000000000000002, 0.033329999999999999, 0.0, 0.0, 0.0, 0.0, 0.0, 0.0, 0.0, 0.0, 0.0]\n"
     ]
    },
    {
     "data": {
      "image/png": "[encoded data removed]",
      "text/plain": [
       "<matplotlib.figure.Figure at 0x11cd59b00>"
      ]
     },
     "metadata": {},
     "output_type": "display_data"
    },
    {
     "name": "stdout",
     "output_type": "stream",
     "text": [
      "Fitting model with X_train (TRAIN SET) and y_train (TARGET TRAIN SET)...\n"
     ]
    },
    {
     "name": "stdout",
     "output_type": "stream",
     "text": [
      "TIME ELAPSED:  00:00:00\nPredicting target with X_test (TEST SET)\nTIME ELAPSED:  00:00:00\nFull data frame head:\n       TargetPrediction(yPred)  TargetTest(yTest)\n6271                 0.057097            0.00000\n4691                 0.055246            0.03333\n1735                 0.071700            0.13333\n4749                 0.058157            0.00000\n4528                 0.067972            0.06667\n<class 'pandas.core.frame.DataFrame'>\nInt64Index: 3000 entries, 6271 to 4712\nData columns (total 2 columns):\nTargetPrediction(yPred)    3000 non-null float64\nTargetTest(yTest)          3000 non-null float64\ndtypes: float64(2)\nmemory usage: 70.3 KB\nFull data frame info:\n None\nFull data frame description:\n        TargetPrediction(yPred)  TargetTest(yTest)\ncount              3000.000000        3000.000000\nmean                  0.075228           0.066674\nstd                   0.050169           0.218451\nmin                   0.053860           0.000000\n25%                   0.054636           0.000000\n50%                   0.061114           0.000000\n75%                   0.072531           0.033330\nmax                   0.849582           4.366670\nLasso Score (R^2):  0.152953137542\nMean Squared Error 0.0404083964415\nRoot Mean Squared Error 0.2010183982660621\nMean Absolute Error 0.0881156692866\nPREDICTION\n[ 0.05709687  0.05524557  0.07169954 ...,  0.06627009  0.0611384   0.2760571 ]\nTARGET TEST\n[0.0, 0.033329999999999999, 0.13333, 0.0, 0.066670000000000007, 0.13333, 0.0, 0.066670000000000007, 0.0, 0.066670000000000007, 0.0, 0.0, 0.0, 0.0, 0.0, 0.033329999999999999, 0.0, 0.0, 0.0, 0.0, 0.0, 0.0, 0.0, 0.0, 0.40000000000000002, 0.066670000000000007, 0.033329999999999999, 0.0, 0.0, 0.16667000000000001, 0.0, 0.0, 0.0, 0.10000000000000001, 0.0, 0.0, 0.0, 0.0, 0.0, 0.0, 0.033329999999999999, 0.0, 0.0, 0.033329999999999999, 0.0, 0.0, 0.80000000000000004, 0.0, 0.0, 0.0, 0.0, 0.0, 0.0, 0.10000000000000001, 0.066670000000000007, 0.0, 0.033329999999999999, 0.13333, 0.033329999999999999, 0.033329999999999999, 0.0, 0.033329999999999999, 0.0, 0.0, 0.033329999999999999, 0.36667, 0.0, 0.0, 0.0, 0.0, 0.0, 0.0, 0.0, 0.033329999999999999, 0.0, 0.0, 0.0, 0.20000000000000001, 0.033329999999999999, 0.29999999999999999, 0.0, 0.0, 0.0, 0.0, 0.0, 0.0, 0.0, 0.0, 0.0, 0.0, 0.0, 0.10000000000000001, 0.0, 0.0, 0.0, 0.0, 0.033329999999999999, 0.36667, 0.033329999999999999, 0.0, 0.033329999999999999, 0.0, 0.0, 0.0, 0.20000000000000001, 0.0, 0.0, 0.0, 0.0, 0.16667000000000001, 0.26666999999999996, 0.0, 0.0, 0.0, 0.23333000000000001, 0.033329999999999999, 0.0, 0.033329999999999999, 0.0, 0.0, 0.0, 0.0, 0.0, 0.10000000000000001, 0.13333, 0.0, 0.0, 0.13333, 0.0, 0.0, 0.066670000000000007, 0.0, 0.0, 0.0, 0.066670000000000007, 0.0, 0.033329999999999999, 0.0, 0.033329999999999999, 0.0, 0.16667000000000001, 0.0, 0.0, 0.16667000000000001, 0.0, 0.0, 0.26666999999999996, 0.0, 0.0, 0.16667000000000001, 0.066670000000000007, 0.033329999999999999, 0.0, 0.0, 0.0, 0.033329999999999999, 0.0, 0.26666999999999996, 1.3999999999999999, 0.0, 0.0, 0.033329999999999999, 0.033329999999999999, 0.033329999999999999, 0.16667000000000001, 0.033329999999999999, 0.0, 0.033329999999999999, 0.0, 0.033329999999999999, 0.0, 0.0, 0.0, 0.0, 0.0, 0.0, 0.0, 0.033329999999999999, 0.066670000000000007, 0.0, 0.0, 0.033329999999999999, 0.0, 0.033329999999999999, 0.96667000000000003, 0.0, 0.033329999999999999, 0.0, 0.0, 0.033329999999999999, 0.0, 0.16667000000000001, 0.033329999999999999, 0.0, 0.0, 0.16667000000000001, 0.0, 0.0, 0.033329999999999999, 0.0, 0.033329999999999999, 0.0, 0.10000000000000001, 0.0, 0.0, 0.066670000000000007, 0.0, 0.0, 0.033329999999999999, 0.20000000000000001, 0.033329999999999999, 0.0, 0.0, 0.0, 0.23333000000000001, 0.0, 0.0, 0.066670000000000007, 0.0, 0.033329999999999999, 0.033329999999999999, 0.0, 0.0, 0.16667000000000001, 0.0, 0.066670000000000007, 0.0, 0.033329999999999999, 0.033329999999999999, 0.0, 0.033329999999999999, 0.0, 0.066670000000000007, 0.10000000000000001, 0.0, 0.0, 0.0, 0.10000000000000001, 0.0, 0.0, 0.0, 0.0, 0.10000000000000001, 1.1666700000000001, 0.0, 0.0, 0.033329999999999999, 0.033329999999999999, 0.13333, 0.033329999999999999, 0.40000000000000002, 0.0, 0.0, 0.0, 0.066670000000000007, 0.0, 0.0, 0.066670000000000007, 0.0, 0.0, 0.13333, 0.0, 0.0, 0.0, 0.10000000000000001, 0.0, 0.0, 0.066670000000000007, 0.033329999999999999, 0.0, 0.0, 0.0, 0.0, 0.0, 0.066670000000000007, 0.0, 0.0, 0.0, 0.46666999999999997, 0.0, 0.0, 0.0, 0.0, 0.033329999999999999, 0.0, 0.0, 0.0, 0.0, 0.0, 0.0, 0.0, 0.0, 0.0, 0.066670000000000007, 0.0, 0.0, 0.0, 0.36667, 0.0, 0.0, 0.0, 0.0, 0.0, 0.0, 0.86667000000000005, 0.0, 0.066670000000000007, 0.0, 0.0, 0.56667000000000001, 0.13333, 0.16667000000000001, 0.0, 0.0, 0.033329999999999999, 0.0, 0.23333000000000001, 0.0, 0.0, 0.90000000000000002, 0.0, 0.0, 0.0, 0.10000000000000001, 0.0, 0.0, 0.0, 0.066670000000000007, 0.0, 0.0, 0.16667000000000001, 0.0, 0.0, 0.033329999999999999, 0.0, 0.0, 0.066670000000000007, 0.0, 1.6333299999999999, 0.0, 0.033329999999999999, 0.0, 0.10000000000000001, 0.0, 0.10000000000000001, 0.033329999999999999, 0.0, 0.066670000000000007, 0.0, 0.066670000000000007, 0.033329999999999999, 0.0, 0.0, 0.0, 0.0, 1.4666700000000001, 0.40000000000000002, 0.36667, 0.0, 0.40000000000000002, 0.0, 0.033329999999999999, 0.033329999999999999, 0.0, 0.33333000000000002, 0.0, 0.0, 0.0, 0.29999999999999999, 0.0, 0.0, 0.0, 0.0, 0.13333, 0.0, 0.16667000000000001, 0.0, 0.033329999999999999, 0.066670000000000007, 0.0, 0.066670000000000007, 0.033329999999999999, 0.20000000000000001, 0.10000000000000001, 0.033329999999999999, 0.0, 0.0, 0.0, 0.13333, 0.0, 0.0, 0.0, 0.0, 0.0, 0.0, 0.0, 1.1333299999999999, 0.0, 0.066670000000000007, 0.0, 0.0, 0.10000000000000001, 0.0, 0.0, 0.0, 0.0, 0.73333000000000004, 0.0, 0.0, 0.0, 0.0, 0.0, 0.0, 0.0, 0.0, 0.0, 0.0, 0.0, 0.0, 0.0, 0.0, 0.0, 0.033329999999999999, 0.0, 0.0, 0.0, 0.0, 0.0, 0.033329999999999999, 0.0, 0.13333, 0.0, 0.0, 0.033329999999999999, 0.0, 0.0, 0.0, 0.066670000000000007, 0.0, 0.0, 0.23333000000000001, 0.033329999999999999, 0.13333, 0.0, 0.0, 0.0, 0.033329999999999999, 0.10000000000000001, 0.066670000000000007, 0.033329999999999999, 0.033329999999999999, 0.0, 0.0, 0.0, 0.0, 0.033329999999999999, 0.0, 0.0, 0.0, 0.23333000000000001, 0.0, 0.0, 0.0, 0.16667000000000001, 0.0, 0.23333000000000001, 0.0, 0.033329999999999999, 0.0, 0.066670000000000007, 0.26666999999999996, 0.0, 0.10000000000000001, 0.033329999999999999, 0.0, 0.0, 0.033329999999999999, 0.033329999999999999, 0.033329999999999999, 0.033329999999999999, 0.066670000000000007, 0.0, 0.33333000000000002, 0.23333000000000001, 0.0, 0.0, 0.13333, 0.0, 0.0, 0.066670000000000007, 0.033329999999999999, 0.0, 0.0, 0.0, 0.0, 0.0, 0.0, 0.066670000000000007, 0.0, 0.0, 0.0, 0.0, 0.0, 0.066670000000000007, 0.16667000000000001, 0.033329999999999999, 0.33333000000000002, 0.0, 0.066670000000000007, 0.43332999999999999, 0.0, 0.10000000000000001, 0.0, 0.0, 0.0, 0.29999999999999999, 0.73333000000000004, 0.16667000000000001, 0.066670000000000007, 0.0, 0.0, 0.033329999999999999, 0.0, 0.0, 0.033329999999999999, 0.0, 0.0, 0.13333, 0.0, 0.0, 0.033329999999999999, 0.26666999999999996, 0.0, 0.0, 0.0, 0.0, 0.0, 0.0, 0.0, 0.033329999999999999, 0.0, 0.033329999999999999, 0.0, 0.0, 0.0, 0.030169999999999999, 0.20000000000000001, 0.066670000000000007, 0.0, 0.0, 0.0, 0.033329999999999999, 0.0, 0.16667000000000001, 0.16667000000000001, 0.0, 0.033329999999999999, 0.0, 0.0, 0.0, 0.033329999999999999, 0.0, 0.0, 0.26666999999999996, 0.0, 0.0, 0.0, 2.1333299999999999, 0.0, 0.0, 0.0, 0.0, 0.0, 0.0, 0.0, 0.0, 0.0, 0.0, 0.0, 0.033329999999999999, 0.0, 0.0, 0.13333, 0.0, 0.033329999999999999, 1.4666700000000001, 0.0, 0.0, 0.0, 0.36667, 0.33333000000000002, 0.0, 0.0, 0.16667000000000001, 0.0, 0.0, 0.0, 0.0, 0.0, 0.0, 0.10000000000000001, 0.033329999999999999, 0.0, 0.13333, 0.0, 0.36667, 0.0, 0.033329999999999999, 0.033329999999999999, 0.0, 0.0, 0.066670000000000007, 0.0, 0.0, 0.0, 0.0, 0.0, 0.0, 0.033329999999999999, 0.0, 0.066670000000000007, 0.0, 0.0, 0.0, 0.0, 0.23333000000000001, 0.066670000000000007, 0.033329999999999999, 0.0, 0.26666999999999996, 0.0, 0.10000000000000001, 0.0, 0.066670000000000007, 0.0, 0.0, 0.033329999999999999, 0.033329999999999999, 0.36667, 0.033329999999999999, 0.0, 0.10000000000000001, 0.0, 0.0, 0.0, 0.10000000000000001, 0.0, 0.16667000000000001, 0.0, 1.1000000000000001, 0.0, 0.23333000000000001, 0.0, 0.16667000000000001, 0.0, 0.0, 0.23333000000000001, 0.0, 0.0, 0.0, 0.033329999999999999, 0.0, 0.0, 0.0, 0.0, 0.066670000000000007, 0.066670000000000007, 0.0, 0.0, 0.0, 0.0, 0.0, 0.0, 0.13333, 0.033329999999999999, 0.10000000000000001, 0.0, 0.46666999999999997, 0.0, 0.033329999999999999, 0.0, 0.0, 0.0, 0.0, 0.0, 0.0, 0.0, 0.033329999999999999, 0.0, 0.0, 0.066670000000000007, 0.033329999999999999, 0.0, 0.033329999999999999, 0.0, 0.033329999999999999, 0.0, 0.066670000000000007, 0.033329999999999999, 0.0, 0.0, 0.0, 0.0, 0.0, 0.066670000000000007, 0.0, 0.0, 0.033329999999999999, 0.0, 0.033329999999999999, 0.0, 0.033329999999999999, 0.0, 0.0, 0.0, 0.0, 0.033329999999999999, 0.10000000000000001, 0.0, 0.16667000000000001, 0.0, 0.0, 0.66666999999999998, 0.40000000000000002, 0.0, 0.033329999999999999, 0.0, 0.0, 0.0, 0.0, 0.0, 0.0, 0.033329999999999999, 0.0, 0.10000000000000001, 0.0, 0.0, 0.0, 0.033329999999999999, 0.0, 0.0, 0.066670000000000007, 0.0, 0.0, 0.0, 0.0, 0.96667000000000003, 0.0, 0.066670000000000007, 0.0, 0.0, 0.0, 0.5, 0.066670000000000007, 0.0, 0.0, 0.0, 0.0, 0.066670000000000007, 0.0, 0.0, 0.0, 0.0, 0.0, 0.0, 0.0, 0.066670000000000007, 0.0, 0.0, 0.53332999999999997, 0.13333, 0.10000000000000001, 0.066670000000000007, 0.0, 0.0, 0.0, 0.0, 0.066670000000000007, 0.10000000000000001, 0.0, 0.033329999999999999, 0.066670000000000007, 0.10000000000000001, 0.0, 0.0, 0.0, 0.0, 0.0, 0.0, 0.0, 0.0, 0.29999999999999999, 0.0, 0.0, 0.0, 0.0, 0.0, 0.0, 0.033329999999999999, 0.0, 0.0, 0.46666999999999997, 0.0, 0.0, 0.066670000000000007, 0.0, 0.0, 0.033329999999999999, 0.066670000000000007, 0.0, 0.0, 0.0, 0.0, 1.2, 0.033329999999999999, 0.0, 0.066670000000000007, 0.10000000000000001, 0.033329999999999999, 0.0, 0.066670000000000007, 0.90000000000000002, 0.14493, 0.86667000000000005, 0.033329999999999999, 0.0, 0.33333000000000002, 0.0, 0.0, 0.033329999999999999, 0.0, 0.0, 0.0, 0.033329999999999999, 0.0, 0.0, 0.16667000000000001, 0.033329999999999999, 0.033329999999999999, 0.0, 0.36667, 0.16667000000000001, 0.033329999999999999, 0.0, 0.0, 0.033329999999999999, 0.0, 0.0, 0.0, 0.0, 0.0, 0.13333, 0.0, 0.0, 0.13333, 0.066670000000000007, 0.033329999999999999, 0.066670000000000007, 0.033329999999999999, 0.0, 0.0, 0.0, 0.0, 0.10000000000000001, 0.033329999999999999, 0.0, 0.0, 0.0, 0.0, 0.0, 0.0, 0.033329999999999999, 0.10000000000000001, 0.066670000000000007, 0.0, 0.0, 0.0, 0.0, 0.0, 0.033329999999999999, 0.0, 0.23333000000000001, 0.0, 0.0, 0.43332999999999999, 0.0, 0.0, 0.0, 0.16667000000000001, 0.96667000000000003, 0.10000000000000001, 0.033329999999999999, 0.0, 0.0, 0.0, 0.0, 0.066670000000000007, 0.0, 0.0, 0.0, 0.033329999999999999, 0.0, 0.0, 0.0, 0.0, 0.0, 0.0, 0.033329999999999999, 0.0, 0.10000000000000001, 0.0, 0.0, 0.0, 0.23333000000000001, 0.0, 0.0, 0.0, 0.0, 0.033329999999999999, 0.0, 0.26666999999999996, 0.0, 0.0, 0.0, 0.066670000000000007, 0.0, 0.033329999999999999, 0.066670000000000007, 0.0, 0.0, 0.5, 0.0, 0.0, 0.0, 0.0, 0.0, 0.10000000000000001, 0.033329999999999999, 0.0, 0.0, 0.0, 0.0, 0.0, 0.033329999999999999, 0.0, 0.40000000000000002, 0.10000000000000001, 0.066670000000000007, 0.0, 1.43333, 0.066670000000000007, 0.0, 0.033329999999999999, 0.0, 0.0, 0.0, 0.0, 0.0, 0.16667000000000001, 0.0, 0.0, 0.066670000000000007, 0.10000000000000001, 0.033329999999999999, 0.23333000000000001, 0.0, 0.73333000000000004, 0.0, 0.066670000000000007, 0.0, 0.29999999999999999, 0.0, 0.0, 0.0, 0.16667000000000001, 0.066670000000000007, 0.0, 0.33333000000000002, 0.0, 0.0, 0.0, 0.0, 0.20000000000000001, 0.0, 0.26666999999999996, 0.033329999999999999, 0.20000000000000001, 0.0, 0.0, 0.033329999999999999, 0.10000000000000001, 0.0, 0.033329999999999999, 0.0, 0.0, 0.0, 0.0, 0.0, 0.0, 0.0, 0.63333000000000006, 2.1000000000000001, 0.0, 0.0, 0.033329999999999999, 0.0, 0.033329999999999999, 0.033329999999999999, 0.0, 0.0, 0.16667000000000001, 0.13333, 0.0, 0.066670000000000007, 0.53332999999999997, 0.0, 0.0, 0.20000000000000001, 0.0, 0.0, 0.0, 0.33333000000000002, 0.0, 0.13333, 0.0, 0.0, 0.033329999999999999, 0.0, 0.0, 0.56667000000000001, 0.033329999999999999, 0.033329999999999999, 0.0, 0.02913, 0.0, 0.0, 0.10000000000000001, 0.0, 0.13333, 0.0, 0.0, 0.0, 0.0, 0.066670000000000007, 0.0, 0.033329999999999999, 0.0, 0.0, 0.0, 0.0, 0.0, 0.0, 0.0, 0.0, 0.0, 0.16667000000000001, 0.0, 0.0, 0.0, 0.0, 0.0, 0.53332999999999997, 0.0, 0.0, 0.0, 0.16667000000000001, 0.0, 0.0, 0.0, 0.0, 0.0, 0.033329999999999999, 0.0, 0.0, 0.16667000000000001, 0.0, 0.0, 0.0, 0.0, 0.0, 0.23333000000000001, 0.0, 0.0, 0.0, 0.0, 0.0, 0.066670000000000007, 0.0, 0.0, 0.0, 0.0, 0.0, 0.0, 0.0, 0.0, 0.23333000000000001, 0.0, 0.033329999999999999, 0.0, 0.0, 0.20000000000000001, 0.0, 0.0, 0.0, 0.23333000000000001, 0.0, 0.0, 0.033329999999999999, 0.0, 0.066670000000000007, 0.16667000000000001, 0.0, 0.066670000000000007, 0.0, 0.0, 0.0, 0.0, 0.0, 0.0, 0.0, 0.23333000000000001, 0.0, 0.0, 0.033329999999999999, 0.0, 0.033329999999999999, 0.0, 0.033329999999999999, 0.0, 0.033329999999999999, 0.0, 0.033329999999999999, 0.13333, 0.0, 0.0, 0.0, 0.033329999999999999, 0.0, 0.0, 0.0, 0.033329999999999999, 0.0, 0.0, 0.033329999999999999, 0.0, 0.36667, 0.0, 0.10000000000000001, 0.40000000000000002, 0.20000000000000001, 0.033329999999999999, 0.0, 0.0, 0.033329999999999999, 0.0, 0.23333000000000001, 0.0, 0.0, 0.0, 0.0, 0.033329999999999999, 0.0, 0.0, 0.10000000000000001, 0.0, 0.0, 0.0, 0.033329999999999999, 0.0, 0.066670000000000007, 0.23333000000000001, 0.0, 0.0, 0.0, 0.53332999999999997, 0.33333000000000002, 0.033329999999999999, 0.0, 0.0, 0.0, 0.0, 0.0, 0.0, 0.0, 0.0, 0.0, 0.5, 0.0, 0.10000000000000001, 0.066670000000000007, 0.20000000000000001, 0.0, 0.23333000000000001, 0.033329999999999999, 0.0, 0.13333, 0.0, 0.066670000000000007, 0.033329999999999999, 0.0, 0.16667000000000001, 0.0, 0.0, 0.0, 0.0, 0.0, 0.0, 0.0, 0.0, 0.20000000000000001, 0.0, 0.033329999999999999, 0.0, 0.033329999999999999, 0.0, 0.0, 0.13333, 0.033329999999999999, 0.0, 0.0, 0.10000000000000001, 0.43332999999999999, 0.0, 0.0, 0.0, 0.033329999999999999, 0.0, 0.0, 0.0, 0.0, 0.10000000000000001, 0.0, 0.0, 0.0, 0.0, 0.066670000000000007, 0.0, 0.0, 0.066670000000000007, 0.0, 0.0, 0.0, 0.0, 0.0, 0.0, 0.0, 0.0, 0.0, 0.0, 0.0, 0.0, 0.16667000000000001, 0.033329999999999999, 0.33333000000000002, 0.0, 0.0, 0.0, 0.13333, 0.36667, 0.0, 0.13333, 0.0, 0.066670000000000007, 0.0, 0.0, 0.0, 0.066670000000000007, 0.0, 0.0, 0.0, 0.43332999999999999, 0.26666999999999996, 0.0, 0.0, 0.13333, 0.0, 0.0, 0.0, 0.066670000000000007, 0.0, 0.0, 0.0, 0.0, 0.0, 0.0, 0.0, 0.0, 0.0, 0.0, 0.13333, 0.23333000000000001, 0.0, 0.0, 0.13333, 0.0, 0.10000000000000001, 0.0, 0.23333000000000001, 0.066670000000000007, 0.0, 0.93332999999999988, 0.20000000000000001, 0.13333, 0.0, 0.033329999999999999, 0.0, 0.033329999999999999, 0.0, 0.29999999999999999, 0.066670000000000007, 0.0, 0.0, 0.0, 0.0, 0.0, 0.033329999999999999, 0.0, 0.0, 0.0, 0.0, 0.10000000000000001, 2.26667, 0.0, 0.0, 0.0, 0.0, 0.0, 0.0, 0.0, 0.033329999999999999, 0.0, 0.0, 0.13333, 0.066670000000000007, 0.0, 0.0, 0.0, 0.0, 0.0, 0.0, 0.0, 0.0, 0.0, 0.0, 0.033329999999999999, 0.0, 0.0, 0.0, 0.0, 0.033329999999999999, 0.0, 0.033329999999999999, 0.0, 1.0333299999999999, 0.10000000000000001, 0.0, 0.10000000000000001, 0.0, 0.033329999999999999, 0.0, 0.26666999999999996, 0.5, 0.066670000000000007, 0.0, 0.0, 0.0, 0.0, 0.0, 0.0, 0.066670000000000007, 0.10000000000000001, 0.0, 0.0, 0.0, 0.10000000000000001, 0.0, 0.0, 0.10000000000000001, 0.0, 0.16667000000000001, 0.0, 0.0, 0.10000000000000001, 0.0, 0.0, 0.33333000000000002, 0.0, 0.0, 0.16667000000000001, 0.0, 0.0, 1.3999999999999999, 0.0, 0.0, 0.0, 0.33333000000000002, 0.0, 0.76666999999999996, 0.0, 0.033329999999999999, 0.0, 0.0, 0.0, 0.066670000000000007, 0.0, 0.066670000000000007, 0.0, 0.0, 0.5, 0.066670000000000007, 0.0, 0.0, 0.0, 0.13333, 0.0, 0.23333000000000001, 0.0, 0.0, 0.0, 0.0, 0.0, 0.0, 0.033329999999999999, 0.0, 0.033329999999999999, 0.13333, 0.13333, 0.90000000000000002, 0.0, 0.0, 0.0, 0.0, 0.0, 0.36667, 0.0, 0.0, 0.13333, 0.0, 0.16667000000000001, 0.0, 0.0, 0.13333, 0.066670000000000007, 0.13333, 0.0, 0.0, 0.0, 0.0, 0.0, 0.033329999999999999, 0.066670000000000007, 0.0, 0.0, 0.16667000000000001, 0.0, 0.26666999999999996, 0.0, 0.0, 0.033329999999999999, 0.33333000000000002, 0.033329999999999999, 0.0, 0.066670000000000007, 0.0, 0.0, 0.0, 0.0, 0.0, 0.0, 0.0, 0.0, 0.0, 0.0, 0.0, 0.0, 0.0, 0.0, 0.0, 0.066670000000000007, 0.0, 0.0, 0.033329999999999999, 0.0, 0.0, 0.0, 0.20000000000000001, 0.0, 0.033329999999999999, 0.13333, 0.0, 0.0, 0.10000000000000001, 0.20000000000000001, 0.0, 0.16667000000000001, 0.0, 0.0, 0.0, 0.066670000000000007, 0.0, 0.0, 0.0, 0.86667000000000005, 0.0, 0.0, 0.066670000000000007, 0.10000000000000001, 0.0, 0.0, 0.0, 0.0, 0.43332999999999999, 0.59999999999999998, 0.26666999999999996, 0.0, 0.066670000000000007, 0.0, 0.033329999999999999, 0.20000000000000001, 0.033329999999999999, 0.10000000000000001, 0.033329999999999999, 0.33333000000000002, 0.0, 0.23333000000000001, 0.033329999999999999, 0.0, 0.0, 0.0, 0.0, 0.0, 0.033329999999999999, 0.0, 0.10000000000000001, 0.0, 0.0, 0.0, 0.0, 0.0, 0.0, 0.90000000000000002, 0.40000000000000002, 0.033329999999999999, 0.0, 0.0, 0.0, 0.0, 0.0, 0.033329999999999999, 0.76666999999999996, 0.0, 0.0, 0.0, 0.0, 0.0, 0.26666999999999996, 0.066670000000000007, 0.0, 1.0, 0.0, 0.46666999999999997, 0.0, 0.0, 0.18667, 0.0, 0.033329999999999999, 0.033329999999999999, 0.0, 0.0, 0.066670000000000007, 0.0, 0.0, 0.0, 0.033329999999999999, 0.0, 0.0, 0.0, 0.066670000000000007, 0.033329999999999999, 0.0, 0.0, 0.40000000000000002, 0.0, 0.0, 0.0, 0.0, 0.033329999999999999, 0.33333000000000002, 0.0, 0.033329999999999999, 0.066670000000000007, 0.0, 0.0, 0.13333, 0.0, 0.0, 0.13333, 0.20000000000000001, 0.10000000000000001, 0.0, 0.0, 0.0, 0.0, 0.16667000000000001, 0.033329999999999999, 0.0, 0.033329999999999999, 0.0, 0.0, 0.0, 0.0, 0.0, 0.033329999999999999, 0.0, 0.0, 0.0, 0.0, 0.0, 0.066670000000000007, 0.0, 0.0, 0.0, 0.0, 0.0, 0.066670000000000007, 0.0, 0.0, 0.0, 0.20000000000000001, 0.5, 0.0, 0.066670000000000007, 0.0, 0.0, 0.0, 0.0, 0.033329999999999999, 0.033329999999999999, 0.0, 0.033329999999999999, 0.0, 0.0, 0.0, 0.0, 0.0, 0.0, 0.46666999999999997, 0.16667000000000001, 0.0, 0.066670000000000007, 0.0, 0.0, 0.0, 0.066670000000000007, 0.0, 0.0, 0.0, 0.0, 0.0, 0.16667000000000001, 0.0, 0.0, 0.0, 0.0, 0.10000000000000001, 0.0, 0.066670000000000007, 0.0, 0.0, 0.0, 0.0, 0.0, 0.033329999999999999, 0.0, 0.80000000000000004, 0.0, 0.0, 0.10000000000000001, 0.0, 0.20000000000000001, 0.16667000000000001, 0.033329999999999999, 0.0, 1.3333299999999999, 0.0, 0.0, 0.0, 0.26666999999999996, 0.0, 0.0, 0.0, 0.0, 0.53332999999999997, 0.0, 0.0, 0.26666999999999996, 0.0, 1.1666700000000001, 0.066670000000000007, 0.0, 0.0, 0.066670000000000007, 0.0, 0.033329999999999999, 0.29999999999999999, 0.0, 0.0, 0.0, 0.76666999999999996, 0.0, 0.0, 0.20000000000000001, 0.0, 0.33333000000000002, 0.0, 0.0, 0.10000000000000001, 0.0, 0.0, 0.033329999999999999, 0.16667000000000001, 0.0, 2.3666700000000001, 0.0, 0.0, 0.0, 0.0, 0.0, 0.033329999999999999, 0.0, 0.0, 0.20000000000000001, 0.0, 0.0, 0.20000000000000001, 0.0, 0.20000000000000001, 0.0, 0.0, 0.0, 0.0, 0.23333000000000001, 0.066670000000000007, 0.0, 0.46666999999999997, 0.033329999999999999, 0.0, 0.033329999999999999, 0.0, 0.0, 0.0, 0.033329999999999999, 0.0, 0.0, 0.0, 0.0, 0.0, 0.0, 0.0, 0.066670000000000007, 0.0, 0.0, 0.0, 0.0, 0.0, 0.16667000000000001, 0.23333000000000001, 0.0, 0.0, 0.0, 0.033329999999999999, 0.0, 0.0, 0.0, 0.13333, 0.0, 0.0, 0.0, 0.0, 0.0, 0.13333, 0.0, 0.0, 0.10000000000000001, 0.0, 0.0, 0.0, 0.0, 0.0, 0.0, 0.16667000000000001, 0.16667000000000001, 0.0, 0.0, 0.0, 0.0, 0.0, 0.26666999999999996, 0.0, 0.0, 0.033329999999999999, 0.0, 0.0, 0.0, 1.23333, 0.033329999999999999, 0.033329999999999999, 0.066670000000000007, 0.0, 0.0, 1.3333299999999999, 0.0, 0.0, 0.0, 0.033329999999999999, 0.0, 0.0, 0.0, 0.0, 0.0, 0.033329999999999999, 0.0, 0.0, 0.10000000000000001, 0.0, 0.033329999999999999, 0.0, 0.0, 0.0, 0.0, 0.23333000000000001, 0.0, 0.0, 0.0, 0.0, 0.0, 0.13333, 0.0, 0.0, 0.0, 0.0, 0.0, 0.0, 0.0, 0.033329999999999999, 0.0, 0.20000000000000001, 0.0, 0.0, 0.0, 0.0, 0.0, 0.0, 0.0, 0.0, 0.0, 0.0, 0.0, 0.23333000000000001, 0.0, 0.0, 0.23333000000000001, 0.0, 0.066670000000000007, 0.0, 0.66666999999999998, 0.066670000000000007, 0.066670000000000007, 0.0, 0.0, 0.0, 0.26666999999999996, 0.0, 0.0, 0.10000000000000001, 0.0, 0.0, 0.033329999999999999, 0.0, 0.0, 0.0, 0.0, 0.63333000000000006, 0.0, 0.0, 0.0, 0.0, 0.0, 0.033329999999999999, 0.033329999999999999, 0.0, 0.26666999999999996, 0.0, 0.0, 0.0, 0.0, 0.0, 0.033329999999999999, 0.0, 0.066670000000000007, 0.0, 0.0, 0.0, 0.066670000000000007, 0.0, 0.0, 0.26666999999999996, 0.0, 0.0, 0.0, 0.0, 0.066670000000000007, 0.0, 0.033329999999999999, 0.033329999999999999, 0.46666999999999997, 0.0, 0.0, 0.0, 0.0, 0.20000000000000001, 0.033329999999999999, 0.066670000000000007, 0.0, 0.0, 0.033329999999999999, 0.0, 0.0, 0.0, 0.0, 0.033329999999999999, 0.0, 0.63333000000000006, 0.0, 0.56667000000000001, 0.0, 0.0, 0.0, 0.0, 0.10000000000000001, 0.53332999999999997, 0.0, 0.033329999999999999, 0.0, 0.02853, 0.10000000000000001, 0.69999999999999996, 0.40000000000000002, 0.0, 0.0, 0.0, 0.033329999999999999, 0.0, 0.0, 0.0, 0.0, 0.0, 0.033329999999999999, 0.0, 0.26666999999999996, 0.033329999999999999, 0.0, 0.0, 0.0, 0.0, 0.0, 0.033329999999999999, 0.0, 0.033329999999999999, 0.033329999999999999, 0.0, 0.0, 0.0, 0.20000000000000001, 0.0, 0.0, 0.0, 0.13333, 0.0, 0.0, 0.8333299999999999, 0.033329999999999999, 0.0, 0.0, 0.0, 0.066670000000000007, 0.0, 0.8333299999999999, 0.0, 0.0, 0.0, 0.26666999999999996, 0.20000000000000001, 0.0, 0.0, 0.13333, 0.0, 0.033329999999999999, 0.066670000000000007, 0.0, 0.033329999999999999, 0.0, 0.0, 0.033329999999999999, 0.0, 0.0, 0.0, 0.40000000000000002, 0.0, 0.59999999999999998, 0.10000000000000001, 0.0, 0.0, 0.0, 0.0, 0.0, 0.23333000000000001, 0.033329999999999999, 0.0, 0.10000000000000001, 0.066670000000000007, 0.0, 0.0, 0.066670000000000007, 0.0, 0.0, 0.0, 0.033329999999999999, 0.033329999999999999, 0.0, 0.033329999999999999, 0.16667000000000001, 0.033329999999999999, 0.0, 0.5, 0.0, 0.0, 0.0, 0.033329999999999999, 0.0, 0.0, 0.0, 0.033329999999999999, 0.0, 0.0, 0.0, 0.0, 0.0, 1.4666700000000001, 0.066670000000000007, 0.10000000000000001, 0.033329999999999999, 0.033329999999999999, 0.033329999999999999, 0.033329999999999999, 0.0, 0.033329999999999999, 0.033329999999999999, 0.13333, 0.26666999999999996, 0.13333, 0.0, 0.0, 0.0, 0.066670000000000007, 0.0, 0.0, 0.0, 0.033329999999999999, 0.033329999999999999, 0.033329999999999999, 0.033329999999999999, 1.76667, 0.0, 0.13333, 0.0, 0.0, 0.0, 0.0, 0.066670000000000007, 0.0, 0.0, 0.0, 0.0, 0.066670000000000007, 0.033329999999999999, 0.0, 0.53332999999999997, 0.066670000000000007, 0.0, 0.0, 0.0, 0.0, 0.0, 0.0, 0.0, 0.066670000000000007, 0.13333, 0.0, 0.0, 0.0, 0.0, 0.033329999999999999, 0.033329999999999999, 0.0, 0.16667000000000001, 0.033329999999999999, 0.0, 0.0, 0.0, 0.066670000000000007, 0.46666999999999997, 0.26666999999999996, 0.69999999999999996, 0.0, 0.0, 0.0, 0.0, 0.0, 0.0, 0.0, 0.13333, 0.033329999999999999, 0.16667000000000001, 0.0, 0.20000000000000001, 0.033329999999999999, 0.0, 0.0, 0.0, 0.0, 0.0, 0.033329999999999999, 0.066670000000000007, 0.033329999999999999, 0.0, 0.033329999999999999, 0.033329999999999999, 0.066670000000000007, 0.0, 0.0, 0.066670000000000007, 0.066670000000000007, 0.0, 0.0, 0.0, 0.0, 0.0, 0.0, 0.0, 0.0, 0.0, 0.26666999999999996, 0.033329999999999999, 0.0, 0.0, 0.0, 0.0, 0.0, 0.0, 0.0, 0.0, 0.13333, 0.29999999999999999, 0.0, 0.0, 0.0, 0.13333, 0.10000000000000001, 0.0, 0.0, 0.0, 0.20000000000000001, 0.0, 0.0, 0.033329999999999999, 0.10000000000000001, 0.0, 0.0, 0.0, 0.0, 0.033329999999999999, 0.0, 0.0, 0.0, 0.0, 0.0, 0.0, 0.23333000000000001, 0.0, 0.066670000000000007, 0.0, 0.0, 0.0, 0.0, 0.0, 0.5, 0.066670000000000007, 0.0, 0.0, 0.0, 0.13333, 0.0, 0.0, 0.0, 0.0, 0.0, 0.0, 0.29999999999999999, 0.0, 0.0, 0.066670000000000007, 0.0, 0.0, 0.033329999999999999, 0.0, 0.0, 0.0, 0.0, 0.033329999999999999, 0.0, 0.0, 0.16667000000000001, 4.3666700000000001, 0.0, 0.0, 0.0, 0.0, 0.0, 0.033329999999999999, 0.0, 0.033329999999999999, 0.0, 0.066670000000000007, 0.0, 0.10000000000000001, 0.29999999999999999, 0.0, 0.0, 0.0, 0.033329999999999999, 0.066670000000000007, 0.0, 0.10000000000000001, 0.0, 0.0, 0.033329999999999999, 0.033329999999999999, 0.033329999999999999, 0.0, 0.33333000000000002, 0.0, 0.0, 0.0, 0.0, 0.0, 0.0, 0.0, 0.033329999999999999, 0.0, 0.0, 0.0, 0.16667000000000001, 0.0, 0.033329999999999999, 0.033329999999999999, 0.0, 0.10000000000000001, 1.0333299999999999, 0.066670000000000007, 0.0, 0.0, 0.033329999999999999, 0.0, 0.0, 0.0, 0.0, 0.066670000000000007, 0.0, 0.0, 0.0, 0.0, 0.0, 0.0, 0.23333000000000001, 0.0, 0.0, 0.33333000000000002, 0.0, 0.0, 0.066670000000000007, 0.13333, 0.0, 0.0, 0.0, 0.0, 0.0, 0.0, 0.28739999999999999, 0.0, 0.0, 1.23333, 0.0, 0.066670000000000007, 0.0, 0.0, 0.10000000000000001, 0.0, 0.0, 0.0, 0.0, 0.0, 0.0, 0.13333, 0.36667, 0.0, 0.033329999999999999, 0.0, 0.13333, 0.0, 0.0, 0.0, 0.0, 0.033329999999999999, 0.0, 0.0, 0.033329999999999999, 0.0, 0.33333000000000002, 0.13333, 0.0, 0.066670000000000007, 0.0, 0.066670000000000007, 0.0, 0.0, 2.23333, 0.0, 0.066670000000000007, 0.0, 0.066670000000000007, 0.36667, 0.0, 0.0, 0.0, 0.0, 0.0, 0.0, 0.0, 0.0, 0.0, 0.13333, 0.066670000000000007, 0.0, 0.033329999999999999, 0.0, 0.033329999999999999, 0.0, 0.033329999999999999, 0.0, 0.0, 0.033329999999999999, 0.0, 0.0, 0.0, 0.26666999999999996, 0.0, 0.0, 0.0, 0.0, 0.0, 0.0, 0.0, 0.0, 0.0, 0.10000000000000001, 0.0, 0.0, 0.033329999999999999, 0.0, 0.10000000000000001, 0.0, 0.0, 0.13333, 0.0, 0.0, 0.0, 0.20000000000000001, 0.0, 0.0, 0.0, 0.56667000000000001, 0.0, 0.033329999999999999, 0.0, 0.033329999999999999, 0.0, 0.0, 0.0, 0.0, 0.0, 0.0, 0.0, 0.0, 0.066670000000000007, 0.0, 0.0, 0.066670000000000007, 0.0, 0.0, 0.0, 0.0, 0.0, 0.43332999999999999, 0.033329999999999999, 0.0, 0.0, 0.0, 0.033329999999999999, 0.0, 0.033329999999999999, 0.033329999999999999, 0.13333, 0.0, 0.0, 0.0, 0.0, 0.0, 0.10000000000000001, 0.066670000000000007, 0.066670000000000007, 0.13333, 0.0, 0.0, 0.0, 0.0, 0.0, 0.0, 0.0, 0.0, 0.36667, 0.0, 1.1666700000000001, 0.8333299999999999, 0.0, 0.0, 0.033329999999999999, 0.0, 0.0, 0.0, 0.0, 0.0, 0.0, 0.0, 0.0, 0.066670000000000007, 0.5, 0.066670000000000007, 0.066670000000000007, 0.10000000000000001, 0.033329999999999999, 0.56667000000000001, 0.033329999999999999, 0.066670000000000007, 0.0, 0.0, 0.035269999999999996, 0.066670000000000007, 0.0, 0.0, 0.0, 0.0, 0.0, 0.066670000000000007, 0.0, 0.033329999999999999, 0.0, 0.0, 0.066670000000000007, 0.0, 0.033329999999999999, 0.033329999999999999, 0.0, 0.23333000000000001, 0.0, 0.033329999999999999, 0.0, 0.0, 0.033329999999999999, 0.0, 0.0, 0.0, 0.0, 0.0, 0.93332999999999988, 0.033329999999999999, 0.0, 0.0, 0.0, 0.76666999999999996, 0.0, 0.10000000000000001, 0.16667000000000001, 0.0, 0.033329999999999999, 0.23333000000000001, 0.0, 0.066670000000000007, 0.0, 0.066670000000000007, 0.80000000000000004, 0.0, 0.033329999999999999, 0.0, 0.066670000000000007, 0.0, 0.0, 0.0, 0.10000000000000001, 0.0, 0.0, 0.033329999999999999, 0.0, 0.0, 0.0, 0.0, 0.033329999999999999, 0.8333299999999999, 0.033329999999999999, 0.0, 0.066670000000000007, 0.0, 0.0, 0.033329999999999999, 0.0, 0.033329999999999999, 0.0, 0.23333000000000001, 0.0, 0.066670000000000007, 0.0, 0.0, 0.16667000000000001, 0.0, 0.0, 0.0, 0.0, 0.033329999999999999, 0.0, 0.0, 0.0, 0.066670000000000007, 0.0, 0.066670000000000007, 0.0, 0.0, 0.0, 0.0, 0.0, 0.0, 0.0, 0.26666999999999996, 0.16667000000000001, 0.033329999999999999, 0.0, 0.033329999999999999, 0.0, 0.0, 0.033329999999999999, 1.93333, 0.033329999999999999, 0.033329999999999999, 0.0, 0.0, 0.0, 0.0, 0.033329999999999999, 0.033329999999999999, 0.0, 0.0, 0.0, 0.0, 0.0, 0.0, 0.0, 0.0, 0.20000000000000001, 0.0, 0.0, 0.0, 0.0, 0.0, 0.13333, 0.0, 0.0, 4.3666700000000001, 0.0, 0.13333, 0.033329999999999999, 0.0, 0.0, 0.0, 0.20000000000000001, 0.0, 0.0, 0.033329999999999999, 0.80000000000000004, 0.0, 0.13333, 0.0, 0.0, 0.0, 0.0, 0.0, 0.43332999999999999, 0.033329999999999999, 0.0, 0.0, 0.0, 0.066670000000000007, 0.0, 0.033329999999999999, 0.0, 0.0, 0.0, 0.0, 0.0, 0.26666999999999996, 0.0, 0.066670000000000007, 0.0, 0.33333000000000002, 0.0, 0.0, 0.0, 0.0, 0.0, 0.0, 0.0, 0.0, 0.0, 0.0, 0.0, 0.0, 0.0, 0.033329999999999999, 0.0, 0.0, 0.0, 0.10000000000000001, 0.0, 0.16667000000000001, 0.066670000000000007, 0.066670000000000007, 0.0, 0.066670000000000007, 0.10000000000000001, 0.10000000000000001, 0.0, 0.0, 0.0, 0.0, 0.0, 0.0, 0.0, 0.066670000000000007, 0.0, 0.0, 0.0, 0.0, 0.0, 0.0, 0.0, 0.23333000000000001, 0.033329999999999999, 0.0, 0.0, 0.29999999999999999, 0.0, 0.066670000000000007, 0.0, 0.0, 0.0, 0.0, 1.1000000000000001, 0.0, 0.0, 0.033329999999999999, 0.0, 0.0, 0.0, 0.0, 0.0, 0.0, 0.0, 0.0, 0.26666999999999996, 0.066670000000000007, 0.0, 0.0, 0.0, 0.0, 0.0, 0.033329999999999999, 0.0, 0.0, 0.0, 0.0, 0.0, 0.0, 0.0, 0.0, 0.10000000000000001, 0.0, 0.0, 0.0, 0.014169999999999999, 0.0, 0.0, 0.0, 0.43332999999999999, 0.0, 0.066670000000000007, 0.0, 0.0, 0.033329999999999999, 0.066670000000000007, 0.0, 0.20000000000000001, 0.26666999999999996, 0.0, 0.0, 0.10000000000000001, 0.0, 0.033329999999999999, 0.0, 0.0, 0.033329999999999999, 0.26666999999999996, 0.5, 0.0, 0.0, 0.0, 0.0, 0.0, 0.0, 0.0, 0.0, 0.0, 0.033329999999999999, 0.13333, 0.033329999999999999, 0.16667000000000001, 0.26666999999999996, 0.0, 0.0, 0.033329999999999999, 0.066670000000000007, 0.0, 0.0, 0.20000000000000001, 0.0, 0.0, 0.0, 0.0, 0.10000000000000001, 0.066670000000000007, 0.36667, 0.0, 0.033329999999999999, 0.0, 0.0, 0.066670000000000007, 0.033329999999999999, 0.0, 0.0, 0.0, 0.0, 0.0, 0.0, 0.0, 0.0, 0.033329999999999999, 0.0, 0.13333, 0.10000000000000001, 0.10000000000000001, 0.066670000000000007, 0.0, 0.066670000000000007, 0.066670000000000007, 0.0, 0.0, 0.0, 0.066670000000000007, 0.0, 0.0, 0.0, 0.0, 0.0, 0.0, 0.0, 0.0, 0.0, 0.0, 0.033329999999999999, 0.0, 0.0, 0.0, 0.0, 0.0, 0.0, 0.0, 0.0, 0.033329999999999999, 0.0, 0.0, 0.0, 1.0333299999999999, 0.0, 0.0, 0.0, 0.033329999999999999, 0.0, 0.0, 0.0, 0.0, 0.033329999999999999, 0.16667000000000001, 0.033329999999999999, 0.033329999999999999, 0.26666999999999996, 0.0, 0.033329999999999999, 0.16667000000000001, 0.0, 0.0, 0.0, 0.0, 0.0, 0.0, 0.0, 0.0, 0.0, 0.0, 0.0, 0.0, 0.0, 0.23333000000000001, 0.0, 0.0, 0.066670000000000007, 0.0, 0.0, 0.16667000000000001, 0.20000000000000001, 0.0, 0.0, 0.0, 0.26666999999999996, 0.0, 0.0, 0.033329999999999999, 0.0, 0.0, 0.0, 0.0, 0.0, 0.0, 0.13333, 0.26666999999999996, 0.066670000000000007, 0.0, 0.0, 0.0, 0.0, 0.033329999999999999, 0.0, 0.0, 0.0, 0.033329999999999999, 0.0, 0.36667, 0.0, 0.0, 0.066670000000000007, 0.0, 0.0, 0.033329999999999999, 0.033329999999999999, 0.0, 0.0, 0.033329999999999999, 0.0, 0.36667, 0.0, 0.0, 0.40000000000000002, 0.0, 0.0, 0.033329999999999999, 0.0, 0.0, 0.0, 0.0, 0.066670000000000007, 0.066670000000000007, 0.0, 0.20000000000000001, 0.0, 0.033329999999999999, 0.0, 0.0, 0.0, 0.0, 0.066670000000000007, 0.033329999999999999, 0.0, 0.0, 0.0, 0.0, 0.16667000000000001, 0.033329999999999999, 0.0, 0.0, 0.0, 0.0, 0.0, 0.0, 0.29999999999999999, 0.033329999999999999, 0.066670000000000007, 0.0, 0.0, 0.0, 0.0, 0.033329999999999999, 0.0, 0.066670000000000007, 0.0, 0.0, 0.0, 0.0, 0.0, 0.0, 0.0, 0.0, 0.20000000000000001, 0.0, 0.0, 0.0, 0.40000000000000002, 0.033329999999999999, 0.033329999999999999, 0.0, 0.0, 0.0, 0.033329999999999999, 0.0, 0.20000000000000001, 0.0, 0.0, 0.066670000000000007, 0.033329999999999999, 0.0, 0.0, 0.0, 0.0, 0.0, 0.0, 0.0, 0.0, 0.0, 0.0, 0.066670000000000007, 0.10000000000000001, 0.10000000000000001, 0.033329999999999999, 0.0, 0.0, 0.0, 0.0, 0.033329999999999999, 0.066670000000000007, 0.0, 0.0, 0.46666999999999997, 0.20000000000000001, 0.0, 0.40000000000000002, 0.033329999999999999, 0.0, 0.0, 0.0, 0.0, 0.0, 0.0, 0.0, 0.0, 0.0]\n"
     ]
    },
    {
     "data": {
      "image/png": "[encoded data removed]",
      "text/plain": [
       "<matplotlib.figure.Figure at 0x347317898>"
      ]
     },
     "metadata": {},
     "output_type": "display_data"
    }
   ],
   "source": [
    "%run python/regression/GenericLasso.py"
   ]
  },
  {
   "cell_type": "code",
   "execution_count": null,
   "metadata": {},
   "outputs": [],
   "source": [
    ""
   ]
  }
 ],
 "metadata": {
  "kernelspec": {
   "display_name": "Python 3",
   "language": "python",
   "name": "python3"
  },
  "language_info": {
   "codemirror_mode": {
    "name": "ipython",
    "version": 3.0
   },
   "file_extension": ".py",
   "mimetype": "text/x-python",
   "name": "python",
   "nbconvert_exporter": "python",
   "pygments_lexer": "ipython3",
   "version": "3.6.1"
  }
 },
 "nbformat": 4,
 "nbformat_minor": 0
}