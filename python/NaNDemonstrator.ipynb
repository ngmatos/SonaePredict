{
 "cells": [
  {
   "cell_type": "code",
   "execution_count": 1,
   "metadata": {},
   "outputs": [
    {
     "name": "stdout",
     "output_type": "stream",
     "text": [
      "Demonstrating that some columns are useless for the problem\n",
      "        location_cd     promotion      time_key           sku    change_pct  \\\n",
      "count  4.547103e+06  4.547103e+06  4.547103e+06  4.547103e+06  4.547103e+06   \n",
      "mean   7.066864e+02  2.789119e+06  2.015956e+07  4.746409e+06  3.083310e-01   \n",
      "std    8.231066e+02  4.319622e+04  3.185270e+03  1.221740e+06  1.112602e-01   \n",
      "min    1.000000e+00  2.728381e+06  2.015080e+07  2.076395e+06  3.500000e-02   \n",
      "25%    2.370000e+02  2.765875e+06  2.016040e+07  4.276377e+06  2.500000e-01   \n",
      "50%    2.970000e+02  2.790704e+06  2.016073e+07  5.330760e+06  2.540000e-01   \n",
      "75%    1.004000e+03  2.803205e+06  2.016100e+07  5.632678e+06  3.570000e-01   \n",
      "max    4.552000e+03  2.998700e+06  2.016113e+07  6.000772e+06  8.240000e-01   \n",
      "\n",
      "       price_promotion   price_retail  mailing_ind  tematico_ind  topo_in  \\\n",
      "count              0.0  636549.000000          0.0      133403.0      0.0   \n",
      "mean               NaN       4.554971          NaN           1.0      NaN   \n",
      "std                NaN       2.471469          NaN           0.0      NaN   \n",
      "min                NaN       0.650000          NaN           1.0      NaN   \n",
      "25%                NaN       2.290000          NaN           1.0      NaN   \n",
      "50%                NaN       4.350000          NaN           1.0      NaN   \n",
      "75%                NaN       5.890000          NaN           1.0      NaN   \n",
      "max                NaN      25.990000          NaN           1.0      NaN   \n",
      "\n",
      "                  ...                     price  price_grp          card  \\\n",
      "count             ...              4.547103e+06        0.0  4.547103e+06   \n",
      "mean              ...              8.802798e-01        NaN  9.588391e-02   \n",
      "std               ...              3.246341e-01        NaN  2.944320e-01   \n",
      "min               ...              0.000000e+00        NaN  0.000000e+00   \n",
      "25%               ...              1.000000e+00        NaN  0.000000e+00   \n",
      "50%               ...              1.000000e+00        NaN  0.000000e+00   \n",
      "75%               ...              1.000000e+00        NaN  0.000000e+00   \n",
      "max               ...              1.000000e+00        NaN  1.000000e+00   \n",
      "\n",
      "       card_group  lxpy  monofolha_ind  quantity_int  gross_sls_amt_eur_int  \\\n",
      "count         0.0   0.0            0.0  4.547103e+06           4.547103e+06   \n",
      "mean          NaN   NaN            NaN  2.025553e+00           4.922551e+00   \n",
      "std           NaN   NaN            NaN  1.267625e+01           1.905848e+01   \n",
      "min           NaN   NaN            NaN -6.450000e-01          -9.610000e-01   \n",
      "25%           NaN   NaN            NaN  0.000000e+00           0.000000e+00   \n",
      "50%           NaN   NaN            NaN  1.333300e-01           5.370000e-01   \n",
      "75%           NaN   NaN            NaN  7.777300e-01           2.641330e+00   \n",
      "max           NaN   NaN            NaN  1.127192e+03           1.337435e+03   \n",
      "\n",
      "       quantity_time_key  gross_sls_amt_eur_time_key  \n",
      "count       4.547103e+06                4.547103e+06  \n",
      "mean        1.071432e-01                2.357931e-01  \n",
      "std         6.688828e-01                1.088974e+00  \n",
      "min        -5.892370e+00               -1.498533e+01  \n",
      "25%         0.000000e+00                0.000000e+00  \n",
      "50%         0.000000e+00                0.000000e+00  \n",
      "75%         3.333000e-02                9.967000e-02  \n",
      "max         9.139263e+01                3.524433e+02  \n",
      "\n",
      "[8 rows x 23 columns]\n"
     ]
    }
   ],
   "source": [
    "import pandas as pd\n",
    "\n",
    "print('Demonstrating that some columns are useless for the problem')\n",
    "\n",
    "df = pd.read_pickle('h5/AggregatedDataset.pkl')\n",
    "\n",
    "stat = df.describe()\n",
    "\n",
    "print(stat)\n",
    "\n",
    "del stat\n",
    "del df"
   ]
  }
 ],
 "metadata": {
  "kernelspec": {
   "display_name": "Python 3",
   "language": "python",
   "name": "python3"
  },
  "language_info": {
   "codemirror_mode": {
    "name": "ipython",
    "version": 3.0
   },
   "file_extension": ".py",
   "mimetype": "text/x-python",
   "name": "python",
   "nbconvert_exporter": "python",
   "pygments_lexer": "ipython3",
   "version": "3.6.1"
  }
 },
 "nbformat": 4,
 "nbformat_minor": 0
}